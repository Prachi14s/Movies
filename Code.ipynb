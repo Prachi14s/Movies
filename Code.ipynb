{
 "cells": [
  {
   "cell_type": "markdown",
   "metadata": {
    "collapsed": true
   },
   "source": [
    "# Movie Data Analysis"
   ]
  },
  {
   "cell_type": "markdown",
   "metadata": {},
   "source": [
    "### We will explore and analyze each feature given in dataset for movies and create visualizations for more clear picture.We will then show correlations between all features for some useful insights from dataset. "
   ]
  },
  {
   "cell_type": "markdown",
   "metadata": {},
   "source": [
    "### importing all dependencies "
   ]
  },
  {
   "cell_type": "code",
   "execution_count": 2,
   "metadata": {
    "collapsed": false
   },
   "outputs": [],
   "source": [
    "import pandas as pd\n",
    "import numpy as np\n",
    "\n",
    "import matplotlib.pyplot as plt\n",
    "%matplotlib inline\n",
    "import seaborn as sns\n",
    "sns.set_style('whitegrid')\n",
    "\n",
    "import warnings\n",
    "warnings.filterwarnings('ignore')"
   ]
  },
  {
   "cell_type": "markdown",
   "metadata": {
    "collapsed": true
   },
   "source": [
    "### importing and loading data"
   ]
  },
  {
   "cell_type": "code",
   "execution_count": 3,
   "metadata": {
    "collapsed": true
   },
   "outputs": [],
   "source": [
    "df=pd.read_csv(\"/resources/data/Movie_assignment.csv\")"
   ]
  },
  {
   "cell_type": "code",
   "execution_count": 4,
   "metadata": {
    "collapsed": false,
    "scrolled": true
   },
   "outputs": [
    {
     "data": {
      "text/html": [
       "<div>\n",
       "<style scoped>\n",
       "    .dataframe tbody tr th:only-of-type {\n",
       "        vertical-align: middle;\n",
       "    }\n",
       "\n",
       "    .dataframe tbody tr th {\n",
       "        vertical-align: top;\n",
       "    }\n",
       "\n",
       "    .dataframe thead th {\n",
       "        text-align: right;\n",
       "    }\n",
       "</style>\n",
       "<table border=\"1\" class=\"dataframe\">\n",
       "  <thead>\n",
       "    <tr style=\"text-align: right;\">\n",
       "      <th></th>\n",
       "      <th>budget</th>\n",
       "      <th>genres</th>\n",
       "      <th>homepage</th>\n",
       "      <th>id</th>\n",
       "      <th>keywords</th>\n",
       "      <th>original_language</th>\n",
       "      <th>original_title</th>\n",
       "      <th>overview</th>\n",
       "      <th>popularity</th>\n",
       "      <th>production_companies</th>\n",
       "      <th>production_countries</th>\n",
       "      <th>release_date</th>\n",
       "      <th>revenue</th>\n",
       "      <th>runtime</th>\n",
       "      <th>spoken_languages</th>\n",
       "      <th>status</th>\n",
       "      <th>tagline</th>\n",
       "      <th>title</th>\n",
       "      <th>vote_average</th>\n",
       "      <th>vote_count</th>\n",
       "    </tr>\n",
       "  </thead>\n",
       "  <tbody>\n",
       "    <tr>\n",
       "      <th>0</th>\n",
       "      <td>237000000</td>\n",
       "      <td>[{\"id\": 28, \"name\": \"Action\"}, {\"id\": 12, \"nam...</td>\n",
       "      <td>http://www.avatarmovie.com/</td>\n",
       "      <td>19995</td>\n",
       "      <td>[{\"id\": 1463, \"name\": \"culture clash\"}, {\"id\":...</td>\n",
       "      <td>en</td>\n",
       "      <td>Avatar</td>\n",
       "      <td>In the 22nd century, a paraplegic Marine is di...</td>\n",
       "      <td>150.437577</td>\n",
       "      <td>[{\"name\": \"Ingenious Film Partners\", \"id\": 289...</td>\n",
       "      <td>[{\"iso_3166_1\": \"US\", \"name\": \"United States o...</td>\n",
       "      <td>12/10/09</td>\n",
       "      <td>2787965087</td>\n",
       "      <td>162.0</td>\n",
       "      <td>[{\"iso_639_1\": \"en\", \"name\": \"English\"}, {\"iso...</td>\n",
       "      <td>Released</td>\n",
       "      <td>Enter the World of Pandora.</td>\n",
       "      <td>Avatar</td>\n",
       "      <td>7.2</td>\n",
       "      <td>11800</td>\n",
       "    </tr>\n",
       "    <tr>\n",
       "      <th>1</th>\n",
       "      <td>300000000</td>\n",
       "      <td>[{\"id\": 12, \"name\": \"Adventure\"}, {\"id\": 14, \"...</td>\n",
       "      <td>http://disney.go.com/disneypictures/pirates/</td>\n",
       "      <td>285</td>\n",
       "      <td>[{\"id\": 270, \"name\": \"ocean\"}, {\"id\": 726, \"na...</td>\n",
       "      <td>en</td>\n",
       "      <td>Pirates of the Caribbean: At World's End</td>\n",
       "      <td>Captain Barbossa, long believed to be dead, ha...</td>\n",
       "      <td>139.082615</td>\n",
       "      <td>[{\"name\": \"Walt Disney Pictures\", \"id\": 2}, {\"...</td>\n",
       "      <td>[{\"iso_3166_1\": \"US\", \"name\": \"United States o...</td>\n",
       "      <td>5/19/07</td>\n",
       "      <td>961000000</td>\n",
       "      <td>169.0</td>\n",
       "      <td>[{\"iso_639_1\": \"en\", \"name\": \"English\"}]</td>\n",
       "      <td>Released</td>\n",
       "      <td>At the end of the world, the adventure begins.</td>\n",
       "      <td>Pirates of the Caribbean: At World's End</td>\n",
       "      <td>6.9</td>\n",
       "      <td>4500</td>\n",
       "    </tr>\n",
       "    <tr>\n",
       "      <th>2</th>\n",
       "      <td>245000000</td>\n",
       "      <td>[{\"id\": 28, \"name\": \"Action\"}, {\"id\": 12, \"nam...</td>\n",
       "      <td>http://www.sonypictures.com/movies/spectre/</td>\n",
       "      <td>206647</td>\n",
       "      <td>[{\"id\": 470, \"name\": \"spy\"}, {\"id\": 818, \"name...</td>\n",
       "      <td>en</td>\n",
       "      <td>Spectre</td>\n",
       "      <td>A cryptic message from Bond’s past sends him o...</td>\n",
       "      <td>107.376788</td>\n",
       "      <td>[{\"name\": \"Columbia Pictures\", \"id\": 5}, {\"nam...</td>\n",
       "      <td>[{\"iso_3166_1\": \"GB\", \"name\": \"United Kingdom\"...</td>\n",
       "      <td>10/26/15</td>\n",
       "      <td>880674609</td>\n",
       "      <td>148.0</td>\n",
       "      <td>[{\"iso_639_1\": \"fr\", \"name\": \"Fran\\u00e7ais\"},...</td>\n",
       "      <td>Released</td>\n",
       "      <td>A Plan No One Escapes</td>\n",
       "      <td>Spectre</td>\n",
       "      <td>6.3</td>\n",
       "      <td>4466</td>\n",
       "    </tr>\n",
       "    <tr>\n",
       "      <th>3</th>\n",
       "      <td>250000000</td>\n",
       "      <td>[{\"id\": 28, \"name\": \"Action\"}, {\"id\": 80, \"nam...</td>\n",
       "      <td>http://www.thedarkknightrises.com/</td>\n",
       "      <td>49026</td>\n",
       "      <td>[{\"id\": 849, \"name\": \"dc comics\"}, {\"id\": 853,...</td>\n",
       "      <td>en</td>\n",
       "      <td>The Dark Knight Rises</td>\n",
       "      <td>Following the death of District Attorney Harve...</td>\n",
       "      <td>112.312950</td>\n",
       "      <td>[{\"name\": \"Legendary Pictures\", \"id\": 923}, {\"...</td>\n",
       "      <td>[{\"iso_3166_1\": \"US\", \"name\": \"United States o...</td>\n",
       "      <td>7/16/12</td>\n",
       "      <td>1084939099</td>\n",
       "      <td>165.0</td>\n",
       "      <td>[{\"iso_639_1\": \"en\", \"name\": \"English\"}]</td>\n",
       "      <td>Released</td>\n",
       "      <td>The Legend Ends</td>\n",
       "      <td>The Dark Knight Rises</td>\n",
       "      <td>7.6</td>\n",
       "      <td>9106</td>\n",
       "    </tr>\n",
       "    <tr>\n",
       "      <th>4</th>\n",
       "      <td>260000000</td>\n",
       "      <td>[{\"id\": 28, \"name\": \"Action\"}, {\"id\": 12, \"nam...</td>\n",
       "      <td>http://movies.disney.com/john-carter</td>\n",
       "      <td>49529</td>\n",
       "      <td>[{\"id\": 818, \"name\": \"based on novel\"}, {\"id\":...</td>\n",
       "      <td>en</td>\n",
       "      <td>John Carter</td>\n",
       "      <td>John Carter is a war-weary, former military ca...</td>\n",
       "      <td>43.926995</td>\n",
       "      <td>[{\"name\": \"Walt Disney Pictures\", \"id\": 2}]</td>\n",
       "      <td>[{\"iso_3166_1\": \"US\", \"name\": \"United States o...</td>\n",
       "      <td>3/7/12</td>\n",
       "      <td>284139100</td>\n",
       "      <td>132.0</td>\n",
       "      <td>[{\"iso_639_1\": \"en\", \"name\": \"English\"}]</td>\n",
       "      <td>Released</td>\n",
       "      <td>Lost in our world, found in another.</td>\n",
       "      <td>John Carter</td>\n",
       "      <td>6.1</td>\n",
       "      <td>2124</td>\n",
       "    </tr>\n",
       "  </tbody>\n",
       "</table>\n",
       "</div>"
      ],
      "text/plain": [
       "      budget                                             genres  \\\n",
       "0  237000000  [{\"id\": 28, \"name\": \"Action\"}, {\"id\": 12, \"nam...   \n",
       "1  300000000  [{\"id\": 12, \"name\": \"Adventure\"}, {\"id\": 14, \"...   \n",
       "2  245000000  [{\"id\": 28, \"name\": \"Action\"}, {\"id\": 12, \"nam...   \n",
       "3  250000000  [{\"id\": 28, \"name\": \"Action\"}, {\"id\": 80, \"nam...   \n",
       "4  260000000  [{\"id\": 28, \"name\": \"Action\"}, {\"id\": 12, \"nam...   \n",
       "\n",
       "                                       homepage      id  \\\n",
       "0                   http://www.avatarmovie.com/   19995   \n",
       "1  http://disney.go.com/disneypictures/pirates/     285   \n",
       "2   http://www.sonypictures.com/movies/spectre/  206647   \n",
       "3            http://www.thedarkknightrises.com/   49026   \n",
       "4          http://movies.disney.com/john-carter   49529   \n",
       "\n",
       "                                            keywords original_language  \\\n",
       "0  [{\"id\": 1463, \"name\": \"culture clash\"}, {\"id\":...                en   \n",
       "1  [{\"id\": 270, \"name\": \"ocean\"}, {\"id\": 726, \"na...                en   \n",
       "2  [{\"id\": 470, \"name\": \"spy\"}, {\"id\": 818, \"name...                en   \n",
       "3  [{\"id\": 849, \"name\": \"dc comics\"}, {\"id\": 853,...                en   \n",
       "4  [{\"id\": 818, \"name\": \"based on novel\"}, {\"id\":...                en   \n",
       "\n",
       "                             original_title  \\\n",
       "0                                    Avatar   \n",
       "1  Pirates of the Caribbean: At World's End   \n",
       "2                                   Spectre   \n",
       "3                     The Dark Knight Rises   \n",
       "4                               John Carter   \n",
       "\n",
       "                                            overview  popularity  \\\n",
       "0  In the 22nd century, a paraplegic Marine is di...  150.437577   \n",
       "1  Captain Barbossa, long believed to be dead, ha...  139.082615   \n",
       "2  A cryptic message from Bond’s past sends him o...  107.376788   \n",
       "3  Following the death of District Attorney Harve...  112.312950   \n",
       "4  John Carter is a war-weary, former military ca...   43.926995   \n",
       "\n",
       "                                production_companies  \\\n",
       "0  [{\"name\": \"Ingenious Film Partners\", \"id\": 289...   \n",
       "1  [{\"name\": \"Walt Disney Pictures\", \"id\": 2}, {\"...   \n",
       "2  [{\"name\": \"Columbia Pictures\", \"id\": 5}, {\"nam...   \n",
       "3  [{\"name\": \"Legendary Pictures\", \"id\": 923}, {\"...   \n",
       "4        [{\"name\": \"Walt Disney Pictures\", \"id\": 2}]   \n",
       "\n",
       "                                production_countries release_date     revenue  \\\n",
       "0  [{\"iso_3166_1\": \"US\", \"name\": \"United States o...     12/10/09  2787965087   \n",
       "1  [{\"iso_3166_1\": \"US\", \"name\": \"United States o...      5/19/07   961000000   \n",
       "2  [{\"iso_3166_1\": \"GB\", \"name\": \"United Kingdom\"...     10/26/15   880674609   \n",
       "3  [{\"iso_3166_1\": \"US\", \"name\": \"United States o...      7/16/12  1084939099   \n",
       "4  [{\"iso_3166_1\": \"US\", \"name\": \"United States o...       3/7/12   284139100   \n",
       "\n",
       "   runtime                                   spoken_languages    status  \\\n",
       "0    162.0  [{\"iso_639_1\": \"en\", \"name\": \"English\"}, {\"iso...  Released   \n",
       "1    169.0           [{\"iso_639_1\": \"en\", \"name\": \"English\"}]  Released   \n",
       "2    148.0  [{\"iso_639_1\": \"fr\", \"name\": \"Fran\\u00e7ais\"},...  Released   \n",
       "3    165.0           [{\"iso_639_1\": \"en\", \"name\": \"English\"}]  Released   \n",
       "4    132.0           [{\"iso_639_1\": \"en\", \"name\": \"English\"}]  Released   \n",
       "\n",
       "                                          tagline  \\\n",
       "0                     Enter the World of Pandora.   \n",
       "1  At the end of the world, the adventure begins.   \n",
       "2                           A Plan No One Escapes   \n",
       "3                                 The Legend Ends   \n",
       "4            Lost in our world, found in another.   \n",
       "\n",
       "                                      title  vote_average  vote_count  \n",
       "0                                    Avatar           7.2       11800  \n",
       "1  Pirates of the Caribbean: At World's End           6.9        4500  \n",
       "2                                   Spectre           6.3        4466  \n",
       "3                     The Dark Knight Rises           7.6        9106  \n",
       "4                               John Carter           6.1        2124  "
      ]
     },
     "execution_count": 4,
     "metadata": {},
     "output_type": "execute_result"
    }
   ],
   "source": [
    "df.head()"
   ]
  },
  {
   "cell_type": "markdown",
   "metadata": {},
   "source": [
    "### Understanding Data with some statistics"
   ]
  },
  {
   "cell_type": "code",
   "execution_count": 5,
   "metadata": {
    "collapsed": false
   },
   "outputs": [
    {
     "name": "stdout",
     "output_type": "stream",
     "text": [
      "The shape of Dataset is (4803, 20)\n"
     ]
    }
   ],
   "source": [
    "print(\"The shape of Dataset is\", df.shape)"
   ]
  },
  {
   "cell_type": "markdown",
   "metadata": {},
   "source": [
    "### The data has 4803 rows(movies) with 20 columns(multiple factors)"
   ]
  },
  {
   "cell_type": "code",
   "execution_count": 6,
   "metadata": {
    "collapsed": false
   },
   "outputs": [
    {
     "data": {
      "text/plain": [
       "Index(['budget', 'genres', 'homepage', 'id', 'keywords', 'original_language',\n",
       "       'original_title', 'overview', 'popularity', 'production_companies',\n",
       "       'production_countries', 'release_date', 'revenue', 'runtime',\n",
       "       'spoken_languages', 'status', 'tagline', 'title', 'vote_average',\n",
       "       'vote_count'],\n",
       "      dtype='object')"
      ]
     },
     "execution_count": 6,
     "metadata": {},
     "output_type": "execute_result"
    }
   ],
   "source": [
    "df.columns # multiple columns of dataset"
   ]
  },
  {
   "cell_type": "markdown",
   "metadata": {},
   "source": [
    "### Features\n",
    "### budget: The budget of the movie.\n",
    "### genres: A list of dictionaries that list out all the genres associated with the movie.\n",
    "### homepage: The Official Homepage of the move.\n",
    "### id: The ID of the movie.\n",
    "### Keywords:Keyword associated with the movie.\n",
    "### original_language: The language in which the movie was originally shot in.\n",
    "### original_title: The original title of the movie.\n",
    "### overview: A brief blurb of the movie.\n",
    "### popularity: The Popularity Score of the movie.\n",
    "### production_companies: A  list of production companies involved with the making of the movie.\n",
    "### production_countries: A list of countries where the movie was shot/produced in.\n",
    "### release_date:  Release Date of the movie.\n",
    "### revenue: The total revenue of the movie.\n",
    "### runtime: The runtime of the movie.\n",
    "### spoken_languages: A list of spoken languages in the film.\n",
    "### status: The status of the movie (Released, To Be Released, Announced, etc.)\n",
    "### tagline: The tagline of the movie.\n",
    "### title: The Official Title of the movie.\n",
    "### vote_average: The average rating of the movie.\n",
    "### vote_count: The number of votes by users, as counted."
   ]
  },
  {
   "cell_type": "code",
   "execution_count": 7,
   "metadata": {
    "collapsed": false
   },
   "outputs": [
    {
     "name": "stdout",
     "output_type": "stream",
     "text": [
      "<class 'pandas.core.frame.DataFrame'>\n",
      "RangeIndex: 4803 entries, 0 to 4802\n",
      "Data columns (total 20 columns):\n",
      "budget                  4803 non-null int64\n",
      "genres                  4803 non-null object\n",
      "homepage                1712 non-null object\n",
      "id                      4803 non-null int64\n",
      "keywords                4803 non-null object\n",
      "original_language       4803 non-null object\n",
      "original_title          4803 non-null object\n",
      "overview                4800 non-null object\n",
      "popularity              4803 non-null float64\n",
      "production_companies    4803 non-null object\n",
      "production_countries    4803 non-null object\n",
      "release_date            4802 non-null object\n",
      "revenue                 4803 non-null int64\n",
      "runtime                 4801 non-null float64\n",
      "spoken_languages        4803 non-null object\n",
      "status                  4803 non-null object\n",
      "tagline                 3959 non-null object\n",
      "title                   4803 non-null object\n",
      "vote_average            4803 non-null float64\n",
      "vote_count              4803 non-null int64\n",
      "dtypes: float64(3), int64(4), object(13)\n",
      "memory usage: 750.5+ KB\n"
     ]
    }
   ],
   "source": [
    "df.info()"
   ]
  },
  {
   "cell_type": "code",
   "execution_count": 8,
   "metadata": {
    "collapsed": false
   },
   "outputs": [
    {
     "data": {
      "text/plain": [
       "<bound method NDFrame.describe of          budget                                             genres  \\\n",
       "0     237000000  [{\"id\": 28, \"name\": \"Action\"}, {\"id\": 12, \"nam...   \n",
       "1     300000000  [{\"id\": 12, \"name\": \"Adventure\"}, {\"id\": 14, \"...   \n",
       "2     245000000  [{\"id\": 28, \"name\": \"Action\"}, {\"id\": 12, \"nam...   \n",
       "3     250000000  [{\"id\": 28, \"name\": \"Action\"}, {\"id\": 80, \"nam...   \n",
       "4     260000000  [{\"id\": 28, \"name\": \"Action\"}, {\"id\": 12, \"nam...   \n",
       "5     258000000  [{\"id\": 14, \"name\": \"Fantasy\"}, {\"id\": 28, \"na...   \n",
       "6     260000000  [{\"id\": 16, \"name\": \"Animation\"}, {\"id\": 10751...   \n",
       "7     280000000  [{\"id\": 28, \"name\": \"Action\"}, {\"id\": 12, \"nam...   \n",
       "8     250000000  [{\"id\": 12, \"name\": \"Adventure\"}, {\"id\": 14, \"...   \n",
       "9     250000000  [{\"id\": 28, \"name\": \"Action\"}, {\"id\": 12, \"nam...   \n",
       "10    270000000  [{\"id\": 12, \"name\": \"Adventure\"}, {\"id\": 14, \"...   \n",
       "11    200000000  [{\"id\": 12, \"name\": \"Adventure\"}, {\"id\": 28, \"...   \n",
       "12    200000000  [{\"id\": 12, \"name\": \"Adventure\"}, {\"id\": 14, \"...   \n",
       "13    255000000  [{\"id\": 28, \"name\": \"Action\"}, {\"id\": 12, \"nam...   \n",
       "14    225000000  [{\"id\": 28, \"name\": \"Action\"}, {\"id\": 12, \"nam...   \n",
       "15    225000000  [{\"id\": 12, \"name\": \"Adventure\"}, {\"id\": 10751...   \n",
       "16    220000000  [{\"id\": 878, \"name\": \"Science Fiction\"}, {\"id\"...   \n",
       "17    380000000  [{\"id\": 12, \"name\": \"Adventure\"}, {\"id\": 28, \"...   \n",
       "18    225000000  [{\"id\": 28, \"name\": \"Action\"}, {\"id\": 35, \"nam...   \n",
       "19    250000000  [{\"id\": 28, \"name\": \"Action\"}, {\"id\": 12, \"nam...   \n",
       "20    215000000  [{\"id\": 28, \"name\": \"Action\"}, {\"id\": 12, \"nam...   \n",
       "21    200000000  [{\"id\": 28, \"name\": \"Action\"}, {\"id\": 12, \"nam...   \n",
       "22    250000000  [{\"id\": 12, \"name\": \"Adventure\"}, {\"id\": 14, \"...   \n",
       "23    180000000  [{\"id\": 12, \"name\": \"Adventure\"}, {\"id\": 14, \"...   \n",
       "24    207000000  [{\"id\": 12, \"name\": \"Adventure\"}, {\"id\": 18, \"...   \n",
       "25    200000000  [{\"id\": 18, \"name\": \"Drama\"}, {\"id\": 10749, \"n...   \n",
       "26    250000000  [{\"id\": 12, \"name\": \"Adventure\"}, {\"id\": 28, \"...   \n",
       "27    209000000  [{\"id\": 53, \"name\": \"Thriller\"}, {\"id\": 28, \"n...   \n",
       "28    150000000  [{\"id\": 28, \"name\": \"Action\"}, {\"id\": 12, \"nam...   \n",
       "29    200000000  [{\"id\": 28, \"name\": \"Action\"}, {\"id\": 12, \"nam...   \n",
       "...         ...                                                ...   \n",
       "4773      27000                     [{\"id\": 35, \"name\": \"Comedy\"}]   \n",
       "4774      27000  [{\"id\": 18, \"name\": \"Drama\"}, {\"id\": 10749, \"n...   \n",
       "4775          0  [{\"id\": 18, \"name\": \"Drama\"}, {\"id\": 35, \"name...   \n",
       "4776          0  [{\"id\": 35, \"name\": \"Comedy\"}, {\"id\": 18, \"nam...   \n",
       "4777          0                      [{\"id\": 18, \"name\": \"Drama\"}]   \n",
       "4778          0  [{\"id\": 28, \"name\": \"Action\"}, {\"id\": 18, \"nam...   \n",
       "4779          0                     [{\"id\": 35, \"name\": \"Comedy\"}]   \n",
       "4780          0  [{\"id\": 53, \"name\": \"Thriller\"}, {\"id\": 80, \"n...   \n",
       "4781      22000  [{\"id\": 35, \"name\": \"Comedy\"}, {\"id\": 10749, \"...   \n",
       "4782          0  [{\"id\": 18, \"name\": \"Drama\"}, {\"id\": 10751, \"n...   \n",
       "4783          0  [{\"id\": 53, \"name\": \"Thriller\"}, {\"id\": 27, \"n...   \n",
       "4784          0  [{\"id\": 18, \"name\": \"Drama\"}, {\"id\": 35, \"name...   \n",
       "4785          0                      [{\"id\": 18, \"name\": \"Drama\"}]   \n",
       "4786          0  [{\"id\": 35, \"name\": \"Comedy\"}, {\"id\": 10749, \"...   \n",
       "4787          0  [{\"id\": 878, \"name\": \"Science Fiction\"}, {\"id\"...   \n",
       "4788      12000  [{\"id\": 27, \"name\": \"Horror\"}, {\"id\": 35, \"nam...   \n",
       "4789          0                      [{\"id\": 18, \"name\": \"Drama\"}]   \n",
       "4790          0  [{\"id\": 18, \"name\": \"Drama\"}, {\"id\": 10769, \"n...   \n",
       "4791         13                     [{\"id\": 27, \"name\": \"Horror\"}]   \n",
       "4792      20000  [{\"id\": 80, \"name\": \"Crime\"}, {\"id\": 27, \"name...   \n",
       "4793          0                      [{\"id\": 18, \"name\": \"Drama\"}]   \n",
       "4794          0  [{\"id\": 53, \"name\": \"Thriller\"}, {\"id\": 27, \"n...   \n",
       "4795          0                      [{\"id\": 18, \"name\": \"Drama\"}]   \n",
       "4796       7000  [{\"id\": 878, \"name\": \"Science Fiction\"}, {\"id\"...   \n",
       "4797          0  [{\"id\": 10769, \"name\": \"Foreign\"}, {\"id\": 53, ...   \n",
       "4798     220000  [{\"id\": 28, \"name\": \"Action\"}, {\"id\": 80, \"nam...   \n",
       "4799       9000  [{\"id\": 35, \"name\": \"Comedy\"}, {\"id\": 10749, \"...   \n",
       "4800          0  [{\"id\": 35, \"name\": \"Comedy\"}, {\"id\": 18, \"nam...   \n",
       "4801          0                                                 []   \n",
       "4802          0                [{\"id\": 99, \"name\": \"Documentary\"}]   \n",
       "\n",
       "                                               homepage      id  \\\n",
       "0                           http://www.avatarmovie.com/   19995   \n",
       "1          http://disney.go.com/disneypictures/pirates/     285   \n",
       "2           http://www.sonypictures.com/movies/spectre/  206647   \n",
       "3                    http://www.thedarkknightrises.com/   49026   \n",
       "4                  http://movies.disney.com/john-carter   49529   \n",
       "5       http://www.sonypictures.com/movies/spider-man3/     559   \n",
       "6          http://disney.go.com/disneypictures/tangled/   38757   \n",
       "7     http://marvel.com/movies/movie/193/avengers_ag...   99861   \n",
       "8     http://harrypotter.warnerbros.com/harrypottera...     767   \n",
       "9          http://www.batmanvsupermandawnofjustice.com/  209112   \n",
       "10                              http://www.superman.com    1452   \n",
       "11    http://www.mgm.com/view/movie/234/Quantum-of-S...   10764   \n",
       "12         http://disney.go.com/disneypictures/pirates/      58   \n",
       "13                http://disney.go.com/the-lone-ranger/   57201   \n",
       "14                           http://www.manofsteel.com/   49521   \n",
       "15                                                  NaN    2454   \n",
       "16                    http://marvel.com/avengers_movie/   24428   \n",
       "17    http://disney.go.com/pirates/index-on-stranger...    1865   \n",
       "18      http://www.sonypictures.com/movies/meninblack3/   41154   \n",
       "19                            http://www.thehobbit.com/  122917   \n",
       "20                   http://www.theamazingspiderman.com    1930   \n",
       "21                    http://www.robinhoodthemovie.com/   20662   \n",
       "22                            http://www.thehobbit.com/   57158   \n",
       "23    http://www.goldencompassmovie.com/index_german...    2268   \n",
       "24                                                  NaN     254   \n",
       "25                          http://www.titanicmovie.com     597   \n",
       "26             http://marvel.com/captainamericapremiere  271110   \n",
       "27                                                  NaN   44833   \n",
       "28                        http://www.jurassicworld.com/  135397   \n",
       "29                         http://www.skyfall-movie.com   37724   \n",
       "...                                                 ...     ...   \n",
       "4773               http://www.miramax.com/movie/clerks/    2292   \n",
       "4774                                                NaN   42497   \n",
       "4775                                                NaN   33693   \n",
       "4776                                                NaN   14585   \n",
       "4777                                                NaN  185465   \n",
       "4778                                                NaN   38780   \n",
       "4779                                                NaN   14022   \n",
       "4780                                                NaN  366967   \n",
       "4781             https://www.facebook.com/DrySpellMovie  255266   \n",
       "4782                                                NaN   17345   \n",
       "4783                                                NaN  226458   \n",
       "4784                  http://www.thepuffychairmovie.com   24055   \n",
       "4785                                                NaN  287625   \n",
       "4786                                                NaN   44990   \n",
       "4787                                                NaN   86304   \n",
       "4788                                                NaN     692   \n",
       "4789                                                NaN   39851   \n",
       "4790                                                NaN   13898   \n",
       "4791                      http://tincanmanthemovie.com/  157185   \n",
       "4792                                                NaN   36095   \n",
       "4793                                                NaN  182291   \n",
       "4794                                                NaN  286939   \n",
       "4795                                                NaN  124606   \n",
       "4796                         http://www.primermovie.com   14337   \n",
       "4797                                                NaN   67238   \n",
       "4798                                                NaN    9367   \n",
       "4799                                                NaN   72766   \n",
       "4800  http://www.hallmarkchannel.com/signedsealeddel...  231617   \n",
       "4801                        http://shanghaicalling.com/  126186   \n",
       "4802                                                NaN   25975   \n",
       "\n",
       "                                               keywords original_language  \\\n",
       "0     [{\"id\": 1463, \"name\": \"culture clash\"}, {\"id\":...                en   \n",
       "1     [{\"id\": 270, \"name\": \"ocean\"}, {\"id\": 726, \"na...                en   \n",
       "2     [{\"id\": 470, \"name\": \"spy\"}, {\"id\": 818, \"name...                en   \n",
       "3     [{\"id\": 849, \"name\": \"dc comics\"}, {\"id\": 853,...                en   \n",
       "4     [{\"id\": 818, \"name\": \"based on novel\"}, {\"id\":...                en   \n",
       "5     [{\"id\": 851, \"name\": \"dual identity\"}, {\"id\": ...                en   \n",
       "6     [{\"id\": 1562, \"name\": \"hostage\"}, {\"id\": 2343,...                en   \n",
       "7     [{\"id\": 8828, \"name\": \"marvel comic\"}, {\"id\": ...                en   \n",
       "8     [{\"id\": 616, \"name\": \"witch\"}, {\"id\": 2343, \"n...                en   \n",
       "9     [{\"id\": 849, \"name\": \"dc comics\"}, {\"id\": 7002...                en   \n",
       "10    [{\"id\": 83, \"name\": \"saving the world\"}, {\"id\"...                en   \n",
       "11    [{\"id\": 627, \"name\": \"killing\"}, {\"id\": 1568, ...                en   \n",
       "12    [{\"id\": 616, \"name\": \"witch\"}, {\"id\": 663, \"na...                en   \n",
       "13    [{\"id\": 1556, \"name\": \"texas\"}, {\"id\": 2673, \"...                en   \n",
       "14    [{\"id\": 83, \"name\": \"saving the world\"}, {\"id\"...                en   \n",
       "15    [{\"id\": 818, \"name\": \"based on novel\"}, {\"id\":...                en   \n",
       "16    [{\"id\": 242, \"name\": \"new york\"}, {\"id\": 5539,...                en   \n",
       "17    [{\"id\": 658, \"name\": \"sea\"}, {\"id\": 1316, \"nam...                en   \n",
       "18    [{\"id\": 4379, \"name\": \"time travel\"}, {\"id\": 5...                en   \n",
       "19    [{\"id\": 417, \"name\": \"corruption\"}, {\"id\": 603...                en   \n",
       "20    [{\"id\": 1872, \"name\": \"loss of father\"}, {\"id\"...                en   \n",
       "21    [{\"id\": 4147, \"name\": \"robin hood\"}, {\"id\": 43...                en   \n",
       "22    [{\"id\": 603, \"name\": \"elves\"}, {\"id\": 604, \"na...                en   \n",
       "23    [{\"id\": 392, \"name\": \"england\"}, {\"id\": 1461, ...                en   \n",
       "24    [{\"id\": 774, \"name\": \"film business\"}, {\"id\": ...                en   \n",
       "25    [{\"id\": 2580, \"name\": \"shipwreck\"}, {\"id\": 298...                en   \n",
       "26    [{\"id\": 393, \"name\": \"civil war\"}, {\"id\": 6091...                en   \n",
       "27    [{\"id\": 1721, \"name\": \"fight\"}, {\"id\": 4410, \"...                en   \n",
       "28    [{\"id\": 1299, \"name\": \"monster\"}, {\"id\": 1718,...                en   \n",
       "29    [{\"id\": 470, \"name\": \"spy\"}, {\"id\": 4289, \"nam...                en   \n",
       "...                                                 ...               ...   \n",
       "4773  [{\"id\": 1361, \"name\": \"salesclerk\"}, {\"id\": 30...                en   \n",
       "4774  [{\"id\": 1566, \"name\": \"dream\"}, {\"id\": 13059, ...                en   \n",
       "4775             [{\"id\": 171993, \"name\": \"mumblecore\"}]                en   \n",
       "4776  [{\"id\": 1438, \"name\": \"office\"}, {\"id\": 9673, ...                en   \n",
       "4777                                                 []                en   \n",
       "4778  [{\"id\": 10022, \"name\": \"rampage\"}, {\"id\": 1454...                en   \n",
       "4779  [{\"id\": 305, \"name\": \"moon\"}, {\"id\": 490, \"nam...                en   \n",
       "4780                                                 []                en   \n",
       "4781  [{\"id\": 13043, \"name\": \"dating\"}, {\"id\": 15160...                en   \n",
       "4782  [{\"id\": 186, \"name\": \"christianity\"}, {\"id\": 4...                en   \n",
       "4783               [{\"id\": 9712, \"name\": \"possession\"}]                en   \n",
       "4784             [{\"id\": 171993, \"name\": \"mumblecore\"}]                en   \n",
       "4785                                                 []                en   \n",
       "4786        [{\"id\": 10183, \"name\": \"independent film\"}]                en   \n",
       "4787                [{\"id\": 9715, \"name\": \"superhero\"}]                en   \n",
       "4788  [{\"id\": 237, \"name\": \"gay\"}, {\"id\": 900, \"name...                en   \n",
       "4789  [{\"id\": 6782, \"name\": \"addiction\"}, {\"id\": 155...                en   \n",
       "4790                                                 []                fa   \n",
       "4791           [{\"id\": 14903, \"name\": \"home invasion\"}]                en   \n",
       "4792  [{\"id\": 233, \"name\": \"japan\"}, {\"id\": 549, \"na...                ja   \n",
       "4793  [{\"id\": 718, \"name\": \"confession\"}, {\"id\": 100...                en   \n",
       "4794                                                 []                en   \n",
       "4795  [{\"id\": 10726, \"name\": \"gang\"}, {\"id\": 33928, ...                en   \n",
       "4796  [{\"id\": 1448, \"name\": \"distrust\"}, {\"id\": 2101...                en   \n",
       "4797                                                 []                en   \n",
       "4798  [{\"id\": 5616, \"name\": \"united states\\u2013mexi...                es   \n",
       "4799                                                 []                en   \n",
       "4800  [{\"id\": 248, \"name\": \"date\"}, {\"id\": 699, \"nam...                en   \n",
       "4801                                                 []                en   \n",
       "4802  [{\"id\": 1523, \"name\": \"obsession\"}, {\"id\": 224...                en   \n",
       "\n",
       "                                   original_title  \\\n",
       "0                                          Avatar   \n",
       "1        Pirates of the Caribbean: At World's End   \n",
       "2                                         Spectre   \n",
       "3                           The Dark Knight Rises   \n",
       "4                                     John Carter   \n",
       "5                                    Spider-Man 3   \n",
       "6                                         Tangled   \n",
       "7                         Avengers: Age of Ultron   \n",
       "8          Harry Potter and the Half-Blood Prince   \n",
       "9              Batman v Superman: Dawn of Justice   \n",
       "10                               Superman Returns   \n",
       "11                              Quantum of Solace   \n",
       "12     Pirates of the Caribbean: Dead Man's Chest   \n",
       "13                                The Lone Ranger   \n",
       "14                                   Man of Steel   \n",
       "15       The Chronicles of Narnia: Prince Caspian   \n",
       "16                                   The Avengers   \n",
       "17    Pirates of the Caribbean: On Stranger Tides   \n",
       "18                                 Men in Black 3   \n",
       "19      The Hobbit: The Battle of the Five Armies   \n",
       "20                         The Amazing Spider-Man   \n",
       "21                                     Robin Hood   \n",
       "22            The Hobbit: The Desolation of Smaug   \n",
       "23                             The Golden Compass   \n",
       "24                                      King Kong   \n",
       "25                                        Titanic   \n",
       "26                     Captain America: Civil War   \n",
       "27                                     Battleship   \n",
       "28                                 Jurassic World   \n",
       "29                                        Skyfall   \n",
       "...                                           ...   \n",
       "4773                                       Clerks   \n",
       "4774                               Pink Narcissus   \n",
       "4775                                  Funny Ha Ha   \n",
       "4776                        In the Company of Men   \n",
       "4777                                       Manito   \n",
       "4778                                      Rampage   \n",
       "4779                                      Slacker   \n",
       "4780                                  Dutch Kills   \n",
       "4781                                    Dry Spell   \n",
       "4782                                     Flywheel   \n",
       "4783                                     Backmask   \n",
       "4784                              The Puffy Chair   \n",
       "4785                         Stories of Our Lives   \n",
       "4786                             Breaking Upwards   \n",
       "4787                     All Superheroes Must Die   \n",
       "4788                               Pink Flamingos   \n",
       "4789                                        Clean   \n",
       "4790                                        دایره   \n",
       "4791                                  Tin Can Man   \n",
       "4792                                          キュア   \n",
       "4793                               On The Downlow   \n",
       "4794                 Sanctuary: Quite a Conundrum   \n",
       "4795                                         Bang   \n",
       "4796                                       Primer   \n",
       "4797                                       Cavite   \n",
       "4798                                  El Mariachi   \n",
       "4799                                    Newlyweds   \n",
       "4800                    Signed, Sealed, Delivered   \n",
       "4801                             Shanghai Calling   \n",
       "4802                            My Date with Drew   \n",
       "\n",
       "                                               overview  popularity  \\\n",
       "0     In the 22nd century, a paraplegic Marine is di...  150.437577   \n",
       "1     Captain Barbossa, long believed to be dead, ha...  139.082615   \n",
       "2     A cryptic message from Bond’s past sends him o...  107.376788   \n",
       "3     Following the death of District Attorney Harve...  112.312950   \n",
       "4     John Carter is a war-weary, former military ca...   43.926995   \n",
       "5     The seemingly invincible Spider-Man goes up ag...  115.699814   \n",
       "6     When the kingdom's most wanted-and most charmi...   48.681969   \n",
       "7     When Tony Stark tries to jumpstart a dormant p...  134.279229   \n",
       "8     As Harry begins his sixth year at Hogwarts, he...   98.885637   \n",
       "9     Fearing the actions of a god-like Super Hero l...  155.790452   \n",
       "10    Superman returns to discover his 5-year absenc...   57.925623   \n",
       "11    Quantum of Solace continues the adventures of ...  107.928811   \n",
       "12    Captain Jack Sparrow works his way out of a bl...  145.847379   \n",
       "13    The Texas Rangers chase down a gang of outlaws...   49.046956   \n",
       "14    A young boy learns that he has extraordinary p...   99.398009   \n",
       "15    One year after their incredible adventures in ...   53.978602   \n",
       "16    When an unexpected enemy emerges and threatens...  144.448633   \n",
       "17    Captain Jack Sparrow crosses paths with a woma...  135.413856   \n",
       "18    Agents J (Will Smith) and K (Tommy Lee Jones) ...   52.035179   \n",
       "19    Immediately after the events of The Desolation...  120.965743   \n",
       "20    Peter Parker is an outcast high schooler aband...   89.866276   \n",
       "21    When soldier Robin happens upon the dying Robe...   37.668301   \n",
       "22    The Dwarves, Bilbo and Gandalf have successful...   94.370564   \n",
       "23    After overhearing a shocking secret, precociou...   42.990906   \n",
       "24    In 1933 New York, an overly ambitious movie pr...   61.226010   \n",
       "25    84 years later, a 101-year-old woman named Ros...  100.025899   \n",
       "26    Following the events of Age of Ultron, the col...  198.372395   \n",
       "27    When mankind beams a radio signal into space, ...   64.928382   \n",
       "28    Twenty-two years after the events of Jurassic ...  418.708552   \n",
       "29    When Bond's latest assignment goes gravely wro...   93.004993   \n",
       "...                                                 ...         ...   \n",
       "4773  Convenience and video store clerks Dante and R...   19.748658   \n",
       "4774  An erotic poem set in the fantasies of a young...    0.027811   \n",
       "4775  Unsure of what to do next, 23-year-old Marnie ...    0.362633   \n",
       "4776  Two business executives--one an avowed misogyn...    2.634007   \n",
       "4777  Fifteen years ago, their Washington Heights ne...    0.039264   \n",
       "4778  The boredom of small town life is eating Bill ...    7.101197   \n",
       "4779  Presents a day in the life in Austin, Texas am...    3.320622   \n",
       "4780  A desperate ex-con is forced to gather his old...    0.038143   \n",
       "4781  Sasha tries to get her soon-to-be ex husband K...    0.048948   \n",
       "4782  Jay Austin wants to sell you a used car, but w...    1.048524   \n",
       "4783  During an all-night, drug-fueled party at an a...    3.619167   \n",
       "4784  Josh's life is pretty much in the toilet. He's...    1.243955   \n",
       "4785  Created by the members of a Nairobi-based arts...    0.327794   \n",
       "4786  'Breaking Upwards' explores a young, real-life...    0.674570   \n",
       "4787  Masked vigilantes Charge (Jason Trost), Cutthr...    3.545991   \n",
       "4788  Notorious Baltimore criminal and underground f...    4.553644   \n",
       "4789  After losing her husband to a heroin overdose,...    1.464566   \n",
       "4790  Various women struggle to function in the oppr...    1.193779   \n",
       "4791  Recently dumped by his girlfirend for another ...    0.332679   \n",
       "4792  A wave of gruesome murders is sweeping Tokyo. ...    0.212443   \n",
       "4793  Isaac and Angel are two young Latinos involved...    0.029757   \n",
       "4794  It should have been just a normal day of sex, ...    0.166513   \n",
       "4795  A young woman in L.A. is having a bad day: she...    0.918116   \n",
       "4796  Friends/fledgling entrepreneurs invent a devic...   23.307949   \n",
       "4797  Adam, a security guard, travels from Californi...    0.022173   \n",
       "4798  El Mariachi just wants to play his guitar and ...   14.269792   \n",
       "4799  A newlywed couple's honeymoon is upended by th...    0.642552   \n",
       "4800  \"Signed, Sealed, Delivered\" introduces a dedic...    1.444476   \n",
       "4801  When ambitious New York attorney Sam is sent t...    0.857008   \n",
       "4802  Ever since the second grade when he first saw ...    1.929883   \n",
       "\n",
       "                                   production_companies  \\\n",
       "0     [{\"name\": \"Ingenious Film Partners\", \"id\": 289...   \n",
       "1     [{\"name\": \"Walt Disney Pictures\", \"id\": 2}, {\"...   \n",
       "2     [{\"name\": \"Columbia Pictures\", \"id\": 5}, {\"nam...   \n",
       "3     [{\"name\": \"Legendary Pictures\", \"id\": 923}, {\"...   \n",
       "4           [{\"name\": \"Walt Disney Pictures\", \"id\": 2}]   \n",
       "5     [{\"name\": \"Columbia Pictures\", \"id\": 5}, {\"nam...   \n",
       "6     [{\"name\": \"Walt Disney Pictures\", \"id\": 2}, {\"...   \n",
       "7     [{\"name\": \"Marvel Studios\", \"id\": 420}, {\"name...   \n",
       "8     [{\"name\": \"Warner Bros.\", \"id\": 6194}, {\"name\"...   \n",
       "9     [{\"name\": \"DC Comics\", \"id\": 429}, {\"name\": \"A...   \n",
       "10    [{\"name\": \"DC Comics\", \"id\": 429}, {\"name\": \"L...   \n",
       "11            [{\"name\": \"Eon Productions\", \"id\": 7576}]   \n",
       "12    [{\"name\": \"Walt Disney Pictures\", \"id\": 2}, {\"...   \n",
       "13    [{\"name\": \"Walt Disney Pictures\", \"id\": 2}, {\"...   \n",
       "14    [{\"name\": \"Legendary Pictures\", \"id\": 923}, {\"...   \n",
       "15    [{\"name\": \"Walt Disney\", \"id\": 5888}, {\"name\":...   \n",
       "16    [{\"name\": \"Paramount Pictures\", \"id\": 4}, {\"na...   \n",
       "17    [{\"name\": \"Walt Disney Pictures\", \"id\": 2}, {\"...   \n",
       "18    [{\"name\": \"Amblin Entertainment\", \"id\": 56}, {...   \n",
       "19    [{\"name\": \"WingNut Films\", \"id\": 11}, {\"name\":...   \n",
       "20    [{\"name\": \"Columbia Pictures\", \"id\": 5}, {\"nam...   \n",
       "21    [{\"name\": \"Imagine Entertainment\", \"id\": 23}, ...   \n",
       "22    [{\"name\": \"WingNut Films\", \"id\": 11}, {\"name\":...   \n",
       "23    [{\"name\": \"New Line Cinema\", \"id\": 12}, {\"name...   \n",
       "24    [{\"name\": \"WingNut Films\", \"id\": 11}, {\"name\":...   \n",
       "25    [{\"name\": \"Paramount Pictures\", \"id\": 4}, {\"na...   \n",
       "26    [{\"name\": \"Studio Babelsberg\", \"id\": 264}, {\"n...   \n",
       "27    [{\"name\": \"Universal Pictures\", \"id\": 33}, {\"n...   \n",
       "28    [{\"name\": \"Universal Studios\", \"id\": 13}, {\"na...   \n",
       "29             [{\"name\": \"Columbia Pictures\", \"id\": 5}]   \n",
       "...                                                 ...   \n",
       "4773  [{\"name\": \"Miramax Films\", \"id\": 14}, {\"name\":...   \n",
       "4774         [{\"name\": \"Strand Releasing\", \"id\": 3923}]   \n",
       "4775                                                 []   \n",
       "4776  [{\"name\": \"Alliance Atlantis Communications\", ...   \n",
       "4777                                                 []   \n",
       "4778  [{\"name\": \"Boll Kino Beteiligungs GmbH & Co. K...   \n",
       "4779                                                 []   \n",
       "4780                                                 []   \n",
       "4781                                                 []   \n",
       "4782                                                 []   \n",
       "4783  [{\"name\": \"GO Productions\", \"id\": 2943}, {\"nam...   \n",
       "4784                                                 []   \n",
       "4785                                                 []   \n",
       "4786                                                 []   \n",
       "4787               [{\"name\": \"Grindfest\", \"id\": 18818}]   \n",
       "4788     [{\"name\": \"Dreamland Productions\", \"id\": 407}]   \n",
       "4789                                                 []   \n",
       "4790  [{\"name\": \"Jafar Panahi Film Productions\", \"id...   \n",
       "4791  [{\"name\": \"Park Films\", \"id\": 21871}, {\"name\":...   \n",
       "4792             [{\"name\": \"Daiei Studios\", \"id\": 881}]   \n",
       "4793        [{\"name\": \"Iconoclast Films\", \"id\": 26677}]   \n",
       "4794  [{\"name\": \"Gold Lion Films\", \"id\": 37870}, {\"n...   \n",
       "4795  [{\"name\": \"Asylum Films\", \"id\": 10571}, {\"name...   \n",
       "4796                 [{\"name\": \"Thinkfilm\", \"id\": 446}]   \n",
       "4797                                                 []   \n",
       "4798           [{\"name\": \"Columbia Pictures\", \"id\": 5}]   \n",
       "4799                                                 []   \n",
       "4800  [{\"name\": \"Front Street Pictures\", \"id\": 3958}...   \n",
       "4801                                                 []   \n",
       "4802  [{\"name\": \"rusty bear entertainment\", \"id\": 87...   \n",
       "\n",
       "                                   production_countries release_date  \\\n",
       "0     [{\"iso_3166_1\": \"US\", \"name\": \"United States o...     12/10/09   \n",
       "1     [{\"iso_3166_1\": \"US\", \"name\": \"United States o...      5/19/07   \n",
       "2     [{\"iso_3166_1\": \"GB\", \"name\": \"United Kingdom\"...     10/26/15   \n",
       "3     [{\"iso_3166_1\": \"US\", \"name\": \"United States o...      7/16/12   \n",
       "4     [{\"iso_3166_1\": \"US\", \"name\": \"United States o...       3/7/12   \n",
       "5     [{\"iso_3166_1\": \"US\", \"name\": \"United States o...       5/1/07   \n",
       "6     [{\"iso_3166_1\": \"US\", \"name\": \"United States o...     11/24/10   \n",
       "7     [{\"iso_3166_1\": \"US\", \"name\": \"United States o...      4/22/15   \n",
       "8     [{\"iso_3166_1\": \"GB\", \"name\": \"United Kingdom\"...       7/7/09   \n",
       "9     [{\"iso_3166_1\": \"US\", \"name\": \"United States o...      3/23/16   \n",
       "10    [{\"iso_3166_1\": \"US\", \"name\": \"United States o...      6/28/06   \n",
       "11    [{\"iso_3166_1\": \"GB\", \"name\": \"United Kingdom\"...     10/30/08   \n",
       "12    [{\"iso_3166_1\": \"JM\", \"name\": \"Jamaica\"}, {\"is...      6/20/06   \n",
       "13    [{\"iso_3166_1\": \"US\", \"name\": \"United States o...       7/3/13   \n",
       "14    [{\"iso_3166_1\": \"GB\", \"name\": \"United Kingdom\"...      6/12/13   \n",
       "15    [{\"iso_3166_1\": \"CZ\", \"name\": \"Czech Republic\"...      5/15/08   \n",
       "16    [{\"iso_3166_1\": \"US\", \"name\": \"United States o...      4/25/12   \n",
       "17    [{\"iso_3166_1\": \"US\", \"name\": \"United States o...      5/14/11   \n",
       "18    [{\"iso_3166_1\": \"US\", \"name\": \"United States o...      5/23/12   \n",
       "19    [{\"iso_3166_1\": \"NZ\", \"name\": \"New Zealand\"}, ...     12/10/14   \n",
       "20    [{\"iso_3166_1\": \"US\", \"name\": \"United States o...      6/27/12   \n",
       "21    [{\"iso_3166_1\": \"GB\", \"name\": \"United Kingdom\"...      5/12/10   \n",
       "22    [{\"iso_3166_1\": \"NZ\", \"name\": \"New Zealand\"}, ...     12/11/13   \n",
       "23    [{\"iso_3166_1\": \"GB\", \"name\": \"United Kingdom\"...      12/4/07   \n",
       "24    [{\"iso_3166_1\": \"NZ\", \"name\": \"New Zealand\"}, ...     12/14/05   \n",
       "25    [{\"iso_3166_1\": \"US\", \"name\": \"United States o...     11/18/97   \n",
       "26    [{\"iso_3166_1\": \"US\", \"name\": \"United States o...      4/27/16   \n",
       "27    [{\"iso_3166_1\": \"US\", \"name\": \"United States o...      4/11/12   \n",
       "28    [{\"iso_3166_1\": \"US\", \"name\": \"United States o...       6/9/15   \n",
       "29    [{\"iso_3166_1\": \"GB\", \"name\": \"United Kingdom\"...     10/25/12   \n",
       "...                                                 ...          ...   \n",
       "4773  [{\"iso_3166_1\": \"US\", \"name\": \"United States o...      9/13/94   \n",
       "4774  [{\"iso_3166_1\": \"US\", \"name\": \"United States o...       1/1/71   \n",
       "4775  [{\"iso_3166_1\": \"US\", \"name\": \"United States o...      9/20/02   \n",
       "4776  [{\"iso_3166_1\": \"CA\", \"name\": \"Canada\"}, {\"iso...      1/19/97   \n",
       "4777  [{\"iso_3166_1\": \"US\", \"name\": \"United States o...      1/15/02   \n",
       "4778  [{\"iso_3166_1\": \"CA\", \"name\": \"Canada\"}, {\"iso...      8/14/09   \n",
       "4779  [{\"iso_3166_1\": \"US\", \"name\": \"United States o...      7/27/90   \n",
       "4780                                                 []      10/2/15   \n",
       "4781  [{\"iso_3166_1\": \"US\", \"name\": \"United States o...      2/14/13   \n",
       "4782  [{\"iso_3166_1\": \"US\", \"name\": \"United States o...       1/1/03   \n",
       "4783  [{\"iso_3166_1\": \"US\", \"name\": \"United States o...      1/16/15   \n",
       "4784                                                 []      1/17/05   \n",
       "4785            [{\"iso_3166_1\": \"KE\", \"name\": \"Kenya\"}]       9/5/14   \n",
       "4786  [{\"iso_3166_1\": \"US\", \"name\": \"United States o...      3/14/09   \n",
       "4787                                                 []     10/26/11   \n",
       "4788  [{\"iso_3166_1\": \"US\", \"name\": \"United States o...      3/12/72   \n",
       "4789  [{\"iso_3166_1\": \"GB\", \"name\": \"United Kingdom\"...       9/1/04   \n",
       "4790             [{\"iso_3166_1\": \"IR\", \"name\": \"Iran\"}]       9/8/00   \n",
       "4791          [{\"iso_3166_1\": \"IE\", \"name\": \"Ireland\"}]       1/1/07   \n",
       "4792            [{\"iso_3166_1\": \"JP\", \"name\": \"Japan\"}]      11/6/97   \n",
       "4793  [{\"iso_3166_1\": \"US\", \"name\": \"United States o...      4/11/04   \n",
       "4794  [{\"iso_3166_1\": \"US\", \"name\": \"United States o...      1/20/12   \n",
       "4795  [{\"iso_3166_1\": \"US\", \"name\": \"United States o...       9/9/95   \n",
       "4796  [{\"iso_3166_1\": \"US\", \"name\": \"United States o...      10/8/04   \n",
       "4797                                                 []      3/12/05   \n",
       "4798  [{\"iso_3166_1\": \"MX\", \"name\": \"Mexico\"}, {\"iso...       9/4/92   \n",
       "4799                                                 []     12/26/11   \n",
       "4800  [{\"iso_3166_1\": \"US\", \"name\": \"United States o...     10/13/13   \n",
       "4801  [{\"iso_3166_1\": \"US\", \"name\": \"United States o...       5/3/12   \n",
       "4802  [{\"iso_3166_1\": \"US\", \"name\": \"United States o...       8/5/05   \n",
       "\n",
       "         revenue  runtime                                   spoken_languages  \\\n",
       "0     2787965087    162.0  [{\"iso_639_1\": \"en\", \"name\": \"English\"}, {\"iso...   \n",
       "1      961000000    169.0           [{\"iso_639_1\": \"en\", \"name\": \"English\"}]   \n",
       "2      880674609    148.0  [{\"iso_639_1\": \"fr\", \"name\": \"Fran\\u00e7ais\"},...   \n",
       "3     1084939099    165.0           [{\"iso_639_1\": \"en\", \"name\": \"English\"}]   \n",
       "4      284139100    132.0           [{\"iso_639_1\": \"en\", \"name\": \"English\"}]   \n",
       "5      890871626    139.0  [{\"iso_639_1\": \"en\", \"name\": \"English\"}, {\"iso...   \n",
       "6      591794936    100.0           [{\"iso_639_1\": \"en\", \"name\": \"English\"}]   \n",
       "7     1405403694    141.0           [{\"iso_639_1\": \"en\", \"name\": \"English\"}]   \n",
       "8      933959197    153.0           [{\"iso_639_1\": \"en\", \"name\": \"English\"}]   \n",
       "9      873260194    151.0           [{\"iso_639_1\": \"en\", \"name\": \"English\"}]   \n",
       "10     391081192    154.0  [{\"iso_639_1\": \"en\", \"name\": \"English\"}, {\"iso...   \n",
       "11     586090727    106.0  [{\"iso_639_1\": \"en\", \"name\": \"English\"}, {\"iso...   \n",
       "12    1065659812    151.0  [{\"iso_639_1\": \"en\", \"name\": \"English\"}, {\"iso...   \n",
       "13      89289910    149.0           [{\"iso_639_1\": \"en\", \"name\": \"English\"}]   \n",
       "14     662845518    143.0           [{\"iso_639_1\": \"en\", \"name\": \"English\"}]   \n",
       "15     419651413    150.0           [{\"iso_639_1\": \"en\", \"name\": \"English\"}]   \n",
       "16    1519557910    143.0           [{\"iso_639_1\": \"en\", \"name\": \"English\"}]   \n",
       "17    1045713802    136.0  [{\"iso_639_1\": \"en\", \"name\": \"English\"}, {\"iso...   \n",
       "18     624026776    106.0           [{\"iso_639_1\": \"en\", \"name\": \"English\"}]   \n",
       "19     956019788    144.0           [{\"iso_639_1\": \"en\", \"name\": \"English\"}]   \n",
       "20     752215857    136.0           [{\"iso_639_1\": \"en\", \"name\": \"English\"}]   \n",
       "21     310669540    140.0  [{\"iso_639_1\": \"en\", \"name\": \"English\"}, {\"iso...   \n",
       "22     958400000    161.0           [{\"iso_639_1\": \"en\", \"name\": \"English\"}]   \n",
       "23     372234864    113.0  [{\"iso_639_1\": \"is\", \"name\": \"\\u00cdslenska\"},...   \n",
       "24     550000000    187.0           [{\"iso_639_1\": \"en\", \"name\": \"English\"}]   \n",
       "25    1845034188    194.0  [{\"iso_639_1\": \"en\", \"name\": \"English\"}, {\"iso...   \n",
       "26    1153304495    147.0  [{\"iso_639_1\": \"ro\", \"name\": \"Rom\\u00e2n\\u0103...   \n",
       "27     303025485    131.0  [{\"iso_639_1\": \"en\", \"name\": \"English\"}, {\"iso...   \n",
       "28    1513528810    124.0           [{\"iso_639_1\": \"en\", \"name\": \"English\"}]   \n",
       "29    1108561013    143.0           [{\"iso_639_1\": \"en\", \"name\": \"English\"}]   \n",
       "...          ...      ...                                                ...   \n",
       "4773     3151130     92.0           [{\"iso_639_1\": \"en\", \"name\": \"English\"}]   \n",
       "4774           0     64.0  [{\"iso_639_1\": \"en\", \"name\": \"English\"}, {\"iso...   \n",
       "4775       76901     85.0           [{\"iso_639_1\": \"en\", \"name\": \"English\"}]   \n",
       "4776           0     97.0           [{\"iso_639_1\": \"en\", \"name\": \"English\"}]   \n",
       "4777           0     78.0  [{\"iso_639_1\": \"es\", \"name\": \"Espa\\u00f1ol\"}, ...   \n",
       "4778           0     85.0           [{\"iso_639_1\": \"en\", \"name\": \"English\"}]   \n",
       "4779           0     97.0           [{\"iso_639_1\": \"en\", \"name\": \"English\"}]   \n",
       "4780           0     90.0                                                 []   \n",
       "4781           0     90.0           [{\"iso_639_1\": \"en\", \"name\": \"English\"}]   \n",
       "4782           0    120.0           [{\"iso_639_1\": \"en\", \"name\": \"English\"}]   \n",
       "4783           0     91.0           [{\"iso_639_1\": \"en\", \"name\": \"English\"}]   \n",
       "4784           0     85.0                                                 []   \n",
       "4785           0     60.0  [{\"iso_639_1\": \"sw\", \"name\": \"Kiswahili\"}, {\"i...   \n",
       "4786           0     88.0           [{\"iso_639_1\": \"en\", \"name\": \"English\"}]   \n",
       "4787           0     78.0           [{\"iso_639_1\": \"en\", \"name\": \"English\"}]   \n",
       "4788     6000000     93.0           [{\"iso_639_1\": \"en\", \"name\": \"English\"}]   \n",
       "4789           0    111.0  [{\"iso_639_1\": \"cn\", \"name\": \"\\u5e7f\\u5dde\\u8b...   \n",
       "4790           0     90.0  [{\"iso_639_1\": \"fa\", \"name\": \"\\u0641\\u0627\\u06...   \n",
       "4791           0     84.0           [{\"iso_639_1\": \"en\", \"name\": \"English\"}]   \n",
       "4792       99000    111.0  [{\"iso_639_1\": \"ja\", \"name\": \"\\u65e5\\u672c\\u8a...   \n",
       "4793           0     90.0                                                 []   \n",
       "4794           0     82.0           [{\"iso_639_1\": \"en\", \"name\": \"English\"}]   \n",
       "4795           0     98.0           [{\"iso_639_1\": \"en\", \"name\": \"English\"}]   \n",
       "4796      424760     77.0           [{\"iso_639_1\": \"en\", \"name\": \"English\"}]   \n",
       "4797           0     80.0                                                 []   \n",
       "4798     2040920     81.0      [{\"iso_639_1\": \"es\", \"name\": \"Espa\\u00f1ol\"}]   \n",
       "4799           0     85.0                                                 []   \n",
       "4800           0    120.0           [{\"iso_639_1\": \"en\", \"name\": \"English\"}]   \n",
       "4801           0     98.0           [{\"iso_639_1\": \"en\", \"name\": \"English\"}]   \n",
       "4802           0     90.0           [{\"iso_639_1\": \"en\", \"name\": \"English\"}]   \n",
       "\n",
       "        status                                            tagline  \\\n",
       "0     Released                        Enter the World of Pandora.   \n",
       "1     Released     At the end of the world, the adventure begins.   \n",
       "2     Released                              A Plan No One Escapes   \n",
       "3     Released                                    The Legend Ends   \n",
       "4     Released               Lost in our world, found in another.   \n",
       "5     Released                                 The battle within.   \n",
       "6     Released           They're taking adventure to new lengths.   \n",
       "7     Released                                A New Age Has Come.   \n",
       "8     Released                              Dark Secrets Revealed   \n",
       "9     Released                                 Justice or revenge   \n",
       "10    Released                                                NaN   \n",
       "11    Released      For love, for hate, for justice, for revenge.   \n",
       "12    Released                                      Jack is back!   \n",
       "13    Released                            Never Take Off the Mask   \n",
       "14    Released               You will believe that a man can fly.   \n",
       "15    Released                               Hope has a new face.   \n",
       "16    Released                            Some assembly required.   \n",
       "17    Released                        Live Forever Or Die Trying.   \n",
       "18    Released                          They are back... in time.   \n",
       "19    Released  Witness the defining chapter of the Middle-Ear...   \n",
       "20    Released                           The untold story begins.   \n",
       "21    Released     Rise and rise again, until lambs become lions.   \n",
       "22    Released  Beyond darkness... beyond desolation... lies t...   \n",
       "23    Released  There are worlds beyond our own - the compass ...   \n",
       "24    Released                    The eighth wonder of the world.   \n",
       "25    Released          Nothing on Earth could come between them.   \n",
       "26    Released                                    Divided We Fall   \n",
       "27    Released                 The Battle for Earth Begins at Sea   \n",
       "28    Released                                  The park is open.   \n",
       "29    Released                                Think on your sins.   \n",
       "...        ...                                                ...   \n",
       "4773  Released  Just because they serve you doesn't mean they ...   \n",
       "4774  Released             A unique experience in visual fantasy!   \n",
       "4775  Released                                                NaN   \n",
       "4776  Released      Are all men bastards...or just misunderstood?   \n",
       "4777  Released                                                NaN   \n",
       "4778  Released                             Vengeance is ruthless.   \n",
       "4779  Released                                                NaN   \n",
       "4780  Released                                                NaN   \n",
       "4781  Released       Getting divorced does funny things to a girl   \n",
       "4782  Released                                                NaN   \n",
       "4783  Released                                         nederlands   \n",
       "4784  Released                                                NaN   \n",
       "4785  Released                                                NaN   \n",
       "4786  Released                                                NaN   \n",
       "4787  Released                               May The Best Man Win   \n",
       "4788  Released                         An exercise in poor taste.   \n",
       "4789  Released          When you don't have a choice, you change.   \n",
       "4790  Released                                                NaN   \n",
       "4791  Released                    Everything You've Heard is True   \n",
       "4792  Released                           Madness. Terror. Murder.   \n",
       "4793  Released              Two gangs. One secret. One crossroad.   \n",
       "4794  Released                                                NaN   \n",
       "4795  Released            Sometimes you've got to break the rules   \n",
       "4796  Released                 What happens if it actually works?   \n",
       "4797  Released                                                NaN   \n",
       "4798  Released  He didn't come looking for trouble, but troubl...   \n",
       "4799  Released  A newlywed couple's honeymoon is upended by th...   \n",
       "4800  Released                                                NaN   \n",
       "4801  Released                           A New Yorker in Shanghai   \n",
       "4802  Released                                                NaN   \n",
       "\n",
       "                                            title  vote_average  vote_count  \n",
       "0                                          Avatar           7.2       11800  \n",
       "1        Pirates of the Caribbean: At World's End           6.9        4500  \n",
       "2                                         Spectre           6.3        4466  \n",
       "3                           The Dark Knight Rises           7.6        9106  \n",
       "4                                     John Carter           6.1        2124  \n",
       "5                                    Spider-Man 3           5.9        3576  \n",
       "6                                         Tangled           7.4        3330  \n",
       "7                         Avengers: Age of Ultron           7.3        6767  \n",
       "8          Harry Potter and the Half-Blood Prince           7.4        5293  \n",
       "9              Batman v Superman: Dawn of Justice           5.7        7004  \n",
       "10                               Superman Returns           5.4        1400  \n",
       "11                              Quantum of Solace           6.1        2965  \n",
       "12     Pirates of the Caribbean: Dead Man's Chest           7.0        5246  \n",
       "13                                The Lone Ranger           5.9        2311  \n",
       "14                                   Man of Steel           6.5        6359  \n",
       "15       The Chronicles of Narnia: Prince Caspian           6.3        1630  \n",
       "16                                   The Avengers           7.4       11776  \n",
       "17    Pirates of the Caribbean: On Stranger Tides           6.4        4948  \n",
       "18                                 Men in Black 3           6.2        4160  \n",
       "19      The Hobbit: The Battle of the Five Armies           7.1        4760  \n",
       "20                         The Amazing Spider-Man           6.5        6586  \n",
       "21                                     Robin Hood           6.2        1398  \n",
       "22            The Hobbit: The Desolation of Smaug           7.6        4524  \n",
       "23                             The Golden Compass           5.8        1303  \n",
       "24                                      King Kong           6.6        2337  \n",
       "25                                        Titanic           7.5        7562  \n",
       "26                     Captain America: Civil War           7.1        7241  \n",
       "27                                     Battleship           5.5        2114  \n",
       "28                                 Jurassic World           6.5        8662  \n",
       "29                                        Skyfall           6.9        7604  \n",
       "...                                           ...           ...         ...  \n",
       "4773                                       Clerks           7.4         755  \n",
       "4774                               Pink Narcissus           6.0           9  \n",
       "4775                                  Funny Ha Ha           6.3           8  \n",
       "4776                        In the Company of Men           6.8          44  \n",
       "4777                                       Manito           5.5           2  \n",
       "4778                                      Rampage           6.0         131  \n",
       "4779                                      Slacker           6.4          77  \n",
       "4780                                  Dutch Kills           0.0           0  \n",
       "4781                                    Dry Spell           6.0           1  \n",
       "4782                                     Flywheel           6.8          19  \n",
       "4783                                     Backmask           4.7          79  \n",
       "4784                              The Puffy Chair           6.2          15  \n",
       "4785                         Stories of Our Lives           0.0           0  \n",
       "4786                             Breaking Upwards           5.6          12  \n",
       "4787                     All Superheroes Must Die           4.2          13  \n",
       "4788                               Pink Flamingos           6.2         110  \n",
       "4789                                        Clean           6.7          17  \n",
       "4790                                   The Circle           6.6          17  \n",
       "4791                                  Tin Can Man           2.0           1  \n",
       "4792                                         Cure           7.4          63  \n",
       "4793                               On The Downlow           6.0           2  \n",
       "4794                 Sanctuary: Quite a Conundrum           0.0           0  \n",
       "4795                                         Bang           6.0           1  \n",
       "4796                                       Primer           6.9         658  \n",
       "4797                                       Cavite           7.5           2  \n",
       "4798                                  El Mariachi           6.6         238  \n",
       "4799                                    Newlyweds           5.9           5  \n",
       "4800                    Signed, Sealed, Delivered           7.0           6  \n",
       "4801                             Shanghai Calling           5.7           7  \n",
       "4802                            My Date with Drew           6.3          16  \n",
       "\n",
       "[4803 rows x 20 columns]>"
      ]
     },
     "execution_count": 8,
     "metadata": {},
     "output_type": "execute_result"
    }
   ],
   "source": [
    "df.describe"
   ]
  },
  {
   "cell_type": "code",
   "execution_count": 9,
   "metadata": {
    "collapsed": false
   },
   "outputs": [
    {
     "data": {
      "text/plain": [
       "budget                     0\n",
       "genres                     0\n",
       "homepage                3091\n",
       "id                         0\n",
       "keywords                   0\n",
       "original_language          0\n",
       "original_title             0\n",
       "overview                   3\n",
       "popularity                 0\n",
       "production_companies       0\n",
       "production_countries       0\n",
       "release_date               1\n",
       "revenue                    0\n",
       "runtime                    2\n",
       "spoken_languages           0\n",
       "status                     0\n",
       "tagline                  844\n",
       "title                      0\n",
       "vote_average               0\n",
       "vote_count                 0\n",
       "dtype: int64"
      ]
     },
     "execution_count": 9,
     "metadata": {},
     "output_type": "execute_result"
    }
   ],
   "source": [
    "df.isnull().sum()"
   ]
  },
  {
   "cell_type": "markdown",
   "metadata": {
    "collapsed": true
   },
   "source": [
    "### We have null values present in data so we need to clean data for further analysis.\n",
    "## Data Wrangling, Data Exploration, Data Analysis, Data Visualization"
   ]
  },
  {
   "cell_type": "markdown",
   "metadata": {
    "collapsed": true
   },
   "source": [
    "### Firstly we can remove original title of the movie in which it has been shot, afterall title of the movie will be used which are translated version for all movies for analysis."
   ]
  },
  {
   "cell_type": "code",
   "execution_count": 10,
   "metadata": {
    "collapsed": false
   },
   "outputs": [
    {
     "data": {
      "text/html": [
       "<div>\n",
       "<style scoped>\n",
       "    .dataframe tbody tr th:only-of-type {\n",
       "        vertical-align: middle;\n",
       "    }\n",
       "\n",
       "    .dataframe tbody tr th {\n",
       "        vertical-align: top;\n",
       "    }\n",
       "\n",
       "    .dataframe thead th {\n",
       "        text-align: right;\n",
       "    }\n",
       "</style>\n",
       "<table border=\"1\" class=\"dataframe\">\n",
       "  <thead>\n",
       "    <tr style=\"text-align: right;\">\n",
       "      <th></th>\n",
       "      <th>title</th>\n",
       "      <th>original_title</th>\n",
       "    </tr>\n",
       "  </thead>\n",
       "  <tbody>\n",
       "    <tr>\n",
       "      <th>97</th>\n",
       "      <td>Shin Godzilla</td>\n",
       "      <td>シン・ゴジラ</td>\n",
       "    </tr>\n",
       "    <tr>\n",
       "      <th>215</th>\n",
       "      <td>Fantastic 4: Rise of the Silver Surfer</td>\n",
       "      <td>4: Rise of the Silver Surfer</td>\n",
       "    </tr>\n",
       "    <tr>\n",
       "      <th>235</th>\n",
       "      <td>Asterix at the Olympic Games</td>\n",
       "      <td>Astérix aux Jeux Olympiques</td>\n",
       "    </tr>\n",
       "    <tr>\n",
       "      <th>317</th>\n",
       "      <td>The Flowers of War</td>\n",
       "      <td>金陵十三釵</td>\n",
       "    </tr>\n",
       "    <tr>\n",
       "      <th>474</th>\n",
       "      <td>Evolution</td>\n",
       "      <td>Évolution</td>\n",
       "    </tr>\n",
       "  </tbody>\n",
       "</table>\n",
       "</div>"
      ],
      "text/plain": [
       "                                      title                original_title\n",
       "97                            Shin Godzilla                        シン・ゴジラ\n",
       "215  Fantastic 4: Rise of the Silver Surfer  4: Rise of the Silver Surfer\n",
       "235            Asterix at the Olympic Games   Astérix aux Jeux Olympiques\n",
       "317                      The Flowers of War                         金陵十三釵\n",
       "474                               Evolution                     Évolution"
      ]
     },
     "execution_count": 10,
     "metadata": {},
     "output_type": "execute_result"
    }
   ],
   "source": [
    "df[df['original_title'] != df['title']][['title', 'original_title']].head()"
   ]
  },
  {
   "cell_type": "code",
   "execution_count": 11,
   "metadata": {
    "collapsed": true
   },
   "outputs": [],
   "source": [
    "df = df.drop('original_title', axis=1)"
   ]
  },
  {
   "cell_type": "markdown",
   "metadata": {
    "collapsed": true
   },
   "source": [
    "### Let's check revenue part for movies which is most important part."
   ]
  },
  {
   "cell_type": "code",
   "execution_count": 12,
   "metadata": {
    "collapsed": false
   },
   "outputs": [
    {
     "data": {
      "text/plain": [
       "(1427, 19)"
      ]
     },
     "execution_count": 12,
     "metadata": {},
     "output_type": "execute_result"
    }
   ],
   "source": [
    "df[df['revenue'] == 0].shape"
   ]
  },
  {
   "cell_type": "markdown",
   "metadata": {
    "collapsed": true
   },
   "source": [
    "### As we can see so many movies are recorded for zero revenue but still we cant skip these movies because this is important part. So we replace these zero values with NAN values for further analysis."
   ]
  },
  {
   "cell_type": "code",
   "execution_count": 13,
   "metadata": {
    "collapsed": true
   },
   "outputs": [],
   "source": [
    "df['revenue'] = df['revenue'].replace(0, np.nan)"
   ]
  },
  {
   "cell_type": "markdown",
   "metadata": {},
   "source": [
    "### The budget feature has some unclean values that makes Pandas assign it as a generic object. We proceed to convert this into a numeric variable and replace all the non-numeric values with NaN. Finally, as with budget, we will convert all the values of 0 with NaN to indicate the absence of information regarding budget."
   ]
  },
  {
   "cell_type": "code",
   "execution_count": 14,
   "metadata": {
    "collapsed": false
   },
   "outputs": [
    {
     "data": {
      "text/html": [
       "<div>\n",
       "<style scoped>\n",
       "    .dataframe tbody tr th:only-of-type {\n",
       "        vertical-align: middle;\n",
       "    }\n",
       "\n",
       "    .dataframe tbody tr th {\n",
       "        vertical-align: top;\n",
       "    }\n",
       "\n",
       "    .dataframe thead th {\n",
       "        text-align: right;\n",
       "    }\n",
       "</style>\n",
       "<table border=\"1\" class=\"dataframe\">\n",
       "  <thead>\n",
       "    <tr style=\"text-align: right;\">\n",
       "      <th></th>\n",
       "      <th>budget</th>\n",
       "      <th>genres</th>\n",
       "      <th>homepage</th>\n",
       "      <th>id</th>\n",
       "      <th>keywords</th>\n",
       "      <th>original_language</th>\n",
       "      <th>overview</th>\n",
       "      <th>popularity</th>\n",
       "      <th>production_companies</th>\n",
       "      <th>production_countries</th>\n",
       "      <th>release_date</th>\n",
       "      <th>revenue</th>\n",
       "      <th>runtime</th>\n",
       "      <th>spoken_languages</th>\n",
       "      <th>status</th>\n",
       "      <th>tagline</th>\n",
       "      <th>title</th>\n",
       "      <th>vote_average</th>\n",
       "      <th>vote_count</th>\n",
       "    </tr>\n",
       "  </thead>\n",
       "  <tbody>\n",
       "  </tbody>\n",
       "</table>\n",
       "</div>"
      ],
      "text/plain": [
       "Empty DataFrame\n",
       "Columns: [budget, genres, homepage, id, keywords, original_language, overview, popularity, production_companies, production_countries, release_date, revenue, runtime, spoken_languages, status, tagline, title, vote_average, vote_count]\n",
       "Index: []"
      ]
     },
     "execution_count": 14,
     "metadata": {},
     "output_type": "execute_result"
    }
   ],
   "source": [
    "df[df['budget'].isnull()]"
   ]
  },
  {
   "cell_type": "code",
   "execution_count": 15,
   "metadata": {
    "collapsed": false
   },
   "outputs": [
    {
     "data": {
      "text/plain": [
       "(1037, 19)"
      ]
     },
     "execution_count": 15,
     "metadata": {},
     "output_type": "execute_result"
    }
   ],
   "source": [
    "df['budget'] = pd.to_numeric(df['budget'], errors='coerce')\n",
    "df['budget'] = df['budget'].replace(0, np.nan)\n",
    "df[df['budget'].isnull()].shape"
   ]
  },
  {
   "cell_type": "markdown",
   "metadata": {
    "collapsed": true
   },
   "source": [
    "### Now, we will construct two very important features:\n",
    "\n",
    "### year: The year in which the movie was released.\n",
    "### return: The ratio of revenue to budget.\n",
    "### The return feature is extremely insightful as it will give us a more accurate picture of the financial success of a movie.This feature will be able to capture that information.\n",
    "\n",
    "### A return value > 1 would indicate profit whereas a return value < 1 would indicate a loss."
   ]
  },
  {
   "cell_type": "code",
   "execution_count": 16,
   "metadata": {
    "collapsed": true
   },
   "outputs": [],
   "source": [
    "df['return'] = df['revenue'] / df['budget']"
   ]
  },
  {
   "cell_type": "code",
   "execution_count": 17,
   "metadata": {
    "collapsed": false
   },
   "outputs": [
    {
     "data": {
      "text/plain": [
       "(1574, 20)"
      ]
     },
     "execution_count": 17,
     "metadata": {},
     "output_type": "execute_result"
    }
   ],
   "source": [
    "df[df['return'].isnull()].shape"
   ]
  },
  {
   "cell_type": "code",
   "execution_count": 18,
   "metadata": {
    "collapsed": false,
    "scrolled": true
   },
   "outputs": [],
   "source": [
    "df['return']= pd.DataFrame(df['return'])"
   ]
  },
  {
   "cell_type": "code",
   "execution_count": 19,
   "metadata": {
    "collapsed": false
   },
   "outputs": [
    {
     "data": {
      "text/plain": [
       "0    11.763566\n",
       "1     3.203333\n",
       "2     3.594590\n",
       "3     4.339756\n",
       "4     1.092843\n",
       "Name: return, dtype: float64"
      ]
     },
     "execution_count": 19,
     "metadata": {},
     "output_type": "execute_result"
    }
   ],
   "source": [
    "df['return'].head()"
   ]
  },
  {
   "cell_type": "markdown",
   "metadata": {
    "collapsed": true
   },
   "source": [
    "### Movie release dates also influence movie popularity or its success or in any way, So let's take out insight from this feature."
   ]
  },
  {
   "cell_type": "code",
   "execution_count": 20,
   "metadata": {
    "collapsed": false
   },
   "outputs": [],
   "source": [
    "df['year'] = pd.to_datetime(df['release_date'], errors='coerce').apply(lambda x: str(x).split('-')[0] if x != np.nan else np.nan)"
   ]
  },
  {
   "cell_type": "code",
   "execution_count": 21,
   "metadata": {
    "collapsed": false,
    "scrolled": true
   },
   "outputs": [
    {
     "data": {
      "text/plain": [
       "0    2009\n",
       "1    2007\n",
       "2    2015\n",
       "3    2012\n",
       "4    2012\n",
       "Name: year, dtype: object"
      ]
     },
     "execution_count": 21,
     "metadata": {},
     "output_type": "execute_result"
    }
   ],
   "source": [
    "df['year'].head()"
   ]
  },
  {
   "cell_type": "markdown",
   "metadata": {},
   "source": [
    "### Let's explore and visualize no. of movies according to years"
   ]
  },
  {
   "cell_type": "code",
   "execution_count": 22,
   "metadata": {
    "collapsed": false,
    "scrolled": false
   },
   "outputs": [
    {
     "data": {
      "text/html": [
       "<div>\n",
       "<style scoped>\n",
       "    .dataframe tbody tr th:only-of-type {\n",
       "        vertical-align: middle;\n",
       "    }\n",
       "\n",
       "    .dataframe tbody tr th {\n",
       "        vertical-align: top;\n",
       "    }\n",
       "\n",
       "    .dataframe thead th {\n",
       "        text-align: right;\n",
       "    }\n",
       "</style>\n",
       "<table border=\"1\" class=\"dataframe\">\n",
       "  <thead>\n",
       "    <tr style=\"text-align: right;\">\n",
       "      <th></th>\n",
       "      <th>title</th>\n",
       "      <th>year</th>\n",
       "    </tr>\n",
       "  </thead>\n",
       "  <tbody>\n",
       "    <tr>\n",
       "      <th>4668</th>\n",
       "      <td>The Stewardesses</td>\n",
       "      <td>1969</td>\n",
       "    </tr>\n",
       "    <tr>\n",
       "      <th>3764</th>\n",
       "      <td>Topaz</td>\n",
       "      <td>1969</td>\n",
       "    </tr>\n",
       "    <tr>\n",
       "      <th>3490</th>\n",
       "      <td>The Wild Bunch</td>\n",
       "      <td>1969</td>\n",
       "    </tr>\n",
       "    <tr>\n",
       "      <th>3823</th>\n",
       "      <td>Midnight Cowboy</td>\n",
       "      <td>1969</td>\n",
       "    </tr>\n",
       "    <tr>\n",
       "      <th>2140</th>\n",
       "      <td>Paint Your Wagon</td>\n",
       "      <td>1969</td>\n",
       "    </tr>\n",
       "    <tr>\n",
       "      <th>4211</th>\n",
       "      <td>Mississippi Mermaid</td>\n",
       "      <td>1969</td>\n",
       "    </tr>\n",
       "    <tr>\n",
       "      <th>3447</th>\n",
       "      <td>Butch Cassidy and the Sundance Kid</td>\n",
       "      <td>1969</td>\n",
       "    </tr>\n",
       "    <tr>\n",
       "      <th>2959</th>\n",
       "      <td>Machine Gun McCain</td>\n",
       "      <td>1969</td>\n",
       "    </tr>\n",
       "    <tr>\n",
       "      <th>2224</th>\n",
       "      <td>Sweet Charity</td>\n",
       "      <td>1969</td>\n",
       "    </tr>\n",
       "    <tr>\n",
       "      <th>3251</th>\n",
       "      <td>On Her Majesty's Secret Service</td>\n",
       "      <td>1969</td>\n",
       "    </tr>\n",
       "  </tbody>\n",
       "</table>\n",
       "</div>"
      ],
      "text/plain": [
       "                                   title  year\n",
       "4668                    The Stewardesses  1969\n",
       "3764                               Topaz  1969\n",
       "3490                      The Wild Bunch  1969\n",
       "3823                     Midnight Cowboy  1969\n",
       "2140                    Paint Your Wagon  1969\n",
       "4211                 Mississippi Mermaid  1969\n",
       "3447  Butch Cassidy and the Sundance Kid  1969\n",
       "2959                  Machine Gun McCain  1969\n",
       "2224                       Sweet Charity  1969\n",
       "3251     On Her Majesty's Secret Service  1969"
      ]
     },
     "execution_count": 22,
     "metadata": {},
     "output_type": "execute_result"
    }
   ],
   "source": [
    "df[df['year'] != 'NaT'][['title', 'year']].sort_values('year', ascending=True).head(10)"
   ]
  },
  {
   "cell_type": "code",
   "execution_count": 23,
   "metadata": {
    "collapsed": false
   },
   "outputs": [
    {
     "data": {
      "text/plain": [
       "<matplotlib.axes._subplots.AxesSubplot at 0x7f3887ca1278>"
      ]
     },
     "execution_count": 23,
     "metadata": {},
     "output_type": "execute_result"
    },
    {
     "data": {
      "image/png": "[encoded data removed]",
      "text/plain": [
       "<Figure size 1296x360 with 1 Axes>"
      ]
     },
     "metadata": {
      "needs_background": "light"
     },
     "output_type": "display_data"
    }
   ],
   "source": [
    "year_count = df.groupby('year')['title'].count()\n",
    "plt.figure(figsize=(18,5))\n",
    "plt.tick_params(axis='both', which='major', labelsize=10)\n",
    "year_count.plot()"
   ]
  },
  {
   "cell_type": "markdown",
   "metadata": {},
   "source": [
    "### The plot is showing that maximum no. of movies are in mid between of our time span of years"
   ]
  },
  {
   "cell_type": "markdown",
   "metadata": {},
   "source": [
    "### let's proceed with overview and title page to explore to know frequency of specific words in the movie market according to data."
   ]
  },
  {
   "cell_type": "code",
   "execution_count": 24,
   "metadata": {
    "collapsed": true
   },
   "outputs": [],
   "source": [
    "df['title'] = df['title'].astype('str')\n",
    "df['overview'] = df['overview'].astype('str')"
   ]
  },
  {
   "cell_type": "markdown",
   "metadata": {},
   "source": [
    "### Let's make a corpus for both features i.e. title and overview"
   ]
  },
  {
   "cell_type": "code",
   "execution_count": 25,
   "metadata": {
    "collapsed": true
   },
   "outputs": [],
   "source": [
    "title_corpus = ' '.join(df['title'])\n",
    "overview_corpus = ' '.join(df['overview'])"
   ]
  },
  {
   "cell_type": "code",
   "execution_count": 26,
   "metadata": {
    "collapsed": false
   },
   "outputs": [
    {
     "name": "stdout",
     "output_type": "stream",
     "text": [
      "Requirement already satisfied: plotly in ./common/.virtualenv/python3/lib/python3.5/site-packages (4.1.1)\r\n",
      "Requirement already satisfied: six in /usr/local/lib/python3.5/dist-packages (from plotly) (1.11.0)\r\n",
      "Requirement already satisfied: retrying>=1.3.3 in ./common/.virtualenv/python3/lib/python3.5/site-packages (from plotly) (1.3.3)\r\n"
     ]
    }
   ],
   "source": [
    "!pip install plotly"
   ]
  },
  {
   "cell_type": "code",
   "execution_count": 27,
   "metadata": {
    "collapsed": false,
    "scrolled": true
   },
   "outputs": [
    {
     "name": "stdout",
     "output_type": "stream",
     "text": [
      "Requirement already up-to-date: pip in ./common/.virtualenv/python3/lib/python3.5/site-packages (19.2.3)\r\n"
     ]
    }
   ],
   "source": [
    "!pip install --upgrade pip"
   ]
  },
  {
   "cell_type": "code",
   "execution_count": 28,
   "metadata": {
    "collapsed": false
   },
   "outputs": [
    {
     "name": "stdout",
     "output_type": "stream",
     "text": [
      "Requirement already satisfied: plotly in ./common/.virtualenv/python3/lib/python3.5/site-packages (4.1.1)\n",
      "Requirement already satisfied: retrying>=1.3.3 in ./common/.virtualenv/python3/lib/python3.5/site-packages (from plotly) (1.3.3)\n",
      "Requirement already satisfied: six in /usr/local/lib/python3.5/dist-packages (from plotly) (1.11.0)\n"
     ]
    }
   ],
   "source": [
    "!pip install plotly"
   ]
  },
  {
   "cell_type": "code",
   "execution_count": 29,
   "metadata": {
    "collapsed": false
   },
   "outputs": [],
   "source": [
    "from wordcloud import WordCloud, STOPWORDS\n",
    "import plotly"
   ]
  },
  {
   "cell_type": "code",
   "execution_count": 30,
   "metadata": {
    "collapsed": false
   },
   "outputs": [
    {
     "data": {
      "image/png": "[encoded data removed]",
      "text/plain": [
       "<Figure size 1152x576 with 1 Axes>"
      ]
     },
     "metadata": {
      "needs_background": "light"
     },
     "output_type": "display_data"
    }
   ],
   "source": [
    "title_wordcloud = WordCloud(stopwords=STOPWORDS, background_color='white', height=2000, width=4000).generate(title_corpus)\n",
    "plt.figure(figsize=(16,8))\n",
    "plt.imshow(title_wordcloud)\n",
    "plt.axis('off')\n",
    "plt.show()"
   ]
  },
  {
   "cell_type": "markdown",
   "metadata": {},
   "source": [
    "### We can see that some words like man, girl, love, dead, good are very frequent in titles of movies according to this wordcloud for titles of movies"
   ]
  },
  {
   "cell_type": "code",
   "execution_count": 31,
   "metadata": {
    "collapsed": false
   },
   "outputs": [
    {
     "data": {
      "image/png": "[encoded data removed]",
      "text/plain": [
       "<Figure size 1152x576 with 1 Axes>"
      ]
     },
     "metadata": {
      "needs_background": "light"
     },
     "output_type": "display_data"
    }
   ],
   "source": [
    "overview_wordcloud = WordCloud(stopwords=STOPWORDS, background_color='white', height=2500, width=5000).generate(overview_corpus)\n",
    "plt.figure(figsize=(16,8))\n",
    "plt.imshow(overview_wordcloud)\n",
    "plt.axis('off')\n",
    "plt.show()"
   ]
  },
  {
   "cell_type": "markdown",
   "metadata": {},
   "source": [
    "### Overview corpus is showing some frequent words for movies that are world, family, friend, life.\n",
    "### Summarizing these two features above we can get good idea about movie titles & their themes.\n",
    "### Till now we have analyse data on multiple factors for these movies dataset so moving further towards languages for movies so that we got to know that in which languages movies have been shooted mostly."
   ]
  },
  {
   "cell_type": "code",
   "execution_count": 32,
   "metadata": {
    "collapsed": false
   },
   "outputs": [
    {
     "data": {
      "text/plain": [
       "37"
      ]
     },
     "execution_count": 32,
     "metadata": {},
     "output_type": "execute_result"
    }
   ],
   "source": [
    "df['original_language'].unique().shape[0]"
   ]
  },
  {
   "cell_type": "markdown",
   "metadata": {},
   "source": [
    "### Therefore we have 37 unique languages"
   ]
  },
  {
   "cell_type": "code",
   "execution_count": 33,
   "metadata": {
    "collapsed": false
   },
   "outputs": [
    {
     "data": {
      "text/html": [
       "<div>\n",
       "<style scoped>\n",
       "    .dataframe tbody tr th:only-of-type {\n",
       "        vertical-align: middle;\n",
       "    }\n",
       "\n",
       "    .dataframe tbody tr th {\n",
       "        vertical-align: top;\n",
       "    }\n",
       "\n",
       "    .dataframe thead th {\n",
       "        text-align: right;\n",
       "    }\n",
       "</style>\n",
       "<table border=\"1\" class=\"dataframe\">\n",
       "  <thead>\n",
       "    <tr style=\"text-align: right;\">\n",
       "      <th></th>\n",
       "      <th>number</th>\n",
       "      <th>language</th>\n",
       "    </tr>\n",
       "  </thead>\n",
       "  <tbody>\n",
       "    <tr>\n",
       "      <th>en</th>\n",
       "      <td>4505</td>\n",
       "      <td>en</td>\n",
       "    </tr>\n",
       "    <tr>\n",
       "      <th>fr</th>\n",
       "      <td>70</td>\n",
       "      <td>fr</td>\n",
       "    </tr>\n",
       "    <tr>\n",
       "      <th>es</th>\n",
       "      <td>32</td>\n",
       "      <td>es</td>\n",
       "    </tr>\n",
       "    <tr>\n",
       "      <th>de</th>\n",
       "      <td>27</td>\n",
       "      <td>de</td>\n",
       "    </tr>\n",
       "    <tr>\n",
       "      <th>zh</th>\n",
       "      <td>27</td>\n",
       "      <td>zh</td>\n",
       "    </tr>\n",
       "    <tr>\n",
       "      <th>hi</th>\n",
       "      <td>19</td>\n",
       "      <td>hi</td>\n",
       "    </tr>\n",
       "    <tr>\n",
       "      <th>ja</th>\n",
       "      <td>16</td>\n",
       "      <td>ja</td>\n",
       "    </tr>\n",
       "    <tr>\n",
       "      <th>it</th>\n",
       "      <td>14</td>\n",
       "      <td>it</td>\n",
       "    </tr>\n",
       "    <tr>\n",
       "      <th>cn</th>\n",
       "      <td>12</td>\n",
       "      <td>cn</td>\n",
       "    </tr>\n",
       "    <tr>\n",
       "      <th>ru</th>\n",
       "      <td>11</td>\n",
       "      <td>ru</td>\n",
       "    </tr>\n",
       "  </tbody>\n",
       "</table>\n",
       "</div>"
      ],
      "text/plain": [
       "    number language\n",
       "en    4505       en\n",
       "fr      70       fr\n",
       "es      32       es\n",
       "de      27       de\n",
       "zh      27       zh\n",
       "hi      19       hi\n",
       "ja      16       ja\n",
       "it      14       it\n",
       "cn      12       cn\n",
       "ru      11       ru"
      ]
     },
     "execution_count": 33,
     "metadata": {},
     "output_type": "execute_result"
    }
   ],
   "source": [
    "language_df = pd.DataFrame(df['original_language'].value_counts())\n",
    "language_df['language'] = language_df.index\n",
    "language_df.columns = ['number', 'language']\n",
    "language_df.head(10)"
   ]
  },
  {
   "cell_type": "markdown",
   "metadata": {},
   "source": [
    "### Now we have count for each unique language for all movies"
   ]
  },
  {
   "cell_type": "markdown",
   "metadata": {},
   "source": [
    "### Let's visualize these languages along with their numbers in a bar chart to be more clear"
   ]
  },
  {
   "cell_type": "code",
   "execution_count": 34,
   "metadata": {
    "collapsed": false
   },
   "outputs": [
    {
     "data": {
      "image/png": "[encoded data removed]",
      "text/plain": [
       "<Figure size 1440x1080 with 1 Axes>"
      ]
     },
     "metadata": {
      "needs_background": "light"
     },
     "output_type": "display_data"
    }
   ],
   "source": [
    "plt.figure(figsize=(20,15))\n",
    "sns.barplot(x=\"language\", y=\"number\", data=language_df.iloc[1:15])\n",
    "plt.xlabel(\"language\")\n",
    "plt.ylabel(\"number\")\n",
    "plt.title(\"Language Distribution\")\n",
    "plt.show()"
   ]
  },
  {
   "cell_type": "markdown",
   "metadata": {},
   "source": [
    "### Here we have visualize language distribution for all languages except english\n",
    "### Apart from English, mostly movies are in french, spanish and then dutch and so on as seen above in bar chart."
   ]
  },
  {
   "cell_type": "markdown",
   "metadata": {
    "collapsed": true
   },
   "source": [
    "### Now we are going to explore popularity of movies by exploring multiple features followed be their correlation.\n",
    "### Popularity, Voted_average, Vote_count, Status, Spoken_languages, Runtime "
   ]
  },
  {
   "cell_type": "code",
   "execution_count": 35,
   "metadata": {
    "collapsed": true
   },
   "outputs": [],
   "source": [
    "def numeric_data(x):\n",
    "    try:\n",
    "        return float(x)\n",
    "    except:\n",
    "        return np.nan"
   ]
  },
  {
   "cell_type": "code",
   "execution_count": 36,
   "metadata": {
    "collapsed": true
   },
   "outputs": [],
   "source": [
    "df['popularity'] = df['popularity'].apply(numeric_data).astype('float')"
   ]
  },
  {
   "cell_type": "code",
   "execution_count": 37,
   "metadata": {
    "collapsed": true
   },
   "outputs": [],
   "source": [
    "df['popularity'] = df['popularity'].replace(0, np.nan)"
   ]
  },
  {
   "cell_type": "code",
   "execution_count": 38,
   "metadata": {
    "collapsed": false
   },
   "outputs": [
    {
     "data": {
      "text/plain": [
       "count    4802.000000\n",
       "mean       21.496776\n",
       "std        31.818451\n",
       "min         0.000372\n",
       "25%         4.671734\n",
       "50%        12.924931\n",
       "75%        28.332017\n",
       "max       875.581305\n",
       "Name: popularity, dtype: float64"
      ]
     },
     "execution_count": 38,
     "metadata": {},
     "output_type": "execute_result"
    }
   ],
   "source": [
    "df['popularity'].describe() # Statistics for feature description"
   ]
  },
  {
   "cell_type": "markdown",
   "metadata": {
    "collapsed": true
   },
   "source": [
    "### Let's visualize this to examine insights"
   ]
  },
  {
   "cell_type": "code",
   "execution_count": 39,
   "metadata": {
    "collapsed": false
   },
   "outputs": [
    {
     "data": {
      "image/png": "[encoded data removed]",
      "text/plain": [
       "<Figure size 432x288 with 1 Axes>"
      ]
     },
     "metadata": {
      "needs_background": "light"
     },
     "output_type": "display_data"
    }
   ],
   "source": [
    "sns.distplot(df['popularity'].fillna(df['popularity'].median()))\n",
    "plt.show()"
   ]
  },
  {
   "cell_type": "markdown",
   "metadata": {
    "collapsed": true
   },
   "source": [
    "### We can see that all movies score is around 100 which is more than than 75th percentile of distribution plot(i.e. 28.31) but it is somewhere right skewed distribution in which mean is less than standard deviation."
   ]
  },
  {
   "cell_type": "markdown",
   "metadata": {
    "collapsed": true
   },
   "source": [
    "### So if we want to see most popular movies and least popular movies then we have to sort values according to popularity & title."
   ]
  },
  {
   "cell_type": "code",
   "execution_count": 40,
   "metadata": {
    "collapsed": false
   },
   "outputs": [
    {
     "data": {
      "text/html": [
       "<div>\n",
       "<style scoped>\n",
       "    .dataframe tbody tr th:only-of-type {\n",
       "        vertical-align: middle;\n",
       "    }\n",
       "\n",
       "    .dataframe tbody tr th {\n",
       "        vertical-align: top;\n",
       "    }\n",
       "\n",
       "    .dataframe thead th {\n",
       "        text-align: right;\n",
       "    }\n",
       "</style>\n",
       "<table border=\"1\" class=\"dataframe\">\n",
       "  <thead>\n",
       "    <tr style=\"text-align: right;\">\n",
       "      <th></th>\n",
       "      <th>title</th>\n",
       "      <th>popularity</th>\n",
       "    </tr>\n",
       "  </thead>\n",
       "  <tbody>\n",
       "    <tr>\n",
       "      <th>546</th>\n",
       "      <td>Minions</td>\n",
       "      <td>875.581305</td>\n",
       "    </tr>\n",
       "    <tr>\n",
       "      <th>95</th>\n",
       "      <td>Interstellar</td>\n",
       "      <td>724.247784</td>\n",
       "    </tr>\n",
       "    <tr>\n",
       "      <th>788</th>\n",
       "      <td>Deadpool</td>\n",
       "      <td>514.569956</td>\n",
       "    </tr>\n",
       "    <tr>\n",
       "      <th>94</th>\n",
       "      <td>Guardians of the Galaxy</td>\n",
       "      <td>481.098624</td>\n",
       "    </tr>\n",
       "    <tr>\n",
       "      <th>127</th>\n",
       "      <td>Mad Max: Fury Road</td>\n",
       "      <td>434.278564</td>\n",
       "    </tr>\n",
       "    <tr>\n",
       "      <th>28</th>\n",
       "      <td>Jurassic World</td>\n",
       "      <td>418.708552</td>\n",
       "    </tr>\n",
       "    <tr>\n",
       "      <th>199</th>\n",
       "      <td>Pirates of the Caribbean: The Curse of the Bla...</td>\n",
       "      <td>271.972889</td>\n",
       "    </tr>\n",
       "    <tr>\n",
       "      <th>82</th>\n",
       "      <td>Dawn of the Planet of the Apes</td>\n",
       "      <td>243.791743</td>\n",
       "    </tr>\n",
       "    <tr>\n",
       "      <th>200</th>\n",
       "      <td>The Hunger Games: Mockingjay - Part 1</td>\n",
       "      <td>206.227151</td>\n",
       "    </tr>\n",
       "    <tr>\n",
       "      <th>88</th>\n",
       "      <td>Big Hero 6</td>\n",
       "      <td>203.734590</td>\n",
       "    </tr>\n",
       "  </tbody>\n",
       "</table>\n",
       "</div>"
      ],
      "text/plain": [
       "                                                 title  popularity\n",
       "546                                            Minions  875.581305\n",
       "95                                        Interstellar  724.247784\n",
       "788                                           Deadpool  514.569956\n",
       "94                             Guardians of the Galaxy  481.098624\n",
       "127                                 Mad Max: Fury Road  434.278564\n",
       "28                                      Jurassic World  418.708552\n",
       "199  Pirates of the Caribbean: The Curse of the Bla...  271.972889\n",
       "82                      Dawn of the Planet of the Apes  243.791743\n",
       "200              The Hunger Games: Mockingjay - Part 1  206.227151\n",
       "88                                          Big Hero 6  203.734590"
      ]
     },
     "execution_count": 40,
     "metadata": {},
     "output_type": "execute_result"
    }
   ],
   "source": [
    "df[['title', 'popularity']].sort_values('popularity', ascending=False).head(10)"
   ]
  },
  {
   "cell_type": "markdown",
   "metadata": {},
   "source": [
    "### We can extract from above that Minions is most popular movie amongst all and then Interstellar. After this in decreasing popularity range movies came as shown in above dataframe. "
   ]
  },
  {
   "cell_type": "markdown",
   "metadata": {},
   "source": [
    "### Same thing we will do for vate_average and vote_count"
   ]
  },
  {
   "cell_type": "code",
   "execution_count": 41,
   "metadata": {
    "collapsed": true
   },
   "outputs": [],
   "source": [
    "df['vote_average'] = df['vote_average'].apply(numeric_data).astype('float')"
   ]
  },
  {
   "cell_type": "code",
   "execution_count": 42,
   "metadata": {
    "collapsed": true
   },
   "outputs": [],
   "source": [
    "df['vote_average'] = df['vote_average'].replace(0, np.nan)"
   ]
  },
  {
   "cell_type": "code",
   "execution_count": 43,
   "metadata": {
    "collapsed": false
   },
   "outputs": [
    {
     "data": {
      "text/plain": [
       "count    4740.000000\n",
       "mean        6.173143\n",
       "std         0.972684\n",
       "min         0.500000\n",
       "25%         5.600000\n",
       "50%         6.200000\n",
       "75%         6.800000\n",
       "max        10.000000\n",
       "Name: vote_average, dtype: float64"
      ]
     },
     "execution_count": 43,
     "metadata": {},
     "output_type": "execute_result"
    }
   ],
   "source": [
    "df['vote_average'].describe() # Statistics for feature description"
   ]
  },
  {
   "cell_type": "markdown",
   "metadata": {
    "collapsed": true
   },
   "source": [
    "### Let's visualize this to examine insights"
   ]
  },
  {
   "cell_type": "code",
   "execution_count": 44,
   "metadata": {
    "collapsed": false
   },
   "outputs": [
    {
     "data": {
      "image/png": "[encoded data removed]",
      "text/plain": [
       "<Figure size 432x288 with 1 Axes>"
      ]
     },
     "metadata": {
      "needs_background": "light"
     },
     "output_type": "display_data"
    }
   ],
   "source": [
    "sns.distplot(df['vote_average'].fillna(df['vote_average'].median()))\n",
    "plt.show()"
   ]
  },
  {
   "cell_type": "markdown",
   "metadata": {},
   "source": [
    "### Distribution plot is very normally distributed that mean and center are almost at same place, plot is not skewed to any side.Therefore movies below 6 have less rating and above 6 have high seems to be very symmetrical and fixed."
   ]
  },
  {
   "cell_type": "code",
   "execution_count": 45,
   "metadata": {
    "collapsed": false,
    "scrolled": true
   },
   "outputs": [
    {
     "data": {
      "text/html": [
       "<div>\n",
       "<style scoped>\n",
       "    .dataframe tbody tr th:only-of-type {\n",
       "        vertical-align: middle;\n",
       "    }\n",
       "\n",
       "    .dataframe tbody tr th {\n",
       "        vertical-align: top;\n",
       "    }\n",
       "\n",
       "    .dataframe thead th {\n",
       "        text-align: right;\n",
       "    }\n",
       "</style>\n",
       "<table border=\"1\" class=\"dataframe\">\n",
       "  <thead>\n",
       "    <tr style=\"text-align: right;\">\n",
       "      <th></th>\n",
       "      <th>title</th>\n",
       "      <th>vote_average</th>\n",
       "    </tr>\n",
       "  </thead>\n",
       "  <tbody>\n",
       "    <tr>\n",
       "      <th>4045</th>\n",
       "      <td>Dancer, Texas Pop. 81</td>\n",
       "      <td>10.0</td>\n",
       "    </tr>\n",
       "    <tr>\n",
       "      <th>4247</th>\n",
       "      <td>Me You and Five Bucks</td>\n",
       "      <td>10.0</td>\n",
       "    </tr>\n",
       "    <tr>\n",
       "      <th>3519</th>\n",
       "      <td>Stiff Upper Lips</td>\n",
       "      <td>10.0</td>\n",
       "    </tr>\n",
       "    <tr>\n",
       "      <th>4662</th>\n",
       "      <td>Little Big Top</td>\n",
       "      <td>10.0</td>\n",
       "    </tr>\n",
       "    <tr>\n",
       "      <th>3992</th>\n",
       "      <td>Sardaarji</td>\n",
       "      <td>9.5</td>\n",
       "    </tr>\n",
       "    <tr>\n",
       "      <th>2386</th>\n",
       "      <td>One Man's Hero</td>\n",
       "      <td>9.3</td>\n",
       "    </tr>\n",
       "    <tr>\n",
       "      <th>2970</th>\n",
       "      <td>There Goes My Baby</td>\n",
       "      <td>8.5</td>\n",
       "    </tr>\n",
       "    <tr>\n",
       "      <th>1881</th>\n",
       "      <td>The Shawshank Redemption</td>\n",
       "      <td>8.5</td>\n",
       "    </tr>\n",
       "    <tr>\n",
       "      <th>2796</th>\n",
       "      <td>The Prisoner of Zenda</td>\n",
       "      <td>8.4</td>\n",
       "    </tr>\n",
       "    <tr>\n",
       "      <th>3337</th>\n",
       "      <td>The Godfather</td>\n",
       "      <td>8.4</td>\n",
       "    </tr>\n",
       "  </tbody>\n",
       "</table>\n",
       "</div>"
      ],
      "text/plain": [
       "                         title  vote_average\n",
       "4045     Dancer, Texas Pop. 81          10.0\n",
       "4247     Me You and Five Bucks          10.0\n",
       "3519          Stiff Upper Lips          10.0\n",
       "4662            Little Big Top          10.0\n",
       "3992                 Sardaarji           9.5\n",
       "2386            One Man's Hero           9.3\n",
       "2970        There Goes My Baby           8.5\n",
       "1881  The Shawshank Redemption           8.5\n",
       "2796     The Prisoner of Zenda           8.4\n",
       "3337             The Godfather           8.4"
      ]
     },
     "execution_count": 45,
     "metadata": {},
     "output_type": "execute_result"
    }
   ],
   "source": [
    "df[['title', 'vote_average']].sort_values('vote_average', ascending=False).head(10)"
   ]
  },
  {
   "cell_type": "markdown",
   "metadata": {},
   "source": [
    "### Vote_Count"
   ]
  },
  {
   "cell_type": "code",
   "execution_count": 46,
   "metadata": {
    "collapsed": true
   },
   "outputs": [],
   "source": [
    "df['vote_count'] = df['vote_count'].apply(numeric_data).astype('float')"
   ]
  },
  {
   "cell_type": "code",
   "execution_count": 47,
   "metadata": {
    "collapsed": true
   },
   "outputs": [],
   "source": [
    "df['vote_count'] = df['vote_count'].replace(0, np.nan)"
   ]
  },
  {
   "cell_type": "code",
   "execution_count": 48,
   "metadata": {
    "collapsed": false
   },
   "outputs": [
    {
     "data": {
      "text/plain": [
       "count     4741.000000\n",
       "mean       699.244252\n",
       "std       1240.091227\n",
       "min          1.000000\n",
       "25%         58.000000\n",
       "50%        242.000000\n",
       "75%        750.000000\n",
       "max      13752.000000\n",
       "Name: vote_count, dtype: float64"
      ]
     },
     "execution_count": 48,
     "metadata": {},
     "output_type": "execute_result"
    }
   ],
   "source": [
    "df['vote_count'].describe() # Statistics for feature description"
   ]
  },
  {
   "cell_type": "markdown",
   "metadata": {
    "collapsed": true
   },
   "source": [
    "### Let's visualize this to examine insights"
   ]
  },
  {
   "cell_type": "code",
   "execution_count": 49,
   "metadata": {
    "collapsed": false
   },
   "outputs": [
    {
     "data": {
      "image/png": "[encoded data removed]",
      "text/plain": [
       "<Figure size 432x288 with 1 Axes>"
      ]
     },
     "metadata": {
      "needs_background": "light"
     },
     "output_type": "display_data"
    }
   ],
   "source": [
    "sns.distplot(df['vote_count'].fillna(df['vote_count'].median()))\n",
    "plt.show()"
   ]
  },
  {
   "cell_type": "code",
   "execution_count": 50,
   "metadata": {
    "collapsed": false,
    "scrolled": true
   },
   "outputs": [
    {
     "data": {
      "text/html": [
       "<div>\n",
       "<style scoped>\n",
       "    .dataframe tbody tr th:only-of-type {\n",
       "        vertical-align: middle;\n",
       "    }\n",
       "\n",
       "    .dataframe tbody tr th {\n",
       "        vertical-align: top;\n",
       "    }\n",
       "\n",
       "    .dataframe thead th {\n",
       "        text-align: right;\n",
       "    }\n",
       "</style>\n",
       "<table border=\"1\" class=\"dataframe\">\n",
       "  <thead>\n",
       "    <tr style=\"text-align: right;\">\n",
       "      <th></th>\n",
       "      <th>title</th>\n",
       "      <th>vote_count</th>\n",
       "    </tr>\n",
       "  </thead>\n",
       "  <tbody>\n",
       "    <tr>\n",
       "      <th>96</th>\n",
       "      <td>Inception</td>\n",
       "      <td>13752.0</td>\n",
       "    </tr>\n",
       "    <tr>\n",
       "      <th>65</th>\n",
       "      <td>The Dark Knight</td>\n",
       "      <td>12002.0</td>\n",
       "    </tr>\n",
       "    <tr>\n",
       "      <th>0</th>\n",
       "      <td>Avatar</td>\n",
       "      <td>11800.0</td>\n",
       "    </tr>\n",
       "    <tr>\n",
       "      <th>16</th>\n",
       "      <td>The Avengers</td>\n",
       "      <td>11776.0</td>\n",
       "    </tr>\n",
       "    <tr>\n",
       "      <th>788</th>\n",
       "      <td>Deadpool</td>\n",
       "      <td>10995.0</td>\n",
       "    </tr>\n",
       "    <tr>\n",
       "      <th>95</th>\n",
       "      <td>Interstellar</td>\n",
       "      <td>10867.0</td>\n",
       "    </tr>\n",
       "    <tr>\n",
       "      <th>287</th>\n",
       "      <td>Django Unchained</td>\n",
       "      <td>10099.0</td>\n",
       "    </tr>\n",
       "    <tr>\n",
       "      <th>94</th>\n",
       "      <td>Guardians of the Galaxy</td>\n",
       "      <td>9742.0</td>\n",
       "    </tr>\n",
       "    <tr>\n",
       "      <th>426</th>\n",
       "      <td>The Hunger Games</td>\n",
       "      <td>9455.0</td>\n",
       "    </tr>\n",
       "    <tr>\n",
       "      <th>127</th>\n",
       "      <td>Mad Max: Fury Road</td>\n",
       "      <td>9427.0</td>\n",
       "    </tr>\n",
       "  </tbody>\n",
       "</table>\n",
       "</div>"
      ],
      "text/plain": [
       "                       title  vote_count\n",
       "96                 Inception     13752.0\n",
       "65           The Dark Knight     12002.0\n",
       "0                     Avatar     11800.0\n",
       "16              The Avengers     11776.0\n",
       "788                 Deadpool     10995.0\n",
       "95              Interstellar     10867.0\n",
       "287         Django Unchained     10099.0\n",
       "94   Guardians of the Galaxy      9742.0\n",
       "426         The Hunger Games      9455.0\n",
       "127       Mad Max: Fury Road      9427.0"
      ]
     },
     "execution_count": 50,
     "metadata": {},
     "output_type": "execute_result"
    }
   ],
   "source": [
    "df[['title', 'vote_count']].sort_values('vote_count', ascending=False).head(10)"
   ]
  },
  {
   "cell_type": "markdown",
   "metadata": {},
   "source": [
    "### Lets join vote_count, vote_average as per title to check which movie is highly voted in every aspect"
   ]
  },
  {
   "cell_type": "code",
   "execution_count": 51,
   "metadata": {
    "collapsed": false
   },
   "outputs": [
    {
     "data": {
      "text/html": [
       "<div>\n",
       "<style scoped>\n",
       "    .dataframe tbody tr th:only-of-type {\n",
       "        vertical-align: middle;\n",
       "    }\n",
       "\n",
       "    .dataframe tbody tr th {\n",
       "        vertical-align: top;\n",
       "    }\n",
       "\n",
       "    .dataframe thead th {\n",
       "        text-align: right;\n",
       "    }\n",
       "</style>\n",
       "<table border=\"1\" class=\"dataframe\">\n",
       "  <thead>\n",
       "    <tr style=\"text-align: right;\">\n",
       "      <th></th>\n",
       "      <th>title</th>\n",
       "      <th>vote_average</th>\n",
       "      <th>vote_count</th>\n",
       "    </tr>\n",
       "  </thead>\n",
       "  <tbody>\n",
       "    <tr>\n",
       "      <th>1881</th>\n",
       "      <td>The Shawshank Redemption</td>\n",
       "      <td>8.5</td>\n",
       "      <td>8205.0</td>\n",
       "    </tr>\n",
       "    <tr>\n",
       "      <th>3337</th>\n",
       "      <td>The Godfather</td>\n",
       "      <td>8.4</td>\n",
       "      <td>5893.0</td>\n",
       "    </tr>\n",
       "    <tr>\n",
       "      <th>3232</th>\n",
       "      <td>Pulp Fiction</td>\n",
       "      <td>8.3</td>\n",
       "      <td>8428.0</td>\n",
       "    </tr>\n",
       "    <tr>\n",
       "      <th>2731</th>\n",
       "      <td>The Godfather: Part II</td>\n",
       "      <td>8.3</td>\n",
       "      <td>3338.0</td>\n",
       "    </tr>\n",
       "    <tr>\n",
       "      <th>2294</th>\n",
       "      <td>Spirited Away</td>\n",
       "      <td>8.3</td>\n",
       "      <td>3840.0</td>\n",
       "    </tr>\n",
       "    <tr>\n",
       "      <th>1818</th>\n",
       "      <td>Schindler's List</td>\n",
       "      <td>8.3</td>\n",
       "      <td>4329.0</td>\n",
       "    </tr>\n",
       "    <tr>\n",
       "      <th>3865</th>\n",
       "      <td>Whiplash</td>\n",
       "      <td>8.3</td>\n",
       "      <td>4254.0</td>\n",
       "    </tr>\n",
       "    <tr>\n",
       "      <th>662</th>\n",
       "      <td>Fight Club</td>\n",
       "      <td>8.3</td>\n",
       "      <td>9413.0</td>\n",
       "    </tr>\n",
       "    <tr>\n",
       "      <th>690</th>\n",
       "      <td>The Green Mile</td>\n",
       "      <td>8.2</td>\n",
       "      <td>4048.0</td>\n",
       "    </tr>\n",
       "    <tr>\n",
       "      <th>3719</th>\n",
       "      <td>One Flew Over the Cuckoo's Nest</td>\n",
       "      <td>8.2</td>\n",
       "      <td>2919.0</td>\n",
       "    </tr>\n",
       "  </tbody>\n",
       "</table>\n",
       "</div>"
      ],
      "text/plain": [
       "                                title  vote_average  vote_count\n",
       "1881         The Shawshank Redemption           8.5      8205.0\n",
       "3337                    The Godfather           8.4      5893.0\n",
       "3232                     Pulp Fiction           8.3      8428.0\n",
       "2731           The Godfather: Part II           8.3      3338.0\n",
       "2294                    Spirited Away           8.3      3840.0\n",
       "1818                 Schindler's List           8.3      4329.0\n",
       "3865                         Whiplash           8.3      4254.0\n",
       "662                        Fight Club           8.3      9413.0\n",
       "690                    The Green Mile           8.2      4048.0\n",
       "3719  One Flew Over the Cuckoo's Nest           8.2      2919.0"
      ]
     },
     "execution_count": 51,
     "metadata": {},
     "output_type": "execute_result"
    }
   ],
   "source": [
    "df[df['vote_count'] > 1000][['title', 'vote_average', 'vote_count']].sort_values('vote_average', ascending=False).head(10)"
   ]
  },
  {
   "cell_type": "markdown",
   "metadata": {},
   "source": [
    "### Question that comes in mind now is if popularity has any relationship like there is between vote_avg. and vote_count. To see this we have to make scatter plot and if there is any relation between vote_count/vote_avg. and popularity, we will join popularity also to above dataframe"
   ]
  },
  {
   "cell_type": "code",
   "execution_count": 52,
   "metadata": {
    "collapsed": false
   },
   "outputs": [
    {
     "data": {
      "text/plain": [
       "<seaborn.axisgrid.JointGrid at 0x7f3886036438>"
      ]
     },
     "execution_count": 52,
     "metadata": {},
     "output_type": "execute_result"
    },
    {
     "data": {
      "image/png": "[encoded data removed]",
      "text/plain": [
       "<Figure size 432x432 with 3 Axes>"
      ]
     },
     "metadata": {
      "needs_background": "light"
     },
     "output_type": "display_data"
    }
   ],
   "source": [
    "sns.jointplot(x='vote_average', y='popularity', data=df)"
   ]
  },
  {
   "cell_type": "code",
   "execution_count": 53,
   "metadata": {
    "collapsed": false
   },
   "outputs": [
    {
     "data": {
      "text/plain": [
       "<seaborn.axisgrid.JointGrid at 0x7f388608c9b0>"
      ]
     },
     "execution_count": 53,
     "metadata": {},
     "output_type": "execute_result"
    },
    {
     "data": {
      "image/png": "[encoded data removed]",
      "text/plain": [
       "<Figure size 432x432 with 3 Axes>"
      ]
     },
     "metadata": {
      "needs_background": "light"
     },
     "output_type": "display_data"
    }
   ],
   "source": [
    "sns.jointplot(x='vote_count', y='popularity', data=df)"
   ]
  },
  {
   "cell_type": "markdown",
   "metadata": {},
   "source": [
    "### In both above cases pearson coefficient is between 0-1 which implies that there is some relation between popularity and these two features but is not strong enough that we could deduce any insight from this."
   ]
  },
  {
   "cell_type": "markdown",
   "metadata": {},
   "source": [
    "### Although movie status is not really data analysis which is going to be useful for us, because almost every movie status is released. But in case of recommendation of movies or in case of intelligent chatbots it can be useful."
   ]
  },
  {
   "cell_type": "code",
   "execution_count": 54,
   "metadata": {
    "collapsed": false
   },
   "outputs": [
    {
     "data": {
      "text/plain": [
       "Released           4795\n",
       "Rumored               5\n",
       "Post Production       3\n",
       "Name: status, dtype: int64"
      ]
     },
     "execution_count": 54,
     "metadata": {},
     "output_type": "execute_result"
    }
   ],
   "source": [
    "df['status'].value_counts()"
   ]
  },
  {
   "cell_type": "markdown",
   "metadata": {},
   "source": [
    "### Now we will see runtime affect on movies data.We will extract some interesting insight from length of movie."
   ]
  },
  {
   "cell_type": "code",
   "execution_count": 55,
   "metadata": {
    "collapsed": false,
    "scrolled": true
   },
   "outputs": [
    {
     "data": {
      "text/plain": [
       "count    4801.000000\n",
       "mean      106.875859\n",
       "std        22.611935\n",
       "min         0.000000\n",
       "25%        94.000000\n",
       "50%       103.000000\n",
       "75%       118.000000\n",
       "max       338.000000\n",
       "Name: runtime, dtype: float64"
      ]
     },
     "execution_count": 55,
     "metadata": {},
     "output_type": "execute_result"
    }
   ],
   "source": [
    "df['runtime'].describe()"
   ]
  },
  {
   "cell_type": "code",
   "execution_count": null,
   "metadata": {
    "collapsed": true
   },
   "outputs": [],
   "source": []
  },
  {
   "cell_type": "markdown",
   "metadata": {},
   "source": [
    "### From above statistics of data for runtime of movie, max runtime of movie in data is 338 minutes i.e. 5.6 hours."
   ]
  },
  {
   "cell_type": "code",
   "execution_count": 56,
   "metadata": {
    "collapsed": false
   },
   "outputs": [
    {
     "data": {
      "text/plain": [
       "<matplotlib.axes._subplots.AxesSubplot at 0x7f387a0b0ac8>"
      ]
     },
     "execution_count": 56,
     "metadata": {},
     "output_type": "execute_result"
    },
    {
     "data": {
      "image/png": "[encoded data removed]",
      "text/plain": [
       "<Figure size 1080x576 with 1 Axes>"
      ]
     },
     "metadata": {
      "needs_background": "light"
     },
     "output_type": "display_data"
    }
   ],
   "source": [
    "plt.figure(figsize=(15,8))\n",
    "sns.distplot(df[(df['runtime'] < 300)& (df['runtime'] > 0) ]['runtime'])"
   ]
  },
  {
   "cell_type": "markdown",
   "metadata": {
    "collapsed": true
   },
   "source": [
    "### This distribution is somewhere right skewed and which shows that most of movies with runtime in between 1.6 & 2 hours are relatively more liked by people"
   ]
  },
  {
   "cell_type": "markdown",
   "metadata": {
    "collapsed": true
   },
   "source": [
    "### Lets see the relationship between movie run time and its profitability or success."
   ]
  },
  {
   "cell_type": "code",
   "execution_count": 57,
   "metadata": {
    "collapsed": false
   },
   "outputs": [
    {
     "data": {
      "image/png": "[encoded data removed]",
      "text/plain": [
       "<Figure size 432x432 with 3 Axes>"
      ]
     },
     "metadata": {
      "needs_background": "light"
     },
     "output_type": "display_data"
    }
   ],
   "source": [
    "df_success = df[(df['return'].notnull()) & (df['runtime'] > 0)& (df['return'] < 20) ]\n",
    "sns.jointplot('return', 'runtime', data=df_success)\n",
    "plt.show()"
   ]
  },
  {
   "cell_type": "markdown",
   "metadata": {
    "collapsed": true
   },
   "source": [
    " ### Here we got pearson coefficient  less than zero which is showing negligible relation between movie returns/success and it's runtime, as it's distribution is wide spread and which is shoing no particular trend. or relation."
   ]
  },
  {
   "cell_type": "markdown",
   "metadata": {
    "collapsed": true
   },
   "source": [
    "### We can deduce shortest and longest movies ranking by further exploring data"
   ]
  },
  {
   "cell_type": "code",
   "execution_count": 58,
   "metadata": {
    "collapsed": false
   },
   "outputs": [
    {
     "data": {
      "text/html": [
       "<div>\n",
       "<style scoped>\n",
       "    .dataframe tbody tr th:only-of-type {\n",
       "        vertical-align: middle;\n",
       "    }\n",
       "\n",
       "    .dataframe tbody tr th {\n",
       "        vertical-align: top;\n",
       "    }\n",
       "\n",
       "    .dataframe thead th {\n",
       "        text-align: right;\n",
       "    }\n",
       "</style>\n",
       "<table border=\"1\" class=\"dataframe\">\n",
       "  <thead>\n",
       "    <tr style=\"text-align: right;\">\n",
       "      <th></th>\n",
       "      <th>runtime</th>\n",
       "      <th>title</th>\n",
       "    </tr>\n",
       "  </thead>\n",
       "  <tbody>\n",
       "    <tr>\n",
       "      <th>4466</th>\n",
       "      <td>14.0</td>\n",
       "      <td>Vessel</td>\n",
       "    </tr>\n",
       "    <tr>\n",
       "      <th>4709</th>\n",
       "      <td>25.0</td>\n",
       "      <td>A Charlie Brown Christmas</td>\n",
       "    </tr>\n",
       "    <tr>\n",
       "      <th>3626</th>\n",
       "      <td>41.0</td>\n",
       "      <td>Sea Rex 3D: Journey to a Prehistoric World</td>\n",
       "    </tr>\n",
       "    <tr>\n",
       "      <th>3471</th>\n",
       "      <td>42.0</td>\n",
       "      <td>Dolphins and Whales: Tribes of the Ocean</td>\n",
       "    </tr>\n",
       "    <tr>\n",
       "      <th>3354</th>\n",
       "      <td>46.0</td>\n",
       "      <td>Michael Jordan to the Max</td>\n",
       "    </tr>\n",
       "    <tr>\n",
       "      <th>4756</th>\n",
       "      <td>47.0</td>\n",
       "      <td>The Call of Cthulhu</td>\n",
       "    </tr>\n",
       "    <tr>\n",
       "      <th>3403</th>\n",
       "      <td>53.0</td>\n",
       "      <td>Alpha and Omega: The Legend of the Saw Tooth Cave</td>\n",
       "    </tr>\n",
       "    <tr>\n",
       "      <th>4685</th>\n",
       "      <td>59.0</td>\n",
       "      <td>The Case of the Grinning Cat</td>\n",
       "    </tr>\n",
       "    <tr>\n",
       "      <th>4785</th>\n",
       "      <td>60.0</td>\n",
       "      <td>Stories of Our Lives</td>\n",
       "    </tr>\n",
       "    <tr>\n",
       "      <th>1620</th>\n",
       "      <td>63.0</td>\n",
       "      <td>Winnie the Pooh</td>\n",
       "    </tr>\n",
       "  </tbody>\n",
       "</table>\n",
       "</div>"
      ],
      "text/plain": [
       "      runtime                                              title\n",
       "4466     14.0                                             Vessel\n",
       "4709     25.0                          A Charlie Brown Christmas\n",
       "3626     41.0         Sea Rex 3D: Journey to a Prehistoric World\n",
       "3471     42.0           Dolphins and Whales: Tribes of the Ocean\n",
       "3354     46.0                          Michael Jordan to the Max\n",
       "4756     47.0                                The Call of Cthulhu\n",
       "3403     53.0  Alpha and Omega: The Legend of the Saw Tooth Cave\n",
       "4685     59.0                       The Case of the Grinning Cat\n",
       "4785     60.0                               Stories of Our Lives\n",
       "1620     63.0                                    Winnie the Pooh"
      ]
     },
     "execution_count": 58,
     "metadata": {},
     "output_type": "execute_result"
    }
   ],
   "source": [
    "df[df['runtime'] > 0][['runtime', 'title']].sort_values('runtime').head(10)"
   ]
  },
  {
   "cell_type": "code",
   "execution_count": 59,
   "metadata": {
    "collapsed": false
   },
   "outputs": [
    {
     "data": {
      "text/html": [
       "<div>\n",
       "<style scoped>\n",
       "    .dataframe tbody tr th:only-of-type {\n",
       "        vertical-align: middle;\n",
       "    }\n",
       "\n",
       "    .dataframe tbody tr th {\n",
       "        vertical-align: top;\n",
       "    }\n",
       "\n",
       "    .dataframe thead th {\n",
       "        text-align: right;\n",
       "    }\n",
       "</style>\n",
       "<table border=\"1\" class=\"dataframe\">\n",
       "  <thead>\n",
       "    <tr style=\"text-align: right;\">\n",
       "      <th></th>\n",
       "      <th>runtime</th>\n",
       "      <th>title</th>\n",
       "    </tr>\n",
       "  </thead>\n",
       "  <tbody>\n",
       "    <tr>\n",
       "      <th>2384</th>\n",
       "      <td>338.0</td>\n",
       "      <td>Carlos</td>\n",
       "    </tr>\n",
       "    <tr>\n",
       "      <th>2631</th>\n",
       "      <td>276.0</td>\n",
       "      <td>The Company</td>\n",
       "    </tr>\n",
       "    <tr>\n",
       "      <th>1922</th>\n",
       "      <td>254.0</td>\n",
       "      <td>Gettysburg</td>\n",
       "    </tr>\n",
       "    <tr>\n",
       "      <th>1125</th>\n",
       "      <td>248.0</td>\n",
       "      <td>Cleopatra</td>\n",
       "    </tr>\n",
       "    <tr>\n",
       "      <th>2373</th>\n",
       "      <td>242.0</td>\n",
       "      <td>Hamlet</td>\n",
       "    </tr>\n",
       "    <tr>\n",
       "      <th>3510</th>\n",
       "      <td>240.0</td>\n",
       "      <td>Emma</td>\n",
       "    </tr>\n",
       "    <tr>\n",
       "      <th>3813</th>\n",
       "      <td>238.0</td>\n",
       "      <td>Gone with the Wind</td>\n",
       "    </tr>\n",
       "    <tr>\n",
       "      <th>1663</th>\n",
       "      <td>229.0</td>\n",
       "      <td>Once Upon a Time in America</td>\n",
       "    </tr>\n",
       "    <tr>\n",
       "      <th>4497</th>\n",
       "      <td>225.0</td>\n",
       "      <td>Woodstock</td>\n",
       "    </tr>\n",
       "    <tr>\n",
       "      <th>1109</th>\n",
       "      <td>219.0</td>\n",
       "      <td>Heaven's Gate</td>\n",
       "    </tr>\n",
       "  </tbody>\n",
       "</table>\n",
       "</div>"
      ],
      "text/plain": [
       "      runtime                        title\n",
       "2384    338.0                       Carlos\n",
       "2631    276.0                  The Company\n",
       "1922    254.0                   Gettysburg\n",
       "1125    248.0                    Cleopatra\n",
       "2373    242.0                       Hamlet\n",
       "3510    240.0                         Emma\n",
       "3813    238.0           Gone with the Wind\n",
       "1663    229.0  Once Upon a Time in America\n",
       "4497    225.0                    Woodstock\n",
       "1109    219.0                Heaven's Gate"
      ]
     },
     "execution_count": 59,
     "metadata": {},
     "output_type": "execute_result"
    }
   ],
   "source": [
    "df[df['runtime'] > 0][['runtime', 'title']].sort_values('runtime', ascending=False).head(10)"
   ]
  },
  {
   "cell_type": "markdown",
   "metadata": {
    "collapsed": true
   },
   "source": [
    "### Vessel being shortest movie and Carlos  is deduced as longhest movie."
   ]
  },
  {
   "cell_type": "markdown",
   "metadata": {},
   "source": [
    "### Let's talk about next feature i.e. spoken languages but before exploring and analysis we need to convert this into numeric feature."
   ]
  },
  {
   "cell_type": "code",
   "execution_count": 60,
   "metadata": {
    "collapsed": true
   },
   "outputs": [],
   "source": [
    "import ast"
   ]
  },
  {
   "cell_type": "code",
   "execution_count": 61,
   "metadata": {
    "collapsed": false
   },
   "outputs": [],
   "source": [
    "df['spoken_languages'] = df['spoken_languages'].fillna('[]').apply(ast.literal_eval).apply(lambda x: len(x) if isinstance(x, list) else np.nan)"
   ]
  },
  {
   "cell_type": "code",
   "execution_count": 62,
   "metadata": {
    "collapsed": false,
    "scrolled": true
   },
   "outputs": [
    {
     "data": {
      "text/plain": [
       "1    3355\n",
       "2     841\n",
       "3     308\n",
       "4     133\n",
       "0      86\n",
       "5      51\n",
       "6      19\n",
       "7       6\n",
       "8       3\n",
       "9       1\n",
       "Name: spoken_languages, dtype: int64"
      ]
     },
     "execution_count": 62,
     "metadata": {},
     "output_type": "execute_result"
    }
   ],
   "source": [
    "df['spoken_languages'].value_counts()"
   ]
  },
  {
   "cell_type": "markdown",
   "metadata": {},
   "source": [
    "### Mostly movies are made with one language only but few movies are present which have made with multiple languages and in our dataset 9 is maximum no. of languages which rae used within same movie. "
   ]
  },
  {
   "cell_type": "code",
   "execution_count": 63,
   "metadata": {
    "collapsed": false
   },
   "outputs": [
    {
     "data": {
      "text/html": [
       "<div>\n",
       "<style scoped>\n",
       "    .dataframe tbody tr th:only-of-type {\n",
       "        vertical-align: middle;\n",
       "    }\n",
       "\n",
       "    .dataframe tbody tr th {\n",
       "        vertical-align: top;\n",
       "    }\n",
       "\n",
       "    .dataframe thead th {\n",
       "        text-align: right;\n",
       "    }\n",
       "</style>\n",
       "<table border=\"1\" class=\"dataframe\">\n",
       "  <thead>\n",
       "    <tr style=\"text-align: right;\">\n",
       "      <th></th>\n",
       "      <th>title</th>\n",
       "      <th>spoken_languages</th>\n",
       "    </tr>\n",
       "  </thead>\n",
       "  <tbody>\n",
       "    <tr>\n",
       "      <th>59</th>\n",
       "      <td>2012</td>\n",
       "      <td>9</td>\n",
       "    </tr>\n",
       "    <tr>\n",
       "      <th>2384</th>\n",
       "      <td>Carlos</td>\n",
       "      <td>8</td>\n",
       "    </tr>\n",
       "    <tr>\n",
       "      <th>1135</th>\n",
       "      <td>Lord of War</td>\n",
       "      <td>8</td>\n",
       "    </tr>\n",
       "    <tr>\n",
       "      <th>528</th>\n",
       "      <td>Munich</td>\n",
       "      <td>8</td>\n",
       "    </tr>\n",
       "    <tr>\n",
       "      <th>601</th>\n",
       "      <td>Rollerball</td>\n",
       "      <td>7</td>\n",
       "    </tr>\n",
       "    <tr>\n",
       "      <th>1200</th>\n",
       "      <td>The Living Daylights</td>\n",
       "      <td>7</td>\n",
       "    </tr>\n",
       "    <tr>\n",
       "      <th>2331</th>\n",
       "      <td>Under the Tuscan Sun</td>\n",
       "      <td>7</td>\n",
       "    </tr>\n",
       "    <tr>\n",
       "      <th>3512</th>\n",
       "      <td>The Spanish Apartment</td>\n",
       "      <td>7</td>\n",
       "    </tr>\n",
       "    <tr>\n",
       "      <th>978</th>\n",
       "      <td>The Life Aquatic with Steve Zissou</td>\n",
       "      <td>7</td>\n",
       "    </tr>\n",
       "    <tr>\n",
       "      <th>147</th>\n",
       "      <td>Die Another Day</td>\n",
       "      <td>7</td>\n",
       "    </tr>\n",
       "  </tbody>\n",
       "</table>\n",
       "</div>"
      ],
      "text/plain": [
       "                                   title  spoken_languages\n",
       "59                                  2012                 9\n",
       "2384                              Carlos                 8\n",
       "1135                         Lord of War                 8\n",
       "528                               Munich                 8\n",
       "601                           Rollerball                 7\n",
       "1200                The Living Daylights                 7\n",
       "2331                Under the Tuscan Sun                 7\n",
       "3512               The Spanish Apartment                 7\n",
       "978   The Life Aquatic with Steve Zissou                 7\n",
       "147                      Die Another Day                 7"
      ]
     },
     "execution_count": 63,
     "metadata": {},
     "output_type": "execute_result"
    }
   ],
   "source": [
    "df[df['spoken_languages'] >0][['title', 'spoken_languages']].sort_values('spoken_languages', ascending=False).head(10)"
   ]
  },
  {
   "cell_type": "code",
   "execution_count": null,
   "metadata": {
    "collapsed": true
   },
   "outputs": [],
   "source": []
  },
  {
   "cell_type": "markdown",
   "metadata": {},
   "source": [
    "### 2012 is the movie which uses 9 languages within movie then 3 movies are there i.e. Carlos,  Lord of War, Munich which used 8 languages and so on."
   ]
  },
  {
   "cell_type": "code",
   "execution_count": 64,
   "metadata": {
    "collapsed": false
   },
   "outputs": [
    {
     "data": {
      "text/html": [
       "<div>\n",
       "<style scoped>\n",
       "    .dataframe tbody tr th:only-of-type {\n",
       "        vertical-align: middle;\n",
       "    }\n",
       "\n",
       "    .dataframe tbody tr th {\n",
       "        vertical-align: top;\n",
       "    }\n",
       "\n",
       "    .dataframe thead th {\n",
       "        text-align: right;\n",
       "    }\n",
       "</style>\n",
       "<table border=\"1\" class=\"dataframe\">\n",
       "  <thead>\n",
       "    <tr style=\"text-align: right;\">\n",
       "      <th></th>\n",
       "      <th>title</th>\n",
       "      <th>spoken_languages</th>\n",
       "      <th>popularity</th>\n",
       "    </tr>\n",
       "  </thead>\n",
       "  <tbody>\n",
       "    <tr>\n",
       "      <th>59</th>\n",
       "      <td>2012</td>\n",
       "      <td>9</td>\n",
       "      <td>45.274225</td>\n",
       "    </tr>\n",
       "    <tr>\n",
       "      <th>2384</th>\n",
       "      <td>Carlos</td>\n",
       "      <td>8</td>\n",
       "      <td>1.138383</td>\n",
       "    </tr>\n",
       "    <tr>\n",
       "      <th>1135</th>\n",
       "      <td>Lord of War</td>\n",
       "      <td>8</td>\n",
       "      <td>34.828241</td>\n",
       "    </tr>\n",
       "    <tr>\n",
       "      <th>528</th>\n",
       "      <td>Munich</td>\n",
       "      <td>8</td>\n",
       "      <td>29.035222</td>\n",
       "    </tr>\n",
       "    <tr>\n",
       "      <th>601</th>\n",
       "      <td>Rollerball</td>\n",
       "      <td>7</td>\n",
       "      <td>9.306253</td>\n",
       "    </tr>\n",
       "    <tr>\n",
       "      <th>1200</th>\n",
       "      <td>The Living Daylights</td>\n",
       "      <td>7</td>\n",
       "      <td>23.331459</td>\n",
       "    </tr>\n",
       "    <tr>\n",
       "      <th>2331</th>\n",
       "      <td>Under the Tuscan Sun</td>\n",
       "      <td>7</td>\n",
       "      <td>12.309718</td>\n",
       "    </tr>\n",
       "    <tr>\n",
       "      <th>3512</th>\n",
       "      <td>The Spanish Apartment</td>\n",
       "      <td>7</td>\n",
       "      <td>13.034602</td>\n",
       "    </tr>\n",
       "    <tr>\n",
       "      <th>978</th>\n",
       "      <td>The Life Aquatic with Steve Zissou</td>\n",
       "      <td>7</td>\n",
       "      <td>25.237969</td>\n",
       "    </tr>\n",
       "    <tr>\n",
       "      <th>147</th>\n",
       "      <td>Die Another Day</td>\n",
       "      <td>7</td>\n",
       "      <td>54.159392</td>\n",
       "    </tr>\n",
       "  </tbody>\n",
       "</table>\n",
       "</div>"
      ],
      "text/plain": [
       "                                   title  spoken_languages  popularity\n",
       "59                                  2012                 9   45.274225\n",
       "2384                              Carlos                 8    1.138383\n",
       "1135                         Lord of War                 8   34.828241\n",
       "528                               Munich                 8   29.035222\n",
       "601                           Rollerball                 7    9.306253\n",
       "1200                The Living Daylights                 7   23.331459\n",
       "2331                Under the Tuscan Sun                 7   12.309718\n",
       "3512               The Spanish Apartment                 7   13.034602\n",
       "978   The Life Aquatic with Steve Zissou                 7   25.237969\n",
       "147                      Die Another Day                 7   54.159392"
      ]
     },
     "execution_count": 64,
     "metadata": {},
     "output_type": "execute_result"
    }
   ],
   "source": [
    "df[df['spoken_languages'] >0][['title', 'spoken_languages', 'popularity']].sort_values('spoken_languages', ascending=False).head(10)"
   ]
  },
  {
   "cell_type": "markdown",
   "metadata": {},
   "source": [
    "### But if we see movie popularity with resopect to no. of spoken languages then we can say from above data that these two features are not directly proportional."
   ]
  },
  {
   "cell_type": "code",
   "execution_count": 65,
   "metadata": {
    "collapsed": false
   },
   "outputs": [
    {
     "data": {
      "text/plain": [
       "<seaborn.axisgrid.JointGrid at 0x7f387a093e10>"
      ]
     },
     "execution_count": 65,
     "metadata": {},
     "output_type": "execute_result"
    },
    {
     "data": {
      "image/png": "[encoded data removed]",
      "text/plain": [
       "<Figure size 432x432 with 3 Axes>"
      ]
     },
     "metadata": {
      "needs_background": "light"
     },
     "output_type": "display_data"
    }
   ],
   "source": [
    "sns.jointplot(x='spoken_languages',y='popularity',data=df[df['spoken_languages'].notnull()])"
   ]
  },
  {
   "cell_type": "markdown",
   "metadata": {},
   "source": [
    "### From above visualization it clear that spoken language has no effect on popularity of movie and this has no string relation with other features also because popularity has good relations with other important features like budget, revenue,return, vote_count etc."
   ]
  },
  {
   "cell_type": "markdown",
   "metadata": {},
   "source": [
    "### Genres"
   ]
  },
  {
   "cell_type": "code",
   "execution_count": 66,
   "metadata": {
    "collapsed": true
   },
   "outputs": [],
   "source": [
    "df['genres'] = df['genres'].fillna('[]').apply(ast.literal_eval).apply(lambda x: [i['name'] for i in x] if isinstance(x, list) else [])"
   ]
  },
  {
   "cell_type": "code",
   "execution_count": 67,
   "metadata": {
    "collapsed": true
   },
   "outputs": [],
   "source": [
    "r = df.apply(lambda x: pd.Series(x['genres']),axis=1).stack().reset_index(level=1, drop=True)\n",
    "r.name = 'genre'"
   ]
  },
  {
   "cell_type": "code",
   "execution_count": 68,
   "metadata": {
    "collapsed": true
   },
   "outputs": [],
   "source": [
    "gen_df = df.drop('genres', axis=1).join(r)"
   ]
  },
  {
   "cell_type": "code",
   "execution_count": 69,
   "metadata": {
    "collapsed": false
   },
   "outputs": [
    {
     "data": {
      "text/plain": [
       "20"
      ]
     },
     "execution_count": 69,
     "metadata": {},
     "output_type": "execute_result"
    }
   ],
   "source": [
    "gen_df['genre'].value_counts().shape[0]"
   ]
  },
  {
   "cell_type": "markdown",
   "metadata": {},
   "source": [
    "### There fore there are 20 unique genres for all movies present in our dataset.Let's look at no. of movies per genre."
   ]
  },
  {
   "cell_type": "code",
   "execution_count": 70,
   "metadata": {
    "collapsed": false
   },
   "outputs": [
    {
     "data": {
      "text/html": [
       "<div>\n",
       "<style scoped>\n",
       "    .dataframe tbody tr th:only-of-type {\n",
       "        vertical-align: middle;\n",
       "    }\n",
       "\n",
       "    .dataframe tbody tr th {\n",
       "        vertical-align: top;\n",
       "    }\n",
       "\n",
       "    .dataframe thead th {\n",
       "        text-align: right;\n",
       "    }\n",
       "</style>\n",
       "<table border=\"1\" class=\"dataframe\">\n",
       "  <thead>\n",
       "    <tr style=\"text-align: right;\">\n",
       "      <th></th>\n",
       "      <th>genre</th>\n",
       "      <th>movies</th>\n",
       "    </tr>\n",
       "  </thead>\n",
       "  <tbody>\n",
       "    <tr>\n",
       "      <th>0</th>\n",
       "      <td>Drama</td>\n",
       "      <td>2297</td>\n",
       "    </tr>\n",
       "    <tr>\n",
       "      <th>1</th>\n",
       "      <td>Comedy</td>\n",
       "      <td>1722</td>\n",
       "    </tr>\n",
       "    <tr>\n",
       "      <th>2</th>\n",
       "      <td>Thriller</td>\n",
       "      <td>1274</td>\n",
       "    </tr>\n",
       "    <tr>\n",
       "      <th>3</th>\n",
       "      <td>Action</td>\n",
       "      <td>1154</td>\n",
       "    </tr>\n",
       "    <tr>\n",
       "      <th>4</th>\n",
       "      <td>Romance</td>\n",
       "      <td>894</td>\n",
       "    </tr>\n",
       "    <tr>\n",
       "      <th>5</th>\n",
       "      <td>Adventure</td>\n",
       "      <td>790</td>\n",
       "    </tr>\n",
       "    <tr>\n",
       "      <th>6</th>\n",
       "      <td>Crime</td>\n",
       "      <td>696</td>\n",
       "    </tr>\n",
       "    <tr>\n",
       "      <th>7</th>\n",
       "      <td>Science Fiction</td>\n",
       "      <td>535</td>\n",
       "    </tr>\n",
       "    <tr>\n",
       "      <th>8</th>\n",
       "      <td>Horror</td>\n",
       "      <td>519</td>\n",
       "    </tr>\n",
       "    <tr>\n",
       "      <th>9</th>\n",
       "      <td>Family</td>\n",
       "      <td>513</td>\n",
       "    </tr>\n",
       "  </tbody>\n",
       "</table>\n",
       "</div>"
      ],
      "text/plain": [
       "             genre  movies\n",
       "0            Drama    2297\n",
       "1           Comedy    1722\n",
       "2         Thriller    1274\n",
       "3           Action    1154\n",
       "4          Romance     894\n",
       "5        Adventure     790\n",
       "6            Crime     696\n",
       "7  Science Fiction     535\n",
       "8           Horror     519\n",
       "9           Family     513"
      ]
     },
     "execution_count": 70,
     "metadata": {},
     "output_type": "execute_result"
    }
   ],
   "source": [
    "gen_per_muvi = pd.DataFrame(gen_df['genre'].value_counts()).reset_index()\n",
    "gen_per_muvi.columns = ['genre', 'movies']\n",
    "gen_per_muvi.head(10)"
   ]
  },
  {
   "cell_type": "markdown",
   "metadata": {},
   "source": [
    "### We mostly have drama movies, then comedy movies then thriller and so on.Let's visualize this for more clarity"
   ]
  },
  {
   "cell_type": "code",
   "execution_count": 71,
   "metadata": {
    "collapsed": false
   },
   "outputs": [
    {
     "data": {
      "image/png": "[encoded data removed]",
      "text/plain": [
       "<Figure size 1296x576 with 1 Axes>"
      ]
     },
     "metadata": {
      "needs_background": "light"
     },
     "output_type": "display_data"
    }
   ],
   "source": [
    "plt.figure(figsize=(18,8))\n",
    "sns.barplot(x='genre', y='movies', data=gen_per_muvi.head(15))\n",
    "plt.show()"
   ]
  },
  {
   "cell_type": "code",
   "execution_count": null,
   "metadata": {
    "collapsed": true
   },
   "outputs": [],
   "source": []
  },
  {
   "cell_type": "markdown",
   "metadata": {},
   "source": [
    "### Production countries"
   ]
  },
  {
   "cell_type": "code",
   "execution_count": 72,
   "metadata": {
    "collapsed": true
   },
   "outputs": [],
   "source": [
    "df['production_countries'] = df['production_countries'].fillna('[]').apply(ast.literal_eval).apply(lambda x: [i['name'] for i in x] if isinstance(x, list) else [])"
   ]
  },
  {
   "cell_type": "code",
   "execution_count": 73,
   "metadata": {
    "collapsed": true
   },
   "outputs": [],
   "source": [
    "p = df.apply(lambda x: pd.Series(x['production_countries']),axis=1).stack().reset_index(level=1, drop=True)\n",
    "p.name = 'countries'"
   ]
  },
  {
   "cell_type": "code",
   "execution_count": 74,
   "metadata": {
    "collapsed": true
   },
   "outputs": [],
   "source": [
    "df_countries = df.drop('production_countries', axis=1).join(p)"
   ]
  },
  {
   "cell_type": "code",
   "execution_count": 75,
   "metadata": {
    "collapsed": true
   },
   "outputs": [],
   "source": [
    "df_countries = pd.DataFrame(df_countries['countries'].value_counts())\n",
    "df_countries['country'] = df_countries.index"
   ]
  },
  {
   "cell_type": "code",
   "execution_count": 76,
   "metadata": {
    "collapsed": true
   },
   "outputs": [],
   "source": [
    "df_countries.columns = ['movies_num', 'country']"
   ]
  },
  {
   "cell_type": "code",
   "execution_count": 77,
   "metadata": {
    "collapsed": true
   },
   "outputs": [],
   "source": [
    "df_countries = df_countries.reset_index().drop('index', axis=1)"
   ]
  },
  {
   "cell_type": "code",
   "execution_count": 78,
   "metadata": {
    "collapsed": false,
    "scrolled": false
   },
   "outputs": [
    {
     "data": {
      "text/html": [
       "<div>\n",
       "<style scoped>\n",
       "    .dataframe tbody tr th:only-of-type {\n",
       "        vertical-align: middle;\n",
       "    }\n",
       "\n",
       "    .dataframe tbody tr th {\n",
       "        vertical-align: top;\n",
       "    }\n",
       "\n",
       "    .dataframe thead th {\n",
       "        text-align: right;\n",
       "    }\n",
       "</style>\n",
       "<table border=\"1\" class=\"dataframe\">\n",
       "  <thead>\n",
       "    <tr style=\"text-align: right;\">\n",
       "      <th></th>\n",
       "      <th>movies_num</th>\n",
       "      <th>country</th>\n",
       "    </tr>\n",
       "  </thead>\n",
       "  <tbody>\n",
       "    <tr>\n",
       "      <th>0</th>\n",
       "      <td>3956</td>\n",
       "      <td>United States of America</td>\n",
       "    </tr>\n",
       "    <tr>\n",
       "      <th>1</th>\n",
       "      <td>636</td>\n",
       "      <td>United Kingdom</td>\n",
       "    </tr>\n",
       "    <tr>\n",
       "      <th>2</th>\n",
       "      <td>324</td>\n",
       "      <td>Germany</td>\n",
       "    </tr>\n",
       "    <tr>\n",
       "      <th>3</th>\n",
       "      <td>306</td>\n",
       "      <td>France</td>\n",
       "    </tr>\n",
       "    <tr>\n",
       "      <th>4</th>\n",
       "      <td>261</td>\n",
       "      <td>Canada</td>\n",
       "    </tr>\n",
       "    <tr>\n",
       "      <th>5</th>\n",
       "      <td>110</td>\n",
       "      <td>Australia</td>\n",
       "    </tr>\n",
       "    <tr>\n",
       "      <th>6</th>\n",
       "      <td>72</td>\n",
       "      <td>Italy</td>\n",
       "    </tr>\n",
       "    <tr>\n",
       "      <th>7</th>\n",
       "      <td>71</td>\n",
       "      <td>Spain</td>\n",
       "    </tr>\n",
       "    <tr>\n",
       "      <th>8</th>\n",
       "      <td>59</td>\n",
       "      <td>China</td>\n",
       "    </tr>\n",
       "    <tr>\n",
       "      <th>9</th>\n",
       "      <td>58</td>\n",
       "      <td>Japan</td>\n",
       "    </tr>\n",
       "  </tbody>\n",
       "</table>\n",
       "</div>"
      ],
      "text/plain": [
       "   movies_num                   country\n",
       "0        3956  United States of America\n",
       "1         636            United Kingdom\n",
       "2         324                   Germany\n",
       "3         306                    France\n",
       "4         261                    Canada\n",
       "5         110                 Australia\n",
       "6          72                     Italy\n",
       "7          71                     Spain\n",
       "8          59                     China\n",
       "9          58                     Japan"
      ]
     },
     "execution_count": 78,
     "metadata": {},
     "output_type": "execute_result"
    }
   ],
   "source": [
    "df_countries.head(10)"
   ]
  },
  {
   "cell_type": "code",
   "execution_count": 79,
   "metadata": {
    "collapsed": false
   },
   "outputs": [
    {
     "data": {
      "text/plain": [
       "Philippines                 1\n",
       "Ecuador                     1\n",
       "Monaco                      1\n",
       "Turkey                      1\n",
       "India                       1\n",
       "Austria                     1\n",
       "Lithuania                   1\n",
       "Iceland                     1\n",
       "Romania                     1\n",
       "Bulgaria                    1\n",
       "Ireland                     1\n",
       "United Kingdom              1\n",
       "South Africa                1\n",
       "Libyan Arab Jamahiriya      1\n",
       "Switzerland                 1\n",
       "Luxembourg                  1\n",
       "Norway                      1\n",
       "Malaysia                    1\n",
       "Japan                       1\n",
       "Kazakhstan                  1\n",
       "Algeria                     1\n",
       "Iran                        1\n",
       "United States of America    1\n",
       "Hong Kong                   1\n",
       "Greece                      1\n",
       "Guyana                      1\n",
       "Australia                   1\n",
       "Portugal                    1\n",
       "Panama                      1\n",
       "Taiwan                      1\n",
       "                           ..\n",
       "Bolivia                     1\n",
       "Kyrgyz Republic             1\n",
       "Indonesia                   1\n",
       "Slovenia                    1\n",
       "Morocco                     1\n",
       "Chile                       1\n",
       "Lebanon                     1\n",
       "Jamaica                     1\n",
       "Netherlands                 1\n",
       "Slovakia                    1\n",
       "Argentina                   1\n",
       "Brazil                      1\n",
       "Bahamas                     1\n",
       "Spain                       1\n",
       "Bhutan                      1\n",
       "Colombia                    1\n",
       "China                       1\n",
       "Cameroon                    1\n",
       "Angola                      1\n",
       "Peru                        1\n",
       "Russia                      1\n",
       "Sweden                      1\n",
       "Malta                       1\n",
       "Poland                      1\n",
       "Canada                      1\n",
       "France                      1\n",
       "Singapore                   1\n",
       "Germany                     1\n",
       "Mexico                      1\n",
       "Bosnia and Herzegovina      1\n",
       "Name: country, Length: 88, dtype: int64"
      ]
     },
     "execution_count": 79,
     "metadata": {},
     "output_type": "execute_result"
    }
   ],
   "source": [
    "df_countries['country'].value_counts()"
   ]
  },
  {
   "cell_type": "markdown",
   "metadata": {},
   "source": [
    "### US is most popular country for movie shooting as shown across all 88 countries. So we can visualize other also other than US for their existance in movie shooting countries"
   ]
  },
  {
   "cell_type": "code",
   "execution_count": 80,
   "metadata": {
    "collapsed": false
   },
   "outputs": [
    {
     "data": {
      "image/png": "[encoded data removed]",
      "text/plain": [
       "<Figure size 1440x1080 with 1 Axes>"
      ]
     },
     "metadata": {
      "needs_background": "light"
     },
     "output_type": "display_data"
    }
   ],
   "source": [
    "plt.figure(figsize=(20,15))\n",
    "sns.barplot(x=\"country\", y=\"movies_num\", data=df_countries.iloc[1:15])\n",
    "plt.xlabel(\"country\")\n",
    "plt.ylabel(\"number\")\n",
    "plt.title(\"No. of movies per country\")\n",
    "plt.show()"
   ]
  },
  {
   "cell_type": "markdown",
   "metadata": {},
   "source": [
    "### Other than US, Germany, france, Canada are next at high score."
   ]
  },
  {
   "cell_type": "markdown",
   "metadata": {
    "collapsed": true
   },
   "source": [
    "### Since BUDGET is most crucial part for movies data so we will analyse this data in respect of revenue, return, success of movie to extract some useful insights"
   ]
  },
  {
   "cell_type": "code",
   "execution_count": 81,
   "metadata": {
    "collapsed": false
   },
   "outputs": [
    {
     "data": {
      "text/plain": [
       "count    3.766000e+03\n",
       "mean     3.704284e+07\n",
       "std      4.264651e+07\n",
       "min      1.000000e+00\n",
       "25%      8.000000e+06\n",
       "50%      2.300000e+07\n",
       "75%      5.000000e+07\n",
       "max      3.800000e+08\n",
       "Name: budget, dtype: float64"
      ]
     },
     "execution_count": 81,
     "metadata": {},
     "output_type": "execute_result"
    }
   ],
   "source": [
    "df['budget'].describe() # stats fo budget data"
   ]
  },
  {
   "cell_type": "code",
   "execution_count": 82,
   "metadata": {
    "collapsed": false,
    "scrolled": true
   },
   "outputs": [
    {
     "data": {
      "text/plain": [
       "37042840"
      ]
     },
     "execution_count": 82,
     "metadata": {},
     "output_type": "execute_result"
    }
   ],
   "source": [
    "round(3.704284e+07) # mean is 3.7 crores"
   ]
  },
  {
   "cell_type": "code",
   "execution_count": 83,
   "metadata": {
    "collapsed": false
   },
   "outputs": [
    {
     "data": {
      "text/plain": [
       "23000000"
      ]
     },
     "execution_count": 83,
     "metadata": {},
     "output_type": "execute_result"
    }
   ],
   "source": [
    "round(2.300000e+07)  # 50% for budget data is 2.3 crores"
   ]
  },
  {
   "cell_type": "code",
   "execution_count": 84,
   "metadata": {
    "collapsed": false
   },
   "outputs": [
    {
     "data": {
      "text/plain": [
       "380000000"
      ]
     },
     "execution_count": 84,
     "metadata": {},
     "output_type": "execute_result"
    }
   ],
   "source": [
    "round(3.800000e+08) # max value is 38 crores"
   ]
  },
  {
   "cell_type": "markdown",
   "metadata": {},
   "source": [
    "### Since max value is very far from mean so we can say that there are outliers in dataset which are influencing."
   ]
  },
  {
   "cell_type": "code",
   "execution_count": 85,
   "metadata": {
    "collapsed": false
   },
   "outputs": [
    {
     "data": {
      "text/plain": [
       "<matplotlib.axes._subplots.AxesSubplot at 0x7f38824cc470>"
      ]
     },
     "execution_count": 85,
     "metadata": {},
     "output_type": "execute_result"
    },
    {
     "data": {
      "image/png": "[encoded data removed]",
      "text/plain": [
       "<Figure size 432x288 with 1 Axes>"
      ]
     },
     "metadata": {
      "needs_background": "light"
     },
     "output_type": "display_data"
    }
   ],
   "source": [
    "sns.distplot(df[df['budget'].notnull()]['budget'])"
   ]
  },
  {
   "cell_type": "markdown",
   "metadata": {},
   "source": [
    "### Plot is right skewed and decaying which is showing most of movies have budget are less than mean."
   ]
  },
  {
   "cell_type": "markdown",
   "metadata": {},
   "source": [
    "### We can find out most expensive and least expensive movies as we did for longest and shortest movies."
   ]
  },
  {
   "cell_type": "code",
   "execution_count": 86,
   "metadata": {
    "collapsed": false
   },
   "outputs": [
    {
     "data": {
      "text/html": [
       "<div>\n",
       "<style scoped>\n",
       "    .dataframe tbody tr th:only-of-type {\n",
       "        vertical-align: middle;\n",
       "    }\n",
       "\n",
       "    .dataframe tbody tr th {\n",
       "        vertical-align: top;\n",
       "    }\n",
       "\n",
       "    .dataframe thead th {\n",
       "        text-align: right;\n",
       "    }\n",
       "</style>\n",
       "<table border=\"1\" class=\"dataframe\">\n",
       "  <thead>\n",
       "    <tr style=\"text-align: right;\">\n",
       "      <th></th>\n",
       "      <th>title</th>\n",
       "      <th>budget</th>\n",
       "      <th>revenue</th>\n",
       "      <th>return</th>\n",
       "      <th>year</th>\n",
       "    </tr>\n",
       "  </thead>\n",
       "  <tbody>\n",
       "    <tr>\n",
       "      <th>4247</th>\n",
       "      <td>Me You and Five Bucks</td>\n",
       "      <td>1.0</td>\n",
       "      <td>NaN</td>\n",
       "      <td>NaN</td>\n",
       "      <td>2015</td>\n",
       "    </tr>\n",
       "    <tr>\n",
       "      <th>4251</th>\n",
       "      <td>Fetching Cody</td>\n",
       "      <td>1.0</td>\n",
       "      <td>NaN</td>\n",
       "      <td>NaN</td>\n",
       "      <td>2005</td>\n",
       "    </tr>\n",
       "    <tr>\n",
       "      <th>4238</th>\n",
       "      <td>Modern Times</td>\n",
       "      <td>1.0</td>\n",
       "      <td>8500000.0</td>\n",
       "      <td>8500000.0</td>\n",
       "      <td>2036</td>\n",
       "    </tr>\n",
       "    <tr>\n",
       "      <th>4293</th>\n",
       "      <td>The Algerian</td>\n",
       "      <td>1.0</td>\n",
       "      <td>NaN</td>\n",
       "      <td>NaN</td>\n",
       "      <td>2015</td>\n",
       "    </tr>\n",
       "    <tr>\n",
       "      <th>4369</th>\n",
       "      <td>Slam</td>\n",
       "      <td>1.0</td>\n",
       "      <td>NaN</td>\n",
       "      <td>NaN</td>\n",
       "      <td>1998</td>\n",
       "    </tr>\n",
       "    <tr>\n",
       "      <th>4424</th>\n",
       "      <td>Fear Clinic</td>\n",
       "      <td>1.0</td>\n",
       "      <td>NaN</td>\n",
       "      <td>NaN</td>\n",
       "      <td>2014</td>\n",
       "    </tr>\n",
       "    <tr>\n",
       "      <th>4262</th>\n",
       "      <td>Incident at Loch Ness</td>\n",
       "      <td>1.0</td>\n",
       "      <td>NaN</td>\n",
       "      <td>NaN</td>\n",
       "      <td>2004</td>\n",
       "    </tr>\n",
       "    <tr>\n",
       "      <th>4140</th>\n",
       "      <td>To Be Frank, Sinatra at 100</td>\n",
       "      <td>2.0</td>\n",
       "      <td>NaN</td>\n",
       "      <td>NaN</td>\n",
       "      <td>2015</td>\n",
       "    </tr>\n",
       "    <tr>\n",
       "      <th>3967</th>\n",
       "      <td>Four Single Fathers</td>\n",
       "      <td>3.0</td>\n",
       "      <td>NaN</td>\n",
       "      <td>NaN</td>\n",
       "      <td>2009</td>\n",
       "    </tr>\n",
       "    <tr>\n",
       "      <th>3687</th>\n",
       "      <td>Without Men</td>\n",
       "      <td>4.0</td>\n",
       "      <td>NaN</td>\n",
       "      <td>NaN</td>\n",
       "      <td>2011</td>\n",
       "    </tr>\n",
       "  </tbody>\n",
       "</table>\n",
       "</div>"
      ],
      "text/plain": [
       "                            title  budget    revenue     return  year\n",
       "4247        Me You and Five Bucks     1.0        NaN        NaN  2015\n",
       "4251                Fetching Cody     1.0        NaN        NaN  2005\n",
       "4238                 Modern Times     1.0  8500000.0  8500000.0  2036\n",
       "4293                 The Algerian     1.0        NaN        NaN  2015\n",
       "4369                         Slam     1.0        NaN        NaN  1998\n",
       "4424                  Fear Clinic     1.0        NaN        NaN  2014\n",
       "4262        Incident at Loch Ness     1.0        NaN        NaN  2004\n",
       "4140  To Be Frank, Sinatra at 100     2.0        NaN        NaN  2015\n",
       "3967          Four Single Fathers     3.0        NaN        NaN  2009\n",
       "3687                  Without Men     4.0        NaN        NaN  2011"
      ]
     },
     "execution_count": 86,
     "metadata": {},
     "output_type": "execute_result"
    }
   ],
   "source": [
    "df[df['budget'].notnull()][['title', 'budget', 'revenue', 'return', 'year']].sort_values('budget').head(10)"
   ]
  },
  {
   "cell_type": "code",
   "execution_count": 87,
   "metadata": {
    "collapsed": false
   },
   "outputs": [
    {
     "data": {
      "text/html": [
       "<div>\n",
       "<style scoped>\n",
       "    .dataframe tbody tr th:only-of-type {\n",
       "        vertical-align: middle;\n",
       "    }\n",
       "\n",
       "    .dataframe tbody tr th {\n",
       "        vertical-align: top;\n",
       "    }\n",
       "\n",
       "    .dataframe thead th {\n",
       "        text-align: right;\n",
       "    }\n",
       "</style>\n",
       "<table border=\"1\" class=\"dataframe\">\n",
       "  <thead>\n",
       "    <tr style=\"text-align: right;\">\n",
       "      <th></th>\n",
       "      <th>title</th>\n",
       "      <th>budget</th>\n",
       "      <th>revenue</th>\n",
       "      <th>return</th>\n",
       "      <th>year</th>\n",
       "    </tr>\n",
       "  </thead>\n",
       "  <tbody>\n",
       "    <tr>\n",
       "      <th>17</th>\n",
       "      <td>Pirates of the Caribbean: On Stranger Tides</td>\n",
       "      <td>380000000.0</td>\n",
       "      <td>1.045714e+09</td>\n",
       "      <td>2.751878</td>\n",
       "      <td>2011</td>\n",
       "    </tr>\n",
       "    <tr>\n",
       "      <th>1</th>\n",
       "      <td>Pirates of the Caribbean: At World's End</td>\n",
       "      <td>300000000.0</td>\n",
       "      <td>9.610000e+08</td>\n",
       "      <td>3.203333</td>\n",
       "      <td>2007</td>\n",
       "    </tr>\n",
       "    <tr>\n",
       "      <th>7</th>\n",
       "      <td>Avengers: Age of Ultron</td>\n",
       "      <td>280000000.0</td>\n",
       "      <td>1.405404e+09</td>\n",
       "      <td>5.019299</td>\n",
       "      <td>2015</td>\n",
       "    </tr>\n",
       "    <tr>\n",
       "      <th>10</th>\n",
       "      <td>Superman Returns</td>\n",
       "      <td>270000000.0</td>\n",
       "      <td>3.910812e+08</td>\n",
       "      <td>1.448449</td>\n",
       "      <td>2006</td>\n",
       "    </tr>\n",
       "    <tr>\n",
       "      <th>4</th>\n",
       "      <td>John Carter</td>\n",
       "      <td>260000000.0</td>\n",
       "      <td>2.841391e+08</td>\n",
       "      <td>1.092843</td>\n",
       "      <td>2012</td>\n",
       "    </tr>\n",
       "    <tr>\n",
       "      <th>6</th>\n",
       "      <td>Tangled</td>\n",
       "      <td>260000000.0</td>\n",
       "      <td>5.917949e+08</td>\n",
       "      <td>2.276134</td>\n",
       "      <td>2010</td>\n",
       "    </tr>\n",
       "    <tr>\n",
       "      <th>5</th>\n",
       "      <td>Spider-Man 3</td>\n",
       "      <td>258000000.0</td>\n",
       "      <td>8.908716e+08</td>\n",
       "      <td>3.452991</td>\n",
       "      <td>2007</td>\n",
       "    </tr>\n",
       "    <tr>\n",
       "      <th>13</th>\n",
       "      <td>The Lone Ranger</td>\n",
       "      <td>255000000.0</td>\n",
       "      <td>8.928991e+07</td>\n",
       "      <td>0.350157</td>\n",
       "      <td>2013</td>\n",
       "    </tr>\n",
       "    <tr>\n",
       "      <th>46</th>\n",
       "      <td>X-Men: Days of Future Past</td>\n",
       "      <td>250000000.0</td>\n",
       "      <td>7.478628e+08</td>\n",
       "      <td>2.991451</td>\n",
       "      <td>2014</td>\n",
       "    </tr>\n",
       "    <tr>\n",
       "      <th>22</th>\n",
       "      <td>The Hobbit: The Desolation of Smaug</td>\n",
       "      <td>250000000.0</td>\n",
       "      <td>9.584000e+08</td>\n",
       "      <td>3.833600</td>\n",
       "      <td>2013</td>\n",
       "    </tr>\n",
       "  </tbody>\n",
       "</table>\n",
       "</div>"
      ],
      "text/plain": [
       "                                          title       budget       revenue  \\\n",
       "17  Pirates of the Caribbean: On Stranger Tides  380000000.0  1.045714e+09   \n",
       "1      Pirates of the Caribbean: At World's End  300000000.0  9.610000e+08   \n",
       "7                       Avengers: Age of Ultron  280000000.0  1.405404e+09   \n",
       "10                             Superman Returns  270000000.0  3.910812e+08   \n",
       "4                                   John Carter  260000000.0  2.841391e+08   \n",
       "6                                       Tangled  260000000.0  5.917949e+08   \n",
       "5                                  Spider-Man 3  258000000.0  8.908716e+08   \n",
       "13                              The Lone Ranger  255000000.0  8.928991e+07   \n",
       "46                   X-Men: Days of Future Past  250000000.0  7.478628e+08   \n",
       "22          The Hobbit: The Desolation of Smaug  250000000.0  9.584000e+08   \n",
       "\n",
       "      return  year  \n",
       "17  2.751878  2011  \n",
       "1   3.203333  2007  \n",
       "7   5.019299  2015  \n",
       "10  1.448449  2006  \n",
       "4   1.092843  2012  \n",
       "6   2.276134  2010  \n",
       "5   3.452991  2007  \n",
       "13  0.350157  2013  \n",
       "46  2.991451  2014  \n",
       "22  3.833600  2013  "
      ]
     },
     "execution_count": 87,
     "metadata": {},
     "output_type": "execute_result"
    }
   ],
   "source": [
    "df[df['budget'].notnull()][['title', 'budget', 'revenue', 'return', 'year']].sort_values('budget', ascending=False).head(10)"
   ]
  },
  {
   "cell_type": "markdown",
   "metadata": {},
   "source": [
    "### Pirates of the Caribbean: On Stranger Tides is most expensive movies with highest budget in 2011."
   ]
  },
  {
   "cell_type": "code",
   "execution_count": 88,
   "metadata": {
    "collapsed": false
   },
   "outputs": [
    {
     "data": {
      "text/html": [
       "<div>\n",
       "<style scoped>\n",
       "    .dataframe tbody tr th:only-of-type {\n",
       "        vertical-align: middle;\n",
       "    }\n",
       "\n",
       "    .dataframe tbody tr th {\n",
       "        vertical-align: top;\n",
       "    }\n",
       "\n",
       "    .dataframe thead th {\n",
       "        text-align: right;\n",
       "    }\n",
       "</style>\n",
       "<table border=\"1\" class=\"dataframe\">\n",
       "  <thead>\n",
       "    <tr style=\"text-align: right;\">\n",
       "      <th></th>\n",
       "      <th>title</th>\n",
       "      <th>budget</th>\n",
       "      <th>revenue</th>\n",
       "      <th>return</th>\n",
       "      <th>year</th>\n",
       "    </tr>\n",
       "  </thead>\n",
       "  <tbody>\n",
       "    <tr>\n",
       "      <th>4238</th>\n",
       "      <td>Modern Times</td>\n",
       "      <td>1.0</td>\n",
       "      <td>8500000.0</td>\n",
       "      <td>8.500000e+06</td>\n",
       "      <td>2036</td>\n",
       "    </tr>\n",
       "    <tr>\n",
       "      <th>3137</th>\n",
       "      <td>Nurse 3-D</td>\n",
       "      <td>10.0</td>\n",
       "      <td>10000000.0</td>\n",
       "      <td>1.000000e+06</td>\n",
       "      <td>2013</td>\n",
       "    </tr>\n",
       "    <tr>\n",
       "      <th>4577</th>\n",
       "      <td>Paranormal Activity</td>\n",
       "      <td>15000.0</td>\n",
       "      <td>193355800.0</td>\n",
       "      <td>1.289039e+04</td>\n",
       "      <td>2007</td>\n",
       "    </tr>\n",
       "    <tr>\n",
       "      <th>4582</th>\n",
       "      <td>Tarnation</td>\n",
       "      <td>218.0</td>\n",
       "      <td>1162014.0</td>\n",
       "      <td>5.330339e+03</td>\n",
       "      <td>2003</td>\n",
       "    </tr>\n",
       "    <tr>\n",
       "      <th>4496</th>\n",
       "      <td>The Blair Witch Project</td>\n",
       "      <td>60000.0</td>\n",
       "      <td>248000000.0</td>\n",
       "      <td>4.133333e+03</td>\n",
       "      <td>1999</td>\n",
       "    </tr>\n",
       "    <tr>\n",
       "      <th>4724</th>\n",
       "      <td>Eraserhead</td>\n",
       "      <td>10000.0</td>\n",
       "      <td>7000000.0</td>\n",
       "      <td>7.000000e+02</td>\n",
       "      <td>1977</td>\n",
       "    </tr>\n",
       "    <tr>\n",
       "      <th>4788</th>\n",
       "      <td>Pink Flamingos</td>\n",
       "      <td>12000.0</td>\n",
       "      <td>6000000.0</td>\n",
       "      <td>5.000000e+02</td>\n",
       "      <td>1972</td>\n",
       "    </tr>\n",
       "    <tr>\n",
       "      <th>4742</th>\n",
       "      <td>Super Size Me</td>\n",
       "      <td>65000.0</td>\n",
       "      <td>28575078.0</td>\n",
       "      <td>4.396166e+02</td>\n",
       "      <td>2004</td>\n",
       "    </tr>\n",
       "    <tr>\n",
       "      <th>4723</th>\n",
       "      <td>The Gallows</td>\n",
       "      <td>100000.0</td>\n",
       "      <td>42664410.0</td>\n",
       "      <td>4.266441e+02</td>\n",
       "      <td>2015</td>\n",
       "    </tr>\n",
       "    <tr>\n",
       "      <th>4514</th>\n",
       "      <td>Open Water</td>\n",
       "      <td>130000.0</td>\n",
       "      <td>54667954.0</td>\n",
       "      <td>4.205227e+02</td>\n",
       "      <td>2004</td>\n",
       "    </tr>\n",
       "  </tbody>\n",
       "</table>\n",
       "</div>"
      ],
      "text/plain": [
       "                        title    budget      revenue        return  year\n",
       "4238             Modern Times       1.0    8500000.0  8.500000e+06  2036\n",
       "3137                Nurse 3-D      10.0   10000000.0  1.000000e+06  2013\n",
       "4577      Paranormal Activity   15000.0  193355800.0  1.289039e+04  2007\n",
       "4582                Tarnation     218.0    1162014.0  5.330339e+03  2003\n",
       "4496  The Blair Witch Project   60000.0  248000000.0  4.133333e+03  1999\n",
       "4724               Eraserhead   10000.0    7000000.0  7.000000e+02  1977\n",
       "4788           Pink Flamingos   12000.0    6000000.0  5.000000e+02  1972\n",
       "4742            Super Size Me   65000.0   28575078.0  4.396166e+02  2004\n",
       "4723              The Gallows  100000.0   42664410.0  4.266441e+02  2015\n",
       "4514               Open Water  130000.0   54667954.0  4.205227e+02  2004"
      ]
     },
     "execution_count": 88,
     "metadata": {},
     "output_type": "execute_result"
    }
   ],
   "source": [
    "df[df['budget'].notnull()][['title', 'budget', 'revenue', 'return', 'year']].sort_values('return', ascending=False).head(10)"
   ]
  },
  {
   "cell_type": "markdown",
   "metadata": {},
   "source": [
    "### But if we seee return of movie/ sucess of movie it has lowest budget\n",
    "### But from this data analysis as above we can say that most successful movie is \tModern Times"
   ]
  },
  {
   "cell_type": "markdown",
   "metadata": {},
   "source": [
    "### We can say that budget and return has no direct proportional relationship"
   ]
  },
  {
   "cell_type": "markdown",
   "metadata": {},
   "source": [
    "### Let's visualize these features in a plot"
   ]
  },
  {
   "cell_type": "code",
   "execution_count": 89,
   "metadata": {
    "collapsed": false
   },
   "outputs": [
    {
     "data": {
      "text/plain": [
       "<seaborn.axisgrid.JointGrid at 0x7f3885e3e320>"
      ]
     },
     "execution_count": 89,
     "metadata": {},
     "output_type": "execute_result"
    },
    {
     "data": {
      "image/png": "[encoded data removed]",
      "text/plain": [
       "<Figure size 432x432 with 3 Axes>"
      ]
     },
     "metadata": {
      "needs_background": "light"
     },
     "output_type": "display_data"
    }
   ],
   "source": [
    "sns.jointplot(x='budget',y='revenue',data=df[df['return'].notnull()])"
   ]
  },
  {
   "cell_type": "markdown",
   "metadata": {},
   "source": [
    "### Here pearson coefficiest is 0.71 which is showing close relationship between these two features"
   ]
  },
  {
   "cell_type": "markdown",
   "metadata": {},
   "source": [
    "### REVENUE"
   ]
  },
  {
   "cell_type": "markdown",
   "metadata": {},
   "source": [
    "### As we did for budget we will do that same for revenue also"
   ]
  },
  {
   "cell_type": "code",
   "execution_count": 90,
   "metadata": {
    "collapsed": false
   },
   "outputs": [
    {
     "data": {
      "text/plain": [
       "count    3.376000e+03\n",
       "mean     1.170314e+08\n",
       "std      1.834831e+08\n",
       "min      5.000000e+00\n",
       "25%      1.535290e+07\n",
       "50%      5.175184e+07\n",
       "75%      1.401651e+08\n",
       "max      2.787965e+09\n",
       "Name: revenue, dtype: float64"
      ]
     },
     "execution_count": 90,
     "metadata": {},
     "output_type": "execute_result"
    }
   ],
   "source": [
    "df['revenue'].describe()"
   ]
  },
  {
   "cell_type": "code",
   "execution_count": 91,
   "metadata": {
    "collapsed": false,
    "scrolled": true
   },
   "outputs": [
    {
     "data": {
      "text/plain": [
       "117031400"
      ]
     },
     "execution_count": 91,
     "metadata": {},
     "output_type": "execute_result"
    }
   ],
   "source": [
    "round(1.170314e+08) # mean is 11.7 crores"
   ]
  },
  {
   "cell_type": "code",
   "execution_count": 92,
   "metadata": {
    "collapsed": false
   },
   "outputs": [
    {
     "data": {
      "text/plain": [
       "51751840"
      ]
     },
     "execution_count": 92,
     "metadata": {},
     "output_type": "execute_result"
    }
   ],
   "source": [
    "round(5.175184e+07)  # 50% for budget data is 5.1 crores"
   ]
  },
  {
   "cell_type": "code",
   "execution_count": 93,
   "metadata": {
    "collapsed": false
   },
   "outputs": [
    {
     "data": {
      "text/plain": [
       "2787965000"
      ]
     },
     "execution_count": 93,
     "metadata": {},
     "output_type": "execute_result"
    }
   ],
   "source": [
    "round(2.787965e+09) # max value is 278 crores"
   ]
  },
  {
   "cell_type": "markdown",
   "metadata": {},
   "source": [
    "### Since mean is very less than max value therefore there are so many outliers in data"
   ]
  },
  {
   "cell_type": "code",
   "execution_count": 94,
   "metadata": {
    "collapsed": false
   },
   "outputs": [
    {
     "data": {
      "text/plain": [
       "<matplotlib.axes._subplots.AxesSubplot at 0x7f38860a87f0>"
      ]
     },
     "execution_count": 94,
     "metadata": {},
     "output_type": "execute_result"
    },
    {
     "data": {
      "image/png": "[encoded data removed]",
      "text/plain": [
       "<Figure size 432x288 with 1 Axes>"
      ]
     },
     "metadata": {
      "needs_background": "light"
     },
     "output_type": "display_data"
    }
   ],
   "source": [
    "sns.distplot(df[df['revenue'].notnull()]['revenue'])"
   ]
  },
  {
   "cell_type": "markdown",
   "metadata": {},
   "source": [
    "### This is showing same results as for budget and right skewed plot and showimg that most of movies have less revenue and less movies have high revenue"
   ]
  },
  {
   "cell_type": "markdown",
   "metadata": {},
   "source": [
    "### Now we will see for high revenue movies as we did for high return and high budget movies"
   ]
  },
  {
   "cell_type": "code",
   "execution_count": 95,
   "metadata": {
    "collapsed": false
   },
   "outputs": [
    {
     "data": {
      "text/html": [
       "<div>\n",
       "<style scoped>\n",
       "    .dataframe tbody tr th:only-of-type {\n",
       "        vertical-align: middle;\n",
       "    }\n",
       "\n",
       "    .dataframe tbody tr th {\n",
       "        vertical-align: top;\n",
       "    }\n",
       "\n",
       "    .dataframe thead th {\n",
       "        text-align: right;\n",
       "    }\n",
       "</style>\n",
       "<table border=\"1\" class=\"dataframe\">\n",
       "  <thead>\n",
       "    <tr style=\"text-align: right;\">\n",
       "      <th></th>\n",
       "      <th>title</th>\n",
       "      <th>budget</th>\n",
       "      <th>revenue</th>\n",
       "      <th>return</th>\n",
       "      <th>year</th>\n",
       "    </tr>\n",
       "  </thead>\n",
       "  <tbody>\n",
       "    <tr>\n",
       "      <th>0</th>\n",
       "      <td>Avatar</td>\n",
       "      <td>237000000.0</td>\n",
       "      <td>2.787965e+09</td>\n",
       "      <td>11.763566</td>\n",
       "      <td>2009</td>\n",
       "    </tr>\n",
       "    <tr>\n",
       "      <th>25</th>\n",
       "      <td>Titanic</td>\n",
       "      <td>200000000.0</td>\n",
       "      <td>1.845034e+09</td>\n",
       "      <td>9.225171</td>\n",
       "      <td>1997</td>\n",
       "    </tr>\n",
       "    <tr>\n",
       "      <th>16</th>\n",
       "      <td>The Avengers</td>\n",
       "      <td>220000000.0</td>\n",
       "      <td>1.519558e+09</td>\n",
       "      <td>6.907081</td>\n",
       "      <td>2012</td>\n",
       "    </tr>\n",
       "    <tr>\n",
       "      <th>28</th>\n",
       "      <td>Jurassic World</td>\n",
       "      <td>150000000.0</td>\n",
       "      <td>1.513529e+09</td>\n",
       "      <td>10.090192</td>\n",
       "      <td>2015</td>\n",
       "    </tr>\n",
       "    <tr>\n",
       "      <th>44</th>\n",
       "      <td>Furious 7</td>\n",
       "      <td>190000000.0</td>\n",
       "      <td>1.506249e+09</td>\n",
       "      <td>7.927628</td>\n",
       "      <td>2015</td>\n",
       "    </tr>\n",
       "    <tr>\n",
       "      <th>7</th>\n",
       "      <td>Avengers: Age of Ultron</td>\n",
       "      <td>280000000.0</td>\n",
       "      <td>1.405404e+09</td>\n",
       "      <td>5.019299</td>\n",
       "      <td>2015</td>\n",
       "    </tr>\n",
       "    <tr>\n",
       "      <th>124</th>\n",
       "      <td>Frozen</td>\n",
       "      <td>150000000.0</td>\n",
       "      <td>1.274219e+09</td>\n",
       "      <td>8.494793</td>\n",
       "      <td>2013</td>\n",
       "    </tr>\n",
       "    <tr>\n",
       "      <th>31</th>\n",
       "      <td>Iron Man 3</td>\n",
       "      <td>200000000.0</td>\n",
       "      <td>1.215440e+09</td>\n",
       "      <td>6.077200</td>\n",
       "      <td>2013</td>\n",
       "    </tr>\n",
       "    <tr>\n",
       "      <th>546</th>\n",
       "      <td>Minions</td>\n",
       "      <td>74000000.0</td>\n",
       "      <td>1.156731e+09</td>\n",
       "      <td>15.631499</td>\n",
       "      <td>2015</td>\n",
       "    </tr>\n",
       "    <tr>\n",
       "      <th>26</th>\n",
       "      <td>Captain America: Civil War</td>\n",
       "      <td>250000000.0</td>\n",
       "      <td>1.153304e+09</td>\n",
       "      <td>4.613218</td>\n",
       "      <td>2016</td>\n",
       "    </tr>\n",
       "  </tbody>\n",
       "</table>\n",
       "</div>"
      ],
      "text/plain": [
       "                          title       budget       revenue     return  year\n",
       "0                        Avatar  237000000.0  2.787965e+09  11.763566  2009\n",
       "25                      Titanic  200000000.0  1.845034e+09   9.225171  1997\n",
       "16                 The Avengers  220000000.0  1.519558e+09   6.907081  2012\n",
       "28               Jurassic World  150000000.0  1.513529e+09  10.090192  2015\n",
       "44                    Furious 7  190000000.0  1.506249e+09   7.927628  2015\n",
       "7       Avengers: Age of Ultron  280000000.0  1.405404e+09   5.019299  2015\n",
       "124                      Frozen  150000000.0  1.274219e+09   8.494793  2013\n",
       "31                   Iron Man 3  200000000.0  1.215440e+09   6.077200  2013\n",
       "546                     Minions   74000000.0  1.156731e+09  15.631499  2015\n",
       "26   Captain America: Civil War  250000000.0  1.153304e+09   4.613218  2016"
      ]
     },
     "execution_count": 95,
     "metadata": {},
     "output_type": "execute_result"
    }
   ],
   "source": [
    "df[df['budget'].notnull()][['title', 'budget', 'revenue', 'return', 'year']].sort_values('revenue', ascending=False).head(10)"
   ]
  },
  {
   "cell_type": "markdown",
   "metadata": {},
   "source": [
    "### Avatar is at highest revenue but not with highest return and highest budget so this is showing that revenue has no direct proportional relationship with either budget or returns of movies."
   ]
  },
  {
   "cell_type": "markdown",
   "metadata": {},
   "source": [
    "### Returns"
   ]
  },
  {
   "cell_type": "code",
   "execution_count": 96,
   "metadata": {
    "collapsed": false
   },
   "outputs": [
    {
     "data": {
      "text/html": [
       "<div>\n",
       "<style scoped>\n",
       "    .dataframe tbody tr th:only-of-type {\n",
       "        vertical-align: middle;\n",
       "    }\n",
       "\n",
       "    .dataframe tbody tr th {\n",
       "        vertical-align: top;\n",
       "    }\n",
       "\n",
       "    .dataframe thead th {\n",
       "        text-align: right;\n",
       "    }\n",
       "</style>\n",
       "<table border=\"1\" class=\"dataframe\">\n",
       "  <thead>\n",
       "    <tr style=\"text-align: right;\">\n",
       "      <th></th>\n",
       "      <th>title</th>\n",
       "      <th>budget</th>\n",
       "      <th>revenue</th>\n",
       "      <th>return</th>\n",
       "      <th>year</th>\n",
       "    </tr>\n",
       "  </thead>\n",
       "  <tbody>\n",
       "    <tr>\n",
       "      <th>4238</th>\n",
       "      <td>Modern Times</td>\n",
       "      <td>1.0</td>\n",
       "      <td>8500000.0</td>\n",
       "      <td>8.500000e+06</td>\n",
       "      <td>2036</td>\n",
       "    </tr>\n",
       "    <tr>\n",
       "      <th>3137</th>\n",
       "      <td>Nurse 3-D</td>\n",
       "      <td>10.0</td>\n",
       "      <td>10000000.0</td>\n",
       "      <td>1.000000e+06</td>\n",
       "      <td>2013</td>\n",
       "    </tr>\n",
       "    <tr>\n",
       "      <th>4577</th>\n",
       "      <td>Paranormal Activity</td>\n",
       "      <td>15000.0</td>\n",
       "      <td>193355800.0</td>\n",
       "      <td>1.289039e+04</td>\n",
       "      <td>2007</td>\n",
       "    </tr>\n",
       "    <tr>\n",
       "      <th>4582</th>\n",
       "      <td>Tarnation</td>\n",
       "      <td>218.0</td>\n",
       "      <td>1162014.0</td>\n",
       "      <td>5.330339e+03</td>\n",
       "      <td>2003</td>\n",
       "    </tr>\n",
       "    <tr>\n",
       "      <th>4496</th>\n",
       "      <td>The Blair Witch Project</td>\n",
       "      <td>60000.0</td>\n",
       "      <td>248000000.0</td>\n",
       "      <td>4.133333e+03</td>\n",
       "      <td>1999</td>\n",
       "    </tr>\n",
       "    <tr>\n",
       "      <th>4724</th>\n",
       "      <td>Eraserhead</td>\n",
       "      <td>10000.0</td>\n",
       "      <td>7000000.0</td>\n",
       "      <td>7.000000e+02</td>\n",
       "      <td>1977</td>\n",
       "    </tr>\n",
       "    <tr>\n",
       "      <th>4788</th>\n",
       "      <td>Pink Flamingos</td>\n",
       "      <td>12000.0</td>\n",
       "      <td>6000000.0</td>\n",
       "      <td>5.000000e+02</td>\n",
       "      <td>1972</td>\n",
       "    </tr>\n",
       "    <tr>\n",
       "      <th>4742</th>\n",
       "      <td>Super Size Me</td>\n",
       "      <td>65000.0</td>\n",
       "      <td>28575078.0</td>\n",
       "      <td>4.396166e+02</td>\n",
       "      <td>2004</td>\n",
       "    </tr>\n",
       "    <tr>\n",
       "      <th>4723</th>\n",
       "      <td>The Gallows</td>\n",
       "      <td>100000.0</td>\n",
       "      <td>42664410.0</td>\n",
       "      <td>4.266441e+02</td>\n",
       "      <td>2015</td>\n",
       "    </tr>\n",
       "    <tr>\n",
       "      <th>4514</th>\n",
       "      <td>Open Water</td>\n",
       "      <td>130000.0</td>\n",
       "      <td>54667954.0</td>\n",
       "      <td>4.205227e+02</td>\n",
       "      <td>2004</td>\n",
       "    </tr>\n",
       "  </tbody>\n",
       "</table>\n",
       "</div>"
      ],
      "text/plain": [
       "                        title    budget      revenue        return  year\n",
       "4238             Modern Times       1.0    8500000.0  8.500000e+06  2036\n",
       "3137                Nurse 3-D      10.0   10000000.0  1.000000e+06  2013\n",
       "4577      Paranormal Activity   15000.0  193355800.0  1.289039e+04  2007\n",
       "4582                Tarnation     218.0    1162014.0  5.330339e+03  2003\n",
       "4496  The Blair Witch Project   60000.0  248000000.0  4.133333e+03  1999\n",
       "4724               Eraserhead   10000.0    7000000.0  7.000000e+02  1977\n",
       "4788           Pink Flamingos   12000.0    6000000.0  5.000000e+02  1972\n",
       "4742            Super Size Me   65000.0   28575078.0  4.396166e+02  2004\n",
       "4723              The Gallows  100000.0   42664410.0  4.266441e+02  2015\n",
       "4514               Open Water  130000.0   54667954.0  4.205227e+02  2004"
      ]
     },
     "execution_count": 96,
     "metadata": {},
     "output_type": "execute_result"
    }
   ],
   "source": [
    "df[(df['return'].notnull()) & (df['budget'] > 0)][['title', 'budget', 'revenue', 'return', 'year']].sort_values('return', ascending=False).head(10)"
   ]
  },
  {
   "cell_type": "code",
   "execution_count": 97,
   "metadata": {
    "collapsed": false
   },
   "outputs": [
    {
     "data": {
      "text/html": [
       "<div>\n",
       "<style scoped>\n",
       "    .dataframe tbody tr th:only-of-type {\n",
       "        vertical-align: middle;\n",
       "    }\n",
       "\n",
       "    .dataframe tbody tr th {\n",
       "        vertical-align: top;\n",
       "    }\n",
       "\n",
       "    .dataframe thead th {\n",
       "        text-align: right;\n",
       "    }\n",
       "</style>\n",
       "<table border=\"1\" class=\"dataframe\">\n",
       "  <thead>\n",
       "    <tr style=\"text-align: right;\">\n",
       "      <th></th>\n",
       "      <th>title</th>\n",
       "      <th>budget</th>\n",
       "      <th>revenue</th>\n",
       "      <th>return</th>\n",
       "      <th>year</th>\n",
       "    </tr>\n",
       "  </thead>\n",
       "  <tbody>\n",
       "    <tr>\n",
       "      <th>1655</th>\n",
       "      <td>Chasing Liberty</td>\n",
       "      <td>23000000.0</td>\n",
       "      <td>12.0</td>\n",
       "      <td>5.217391e-07</td>\n",
       "      <td>2004</td>\n",
       "    </tr>\n",
       "    <tr>\n",
       "      <th>2485</th>\n",
       "      <td>The Cookout</td>\n",
       "      <td>16000000.0</td>\n",
       "      <td>12.0</td>\n",
       "      <td>7.500000e-07</td>\n",
       "      <td>2004</td>\n",
       "    </tr>\n",
       "    <tr>\n",
       "      <th>2874</th>\n",
       "      <td>In the Cut</td>\n",
       "      <td>12000000.0</td>\n",
       "      <td>23.0</td>\n",
       "      <td>1.916667e-06</td>\n",
       "      <td>2003</td>\n",
       "    </tr>\n",
       "    <tr>\n",
       "      <th>3875</th>\n",
       "      <td>Dreaming of Joseph Lees</td>\n",
       "      <td>2000000.0</td>\n",
       "      <td>7.0</td>\n",
       "      <td>3.500000e-06</td>\n",
       "      <td>1999</td>\n",
       "    </tr>\n",
       "    <tr>\n",
       "      <th>2068</th>\n",
       "      <td>Death at a Funeral</td>\n",
       "      <td>9000000.0</td>\n",
       "      <td>46.0</td>\n",
       "      <td>5.111111e-06</td>\n",
       "      <td>2007</td>\n",
       "    </tr>\n",
       "    <tr>\n",
       "      <th>1999</th>\n",
       "      <td>The Adventurer: The Curse of the Midas Box</td>\n",
       "      <td>25000000.0</td>\n",
       "      <td>6399.0</td>\n",
       "      <td>2.559600e-04</td>\n",
       "      <td>2013</td>\n",
       "    </tr>\n",
       "    <tr>\n",
       "      <th>2901</th>\n",
       "      <td>5 Days of War</td>\n",
       "      <td>20000000.0</td>\n",
       "      <td>17479.0</td>\n",
       "      <td>8.739500e-04</td>\n",
       "      <td>2011</td>\n",
       "    </tr>\n",
       "    <tr>\n",
       "      <th>3121</th>\n",
       "      <td>Janky Promoters</td>\n",
       "      <td>10000000.0</td>\n",
       "      <td>9069.0</td>\n",
       "      <td>9.069000e-04</td>\n",
       "      <td>2009</td>\n",
       "    </tr>\n",
       "    <tr>\n",
       "      <th>1101</th>\n",
       "      <td>Foodfight!</td>\n",
       "      <td>65000000.0</td>\n",
       "      <td>73706.0</td>\n",
       "      <td>1.133938e-03</td>\n",
       "      <td>2012</td>\n",
       "    </tr>\n",
       "    <tr>\n",
       "      <th>2651</th>\n",
       "      <td>The Good Night</td>\n",
       "      <td>15000000.0</td>\n",
       "      <td>20380.0</td>\n",
       "      <td>1.358667e-03</td>\n",
       "      <td>2007</td>\n",
       "    </tr>\n",
       "  </tbody>\n",
       "</table>\n",
       "</div>"
      ],
      "text/plain": [
       "                                           title      budget  revenue  \\\n",
       "1655                             Chasing Liberty  23000000.0     12.0   \n",
       "2485                                 The Cookout  16000000.0     12.0   \n",
       "2874                                  In the Cut  12000000.0     23.0   \n",
       "3875                     Dreaming of Joseph Lees   2000000.0      7.0   \n",
       "2068                          Death at a Funeral   9000000.0     46.0   \n",
       "1999  The Adventurer: The Curse of the Midas Box  25000000.0   6399.0   \n",
       "2901                               5 Days of War  20000000.0  17479.0   \n",
       "3121                             Janky Promoters  10000000.0   9069.0   \n",
       "1101                                  Foodfight!  65000000.0  73706.0   \n",
       "2651                              The Good Night  15000000.0  20380.0   \n",
       "\n",
       "            return  year  \n",
       "1655  5.217391e-07  2004  \n",
       "2485  7.500000e-07  2004  \n",
       "2874  1.916667e-06  2003  \n",
       "3875  3.500000e-06  1999  \n",
       "2068  5.111111e-06  2007  \n",
       "1999  2.559600e-04  2013  \n",
       "2901  8.739500e-04  2011  \n",
       "3121  9.069000e-04  2009  \n",
       "1101  1.133938e-03  2012  \n",
       "2651  1.358667e-03  2007  "
      ]
     },
     "execution_count": 97,
     "metadata": {},
     "output_type": "execute_result"
    }
   ],
   "source": [
    "df[(df['return'].notnull()) & (df['budget'] > 0)][['title', 'budget', 'revenue', 'return', 'year']].sort_values('return').head(10)"
   ]
  },
  {
   "cell_type": "code",
   "execution_count": 98,
   "metadata": {
    "collapsed": false
   },
   "outputs": [
    {
     "data": {
      "text/plain": [
       "8500000"
      ]
     },
     "execution_count": 98,
     "metadata": {},
     "output_type": "execute_result"
    }
   ],
   "source": [
    "round(8.500000e+06) # highest return/most successful movies with 85 lakhs"
   ]
  },
  {
   "cell_type": "code",
   "execution_count": 99,
   "metadata": {
    "collapsed": false
   },
   "outputs": [
    {
     "data": {
      "text/plain": [
       "0"
      ]
     },
     "execution_count": 99,
     "metadata": {},
     "output_type": "execute_result"
    }
   ],
   "source": [
    "round(5.217391e-07)  # lowest return/least successful movies with approx zero return"
   ]
  },
  {
   "cell_type": "code",
   "execution_count": 100,
   "metadata": {
    "collapsed": false
   },
   "outputs": [
    {
     "data": {
      "text/plain": [
       "Index(['budget', 'genres', 'homepage', 'id', 'keywords', 'original_language',\n",
       "       'overview', 'popularity', 'production_companies',\n",
       "       'production_countries', 'release_date', 'revenue', 'runtime',\n",
       "       'spoken_languages', 'status', 'tagline', 'title', 'vote_average',\n",
       "       'vote_count', 'return', 'year'],\n",
       "      dtype='object')"
      ]
     },
     "execution_count": 100,
     "metadata": {},
     "output_type": "execute_result"
    }
   ],
   "source": [
    "df.columns"
   ]
  },
  {
   "cell_type": "markdown",
   "metadata": {},
   "source": [
    "### It's time to create correlation matrix for all features with each other"
   ]
  },
  {
   "cell_type": "markdown",
   "metadata": {},
   "source": [
    "### Let's remove some features which has  no use i.e. 'homepage', 'id', 'keywords', 'tagline'"
   ]
  },
  {
   "cell_type": "code",
   "execution_count": 101,
   "metadata": {
    "collapsed": false
   },
   "outputs": [],
   "source": [
    "df_new=df.drop( ['homepage', 'id', 'keywords', 'tagline'], axis=1)"
   ]
  },
  {
   "cell_type": "code",
   "execution_count": 102,
   "metadata": {
    "collapsed": false
   },
   "outputs": [
    {
     "data": {
      "text/html": [
       "<div>\n",
       "<style scoped>\n",
       "    .dataframe tbody tr th:only-of-type {\n",
       "        vertical-align: middle;\n",
       "    }\n",
       "\n",
       "    .dataframe tbody tr th {\n",
       "        vertical-align: top;\n",
       "    }\n",
       "\n",
       "    .dataframe thead th {\n",
       "        text-align: right;\n",
       "    }\n",
       "</style>\n",
       "<table border=\"1\" class=\"dataframe\">\n",
       "  <thead>\n",
       "    <tr style=\"text-align: right;\">\n",
       "      <th></th>\n",
       "      <th>budget</th>\n",
       "      <th>genres</th>\n",
       "      <th>original_language</th>\n",
       "      <th>overview</th>\n",
       "      <th>popularity</th>\n",
       "      <th>production_companies</th>\n",
       "      <th>production_countries</th>\n",
       "      <th>release_date</th>\n",
       "      <th>revenue</th>\n",
       "      <th>runtime</th>\n",
       "      <th>spoken_languages</th>\n",
       "      <th>status</th>\n",
       "      <th>title</th>\n",
       "      <th>vote_average</th>\n",
       "      <th>vote_count</th>\n",
       "      <th>return</th>\n",
       "      <th>year</th>\n",
       "    </tr>\n",
       "  </thead>\n",
       "  <tbody>\n",
       "    <tr>\n",
       "      <th>0</th>\n",
       "      <td>237000000.0</td>\n",
       "      <td>[Action, Adventure, Fantasy, Science Fiction]</td>\n",
       "      <td>en</td>\n",
       "      <td>In the 22nd century, a paraplegic Marine is di...</td>\n",
       "      <td>150.437577</td>\n",
       "      <td>[{\"name\": \"Ingenious Film Partners\", \"id\": 289...</td>\n",
       "      <td>[United States of America, United Kingdom]</td>\n",
       "      <td>12/10/09</td>\n",
       "      <td>2.787965e+09</td>\n",
       "      <td>162.0</td>\n",
       "      <td>2</td>\n",
       "      <td>Released</td>\n",
       "      <td>Avatar</td>\n",
       "      <td>7.2</td>\n",
       "      <td>11800.0</td>\n",
       "      <td>11.763566</td>\n",
       "      <td>2009</td>\n",
       "    </tr>\n",
       "    <tr>\n",
       "      <th>1</th>\n",
       "      <td>300000000.0</td>\n",
       "      <td>[Adventure, Fantasy, Action]</td>\n",
       "      <td>en</td>\n",
       "      <td>Captain Barbossa, long believed to be dead, ha...</td>\n",
       "      <td>139.082615</td>\n",
       "      <td>[{\"name\": \"Walt Disney Pictures\", \"id\": 2}, {\"...</td>\n",
       "      <td>[United States of America]</td>\n",
       "      <td>5/19/07</td>\n",
       "      <td>9.610000e+08</td>\n",
       "      <td>169.0</td>\n",
       "      <td>1</td>\n",
       "      <td>Released</td>\n",
       "      <td>Pirates of the Caribbean: At World's End</td>\n",
       "      <td>6.9</td>\n",
       "      <td>4500.0</td>\n",
       "      <td>3.203333</td>\n",
       "      <td>2007</td>\n",
       "    </tr>\n",
       "    <tr>\n",
       "      <th>2</th>\n",
       "      <td>245000000.0</td>\n",
       "      <td>[Action, Adventure, Crime]</td>\n",
       "      <td>en</td>\n",
       "      <td>A cryptic message from Bond’s past sends him o...</td>\n",
       "      <td>107.376788</td>\n",
       "      <td>[{\"name\": \"Columbia Pictures\", \"id\": 5}, {\"nam...</td>\n",
       "      <td>[United Kingdom, United States of America]</td>\n",
       "      <td>10/26/15</td>\n",
       "      <td>8.806746e+08</td>\n",
       "      <td>148.0</td>\n",
       "      <td>5</td>\n",
       "      <td>Released</td>\n",
       "      <td>Spectre</td>\n",
       "      <td>6.3</td>\n",
       "      <td>4466.0</td>\n",
       "      <td>3.594590</td>\n",
       "      <td>2015</td>\n",
       "    </tr>\n",
       "    <tr>\n",
       "      <th>3</th>\n",
       "      <td>250000000.0</td>\n",
       "      <td>[Action, Crime, Drama, Thriller]</td>\n",
       "      <td>en</td>\n",
       "      <td>Following the death of District Attorney Harve...</td>\n",
       "      <td>112.312950</td>\n",
       "      <td>[{\"name\": \"Legendary Pictures\", \"id\": 923}, {\"...</td>\n",
       "      <td>[United States of America]</td>\n",
       "      <td>7/16/12</td>\n",
       "      <td>1.084939e+09</td>\n",
       "      <td>165.0</td>\n",
       "      <td>1</td>\n",
       "      <td>Released</td>\n",
       "      <td>The Dark Knight Rises</td>\n",
       "      <td>7.6</td>\n",
       "      <td>9106.0</td>\n",
       "      <td>4.339756</td>\n",
       "      <td>2012</td>\n",
       "    </tr>\n",
       "    <tr>\n",
       "      <th>4</th>\n",
       "      <td>260000000.0</td>\n",
       "      <td>[Action, Adventure, Science Fiction]</td>\n",
       "      <td>en</td>\n",
       "      <td>John Carter is a war-weary, former military ca...</td>\n",
       "      <td>43.926995</td>\n",
       "      <td>[{\"name\": \"Walt Disney Pictures\", \"id\": 2}]</td>\n",
       "      <td>[United States of America]</td>\n",
       "      <td>3/7/12</td>\n",
       "      <td>2.841391e+08</td>\n",
       "      <td>132.0</td>\n",
       "      <td>1</td>\n",
       "      <td>Released</td>\n",
       "      <td>John Carter</td>\n",
       "      <td>6.1</td>\n",
       "      <td>2124.0</td>\n",
       "      <td>1.092843</td>\n",
       "      <td>2012</td>\n",
       "    </tr>\n",
       "  </tbody>\n",
       "</table>\n",
       "</div>"
      ],
      "text/plain": [
       "        budget                                         genres  \\\n",
       "0  237000000.0  [Action, Adventure, Fantasy, Science Fiction]   \n",
       "1  300000000.0                   [Adventure, Fantasy, Action]   \n",
       "2  245000000.0                     [Action, Adventure, Crime]   \n",
       "3  250000000.0               [Action, Crime, Drama, Thriller]   \n",
       "4  260000000.0           [Action, Adventure, Science Fiction]   \n",
       "\n",
       "  original_language                                           overview  \\\n",
       "0                en  In the 22nd century, a paraplegic Marine is di...   \n",
       "1                en  Captain Barbossa, long believed to be dead, ha...   \n",
       "2                en  A cryptic message from Bond’s past sends him o...   \n",
       "3                en  Following the death of District Attorney Harve...   \n",
       "4                en  John Carter is a war-weary, former military ca...   \n",
       "\n",
       "   popularity                               production_companies  \\\n",
       "0  150.437577  [{\"name\": \"Ingenious Film Partners\", \"id\": 289...   \n",
       "1  139.082615  [{\"name\": \"Walt Disney Pictures\", \"id\": 2}, {\"...   \n",
       "2  107.376788  [{\"name\": \"Columbia Pictures\", \"id\": 5}, {\"nam...   \n",
       "3  112.312950  [{\"name\": \"Legendary Pictures\", \"id\": 923}, {\"...   \n",
       "4   43.926995        [{\"name\": \"Walt Disney Pictures\", \"id\": 2}]   \n",
       "\n",
       "                         production_countries release_date       revenue  \\\n",
       "0  [United States of America, United Kingdom]     12/10/09  2.787965e+09   \n",
       "1                  [United States of America]      5/19/07  9.610000e+08   \n",
       "2  [United Kingdom, United States of America]     10/26/15  8.806746e+08   \n",
       "3                  [United States of America]      7/16/12  1.084939e+09   \n",
       "4                  [United States of America]       3/7/12  2.841391e+08   \n",
       "\n",
       "   runtime  spoken_languages    status  \\\n",
       "0    162.0                 2  Released   \n",
       "1    169.0                 1  Released   \n",
       "2    148.0                 5  Released   \n",
       "3    165.0                 1  Released   \n",
       "4    132.0                 1  Released   \n",
       "\n",
       "                                      title  vote_average  vote_count  \\\n",
       "0                                    Avatar           7.2     11800.0   \n",
       "1  Pirates of the Caribbean: At World's End           6.9      4500.0   \n",
       "2                                   Spectre           6.3      4466.0   \n",
       "3                     The Dark Knight Rises           7.6      9106.0   \n",
       "4                               John Carter           6.1      2124.0   \n",
       "\n",
       "      return  year  \n",
       "0  11.763566  2009  \n",
       "1   3.203333  2007  \n",
       "2   3.594590  2015  \n",
       "3   4.339756  2012  \n",
       "4   1.092843  2012  "
      ]
     },
     "execution_count": 102,
     "metadata": {},
     "output_type": "execute_result"
    }
   ],
   "source": [
    "df_new.head()"
   ]
  },
  {
   "cell_type": "code",
   "execution_count": 103,
   "metadata": {
    "collapsed": false
   },
   "outputs": [
    {
     "data": {
      "text/plain": [
       "Index(['budget', 'genres', 'original_language', 'overview', 'popularity',\n",
       "       'production_companies', 'production_countries', 'release_date',\n",
       "       'revenue', 'runtime', 'spoken_languages', 'status', 'title',\n",
       "       'vote_average', 'vote_count', 'return', 'year'],\n",
       "      dtype='object')"
      ]
     },
     "execution_count": 103,
     "metadata": {},
     "output_type": "execute_result"
    }
   ],
   "source": [
    "df_new.columns"
   ]
  },
  {
   "cell_type": "code",
   "execution_count": 104,
   "metadata": {
    "collapsed": true
   },
   "outputs": [],
   "source": [
    "matrix=df_new.corr()"
   ]
  },
  {
   "cell_type": "code",
   "execution_count": 105,
   "metadata": {
    "collapsed": false
   },
   "outputs": [
    {
     "data": {
      "text/plain": [
       "<matplotlib.axes._subplots.AxesSubplot at 0x7f388241ce48>"
      ]
     },
     "execution_count": 105,
     "metadata": {},
     "output_type": "execute_result"
    },
    {
     "data": {
      "image/png": "[encoded data removed]",
      "text/plain": [
       "<Figure size 648x576 with 2 Axes>"
      ]
     },
     "metadata": {
      "needs_background": "light"
     },
     "output_type": "display_data"
    }
   ],
   "source": [
    "relation=plt.subplots(figsize=(9,8))\n",
    "sns.heatmap(matrix, square=True, cmap=\"BuPu\", vmin=0.0, vmax= 1.0)"
   ]
  },
  {
   "cell_type": "markdown",
   "metadata": {
    "collapsed": true
   },
   "source": [
    "### Now it's clear pictue with all correlations between all features. Degree of correlation is shown by vertical line at right end with colour intensity.\n",
    "### More explaination and analysis is mentioned in report."
   ]
  },
  {
   "cell_type": "code",
   "execution_count": null,
   "metadata": {
    "collapsed": true
   },
   "outputs": [],
   "source": []
  },
  {
   "cell_type": "code",
   "execution_count": null,
   "metadata": {
    "collapsed": true
   },
   "outputs": [],
   "source": []
  },
  {
   "cell_type": "code",
   "execution_count": null,
   "metadata": {
    "collapsed": true
   },
   "outputs": [],
   "source": []
  },
  {
   "cell_type": "code",
   "execution_count": null,
   "metadata": {
    "collapsed": true
   },
   "outputs": [],
   "source": []
  },
  {
   "cell_type": "code",
   "execution_count": null,
   "metadata": {
    "collapsed": true
   },
   "outputs": [],
   "source": []
  },
  {
   "cell_type": "code",
   "execution_count": null,
   "metadata": {
    "collapsed": true
   },
   "outputs": [],
   "source": []
  },
  {
   "cell_type": "code",
   "execution_count": null,
   "metadata": {
    "collapsed": true
   },
   "outputs": [],
   "source": []
  },
  {
   "cell_type": "code",
   "execution_count": null,
   "metadata": {
    "collapsed": true
   },
   "outputs": [],
   "source": []
  },
  {
   "cell_type": "code",
   "execution_count": null,
   "metadata": {
    "collapsed": true
   },
   "outputs": [],
   "source": []
  }
 ],
 "metadata": {
  "kernelspec": {
   "display_name": "Python 3",
   "language": "python",
   "name": "python3"
  },
  "language_info": {
   "codemirror_mode": {
    "name": "ipython",
    "version": 3
   },
   "file_extension": ".py",
   "mimetype": "text/x-python",
   "name": "python",
   "nbconvert_exporter": "python",
   "pygments_lexer": "ipython3",
   "version": "3.5.2"
  },
  "widgets": {
   "state": {},
   "version": "1.1.2"
  }
 },
 "nbformat": 4,
 "nbformat_minor": 0
}
